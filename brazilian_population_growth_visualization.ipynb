{
 "cells": [
  {
   "cell_type": "markdown",
   "id": "d9f7c68e",
   "metadata": {},
   "source": [
    "# Data Visualization with Python\n",
    "\n",
    "**Objectives**\n",
    "\n",
    "* Visualize Data with Python\n",
    "* Get to know the MATPLOTLIB PYPLOT library\n",
    "* Build line, bar, scatter and boxplot charts\n",
    "* Manipulate data to build graphs\n",
    "\n",
    "**Dataset features**\n",
    "\n",
    "Brazilian population growth from 1980 to 2016\n",
    "\n",
    "* Rows: 37\n",
    "* Columns: 2\n",
    "* File format: csv"
   ]
  },
  {
   "cell_type": "markdown",
   "id": "f5505a65",
   "metadata": {},
   "source": [
    "### Implementing in Python"
   ]
  },
  {
   "cell_type": "code",
   "execution_count": 1,
   "id": "bf7ee939",
   "metadata": {},
   "outputs": [
    {
     "data": {
      "image/png": "[encoded data removed]",
      "text/plain": [
       "<Figure size 432x288 with 1 Axes>"
      ]
     },
     "metadata": {
      "needs_background": "light"
     },
     "output_type": "display_data"
    },
    {
     "data": {
      "text/plain": [
       "<Figure size 432x288 with 0 Axes>"
      ]
     },
     "metadata": {},
     "output_type": "display_data"
    }
   ],
   "source": [
    "import matplotlib.pyplot as plt\n",
    "\n",
    "# DataSus\n",
    "data = open(\"brazilian_population.csv\").readlines()\n",
    "\n",
    "x = []\n",
    "y = []\n",
    "\n",
    "for i in range(len(data)):\n",
    "    if i != 0: # Skip the feature name row\n",
    "        line = data[i].split(\";\")\n",
    "        x.append(int(line[0])) # Year\n",
    "        y.append(int(line[1])) # Population\n",
    "        \n",
    "plt.bar(x, y, color=\"#e4e4e4\")\n",
    "plt.plot(x, y, color=\"k\", linestyle=\"--\")\n",
    "plt.title(\"Brazilian population growth 1980 - 2016\")\n",
    "plt.xlabel(\"Year\")\n",
    "plt.ylabel(\"Population x100,000,000\")\n",
    "plt.show()\n",
    "# To use in Python\n",
    "plt.savefig(\"populacao_brasileira.png\", dpi = 300) # Recommended resolution for printing\n",
    "plt.savefig(\"populacao_brasileira.pdf\")"
   ]
  },
  {
   "cell_type": "markdown",
   "id": "ee772091",
   "metadata": {},
   "source": [
    "### Example of boxplot"
   ]
  },
  {
   "cell_type": "code",
   "execution_count": 2,
   "id": "058230f4",
   "metadata": {},
   "outputs": [
    {
     "data": {
      "text/plain": [
       "{'whiskers': [<matplotlib.lines.Line2D at 0x19064952a30>,\n",
       "  <matplotlib.lines.Line2D at 0x19064952d00>],\n",
       " 'caps': [<matplotlib.lines.Line2D at 0x19064952fd0>,\n",
       "  <matplotlib.lines.Line2D at 0x190649622e0>],\n",
       " 'boxes': [<matplotlib.lines.Line2D at 0x19064952760>],\n",
       " 'medians': [<matplotlib.lines.Line2D at 0x190649625b0>],\n",
       " 'fliers': [<matplotlib.lines.Line2D at 0x19064962880>],\n",
       " 'means': []}"
      ]
     },
     "execution_count": 2,
     "metadata": {},
     "output_type": "execute_result"
    },
    {
     "data": {
      "image/png": "[encoded data removed]",
      "text/plain": [
       "<Figure size 432x288 with 1 Axes>"
      ]
     },
     "metadata": {
      "needs_background": "light"
     },
     "output_type": "display_data"
    }
   ],
   "source": [
    "plt.boxplot(y)\n",
    "#plt.show"
   ]
  },
  {
   "cell_type": "markdown",
   "id": "63c90fcb",
   "metadata": {},
   "source": [
    "# Implementing using Pandas"
   ]
  },
  {
   "cell_type": "code",
   "execution_count": 3,
   "id": "f1d11df9",
   "metadata": {},
   "outputs": [
    {
     "data": {
      "text/html": [
       "<div>\n",
       "<style scoped>\n",
       "    .dataframe tbody tr th:only-of-type {\n",
       "        vertical-align: middle;\n",
       "    }\n",
       "\n",
       "    .dataframe tbody tr th {\n",
       "        vertical-align: top;\n",
       "    }\n",
       "\n",
       "    .dataframe thead th {\n",
       "        text-align: right;\n",
       "    }\n",
       "</style>\n",
       "<table border=\"1\" class=\"dataframe\">\n",
       "  <thead>\n",
       "    <tr style=\"text-align: right;\">\n",
       "      <th></th>\n",
       "      <th>ano</th>\n",
       "      <th>population</th>\n",
       "    </tr>\n",
       "  </thead>\n",
       "  <tbody>\n",
       "    <tr>\n",
       "      <th>0</th>\n",
       "      <td>1980</td>\n",
       "      <td>119011052</td>\n",
       "    </tr>\n",
       "    <tr>\n",
       "      <th>1</th>\n",
       "      <td>1981</td>\n",
       "      <td>121154159</td>\n",
       "    </tr>\n",
       "    <tr>\n",
       "      <th>2</th>\n",
       "      <td>1982</td>\n",
       "      <td>123774229</td>\n",
       "    </tr>\n",
       "    <tr>\n",
       "      <th>3</th>\n",
       "      <td>1983</td>\n",
       "      <td>126403352</td>\n",
       "    </tr>\n",
       "    <tr>\n",
       "      <th>4</th>\n",
       "      <td>1984</td>\n",
       "      <td>129025577</td>\n",
       "    </tr>\n",
       "    <tr>\n",
       "      <th>5</th>\n",
       "      <td>1985</td>\n",
       "      <td>131639272</td>\n",
       "    </tr>\n",
       "    <tr>\n",
       "      <th>6</th>\n",
       "      <td>1986</td>\n",
       "      <td>134228492</td>\n",
       "    </tr>\n",
       "    <tr>\n",
       "      <th>7</th>\n",
       "      <td>1987</td>\n",
       "      <td>136780739</td>\n",
       "    </tr>\n",
       "    <tr>\n",
       "      <th>8</th>\n",
       "      <td>1988</td>\n",
       "      <td>139280140</td>\n",
       "    </tr>\n",
       "    <tr>\n",
       "      <th>9</th>\n",
       "      <td>1989</td>\n",
       "      <td>141714953</td>\n",
       "    </tr>\n",
       "    <tr>\n",
       "      <th>10</th>\n",
       "      <td>1990</td>\n",
       "      <td>144090756</td>\n",
       "    </tr>\n",
       "    <tr>\n",
       "      <th>11</th>\n",
       "      <td>1991</td>\n",
       "      <td>146825475</td>\n",
       "    </tr>\n",
       "    <tr>\n",
       "      <th>12</th>\n",
       "      <td>1992</td>\n",
       "      <td>148684120</td>\n",
       "    </tr>\n",
       "    <tr>\n",
       "      <th>13</th>\n",
       "      <td>1993</td>\n",
       "      <td>151556521</td>\n",
       "    </tr>\n",
       "    <tr>\n",
       "      <th>14</th>\n",
       "      <td>1994</td>\n",
       "      <td>153726463</td>\n",
       "    </tr>\n",
       "    <tr>\n",
       "      <th>15</th>\n",
       "      <td>1995</td>\n",
       "      <td>155822296</td>\n",
       "    </tr>\n",
       "    <tr>\n",
       "      <th>16</th>\n",
       "      <td>1996</td>\n",
       "      <td>157070163</td>\n",
       "    </tr>\n",
       "    <tr>\n",
       "      <th>17</th>\n",
       "      <td>1997</td>\n",
       "      <td>159636297</td>\n",
       "    </tr>\n",
       "    <tr>\n",
       "      <th>18</th>\n",
       "      <td>1998</td>\n",
       "      <td>161790182</td>\n",
       "    </tr>\n",
       "    <tr>\n",
       "      <th>19</th>\n",
       "      <td>1999</td>\n",
       "      <td>163947436</td>\n",
       "    </tr>\n",
       "    <tr>\n",
       "      <th>20</th>\n",
       "      <td>2000</td>\n",
       "      <td>169799170</td>\n",
       "    </tr>\n",
       "    <tr>\n",
       "      <th>21</th>\n",
       "      <td>2001</td>\n",
       "      <td>172385776</td>\n",
       "    </tr>\n",
       "    <tr>\n",
       "      <th>22</th>\n",
       "      <td>2002</td>\n",
       "      <td>174632932</td>\n",
       "    </tr>\n",
       "    <tr>\n",
       "      <th>23</th>\n",
       "      <td>2003</td>\n",
       "      <td>176876251</td>\n",
       "    </tr>\n",
       "    <tr>\n",
       "      <th>24</th>\n",
       "      <td>2004</td>\n",
       "      <td>179108134</td>\n",
       "    </tr>\n",
       "    <tr>\n",
       "      <th>25</th>\n",
       "      <td>2005</td>\n",
       "      <td>184184074</td>\n",
       "    </tr>\n",
       "    <tr>\n",
       "      <th>26</th>\n",
       "      <td>2006</td>\n",
       "      <td>186770613</td>\n",
       "    </tr>\n",
       "    <tr>\n",
       "      <th>27</th>\n",
       "      <td>2007</td>\n",
       "      <td>189335191</td>\n",
       "    </tr>\n",
       "    <tr>\n",
       "      <th>28</th>\n",
       "      <td>2008</td>\n",
       "      <td>189612814</td>\n",
       "    </tr>\n",
       "    <tr>\n",
       "      <th>29</th>\n",
       "      <td>2009</td>\n",
       "      <td>191481045</td>\n",
       "    </tr>\n",
       "    <tr>\n",
       "      <th>30</th>\n",
       "      <td>2010</td>\n",
       "      <td>190755799</td>\n",
       "    </tr>\n",
       "    <tr>\n",
       "      <th>31</th>\n",
       "      <td>2011</td>\n",
       "      <td>192379287</td>\n",
       "    </tr>\n",
       "    <tr>\n",
       "      <th>32</th>\n",
       "      <td>2012</td>\n",
       "      <td>193976530</td>\n",
       "    </tr>\n",
       "    <tr>\n",
       "      <th>33</th>\n",
       "      <td>2013</td>\n",
       "      <td>201062789</td>\n",
       "    </tr>\n",
       "    <tr>\n",
       "      <th>34</th>\n",
       "      <td>2014</td>\n",
       "      <td>202799518</td>\n",
       "    </tr>\n",
       "    <tr>\n",
       "      <th>35</th>\n",
       "      <td>2015</td>\n",
       "      <td>204482459</td>\n",
       "    </tr>\n",
       "    <tr>\n",
       "      <th>36</th>\n",
       "      <td>2016</td>\n",
       "      <td>206114067</td>\n",
       "    </tr>\n",
       "  </tbody>\n",
       "</table>\n",
       "</div>"
      ],
      "text/plain": [
       "     ano  population\n",
       "0   1980   119011052\n",
       "1   1981   121154159\n",
       "2   1982   123774229\n",
       "3   1983   126403352\n",
       "4   1984   129025577\n",
       "5   1985   131639272\n",
       "6   1986   134228492\n",
       "7   1987   136780739\n",
       "8   1988   139280140\n",
       "9   1989   141714953\n",
       "10  1990   144090756\n",
       "11  1991   146825475\n",
       "12  1992   148684120\n",
       "13  1993   151556521\n",
       "14  1994   153726463\n",
       "15  1995   155822296\n",
       "16  1996   157070163\n",
       "17  1997   159636297\n",
       "18  1998   161790182\n",
       "19  1999   163947436\n",
       "20  2000   169799170\n",
       "21  2001   172385776\n",
       "22  2002   174632932\n",
       "23  2003   176876251\n",
       "24  2004   179108134\n",
       "25  2005   184184074\n",
       "26  2006   186770613\n",
       "27  2007   189335191\n",
       "28  2008   189612814\n",
       "29  2009   191481045\n",
       "30  2010   190755799\n",
       "31  2011   192379287\n",
       "32  2012   193976530\n",
       "33  2013   201062789\n",
       "34  2014   202799518\n",
       "35  2015   204482459\n",
       "36  2016   206114067"
      ]
     },
     "execution_count": 3,
     "metadata": {},
     "output_type": "execute_result"
    }
   ],
   "source": [
    "import pandas as pd\n",
    "\n",
    "df = pd.read_csv(\"brazilian_population.csv\", sep=\";\")\n",
    "df"
   ]
  },
  {
   "cell_type": "code",
   "execution_count": 4,
   "id": "38ca9e4d",
   "metadata": {},
   "outputs": [
    {
     "data": {
      "image/png": "[encoded data removed]",
      "text/plain": [
       "<Figure size 432x288 with 1 Axes>"
      ]
     },
     "metadata": {
      "needs_background": "light"
     },
     "output_type": "display_data"
    }
   ],
   "source": [
    "# Example of different marker\n",
    "plt.plot(df['ano'], df['population'], color=\"m\", linestyle=\":\")\n",
    "# s can vary with the size of vector elements\n",
    "plt.scatter(df['ano'], df['population'], color=\"c\", marker=\"|\", s=(df['population']/1000000)) \n",
    "\n",
    "plt.title(\"Brazilian population growth 1980 - 2016\")\n",
    "plt.xlabel(\"Year\")\n",
    "plt.ylabel(\"Population x100,000,000\")\n",
    "plt.show()"
   ]
  },
  {
   "cell_type": "code",
   "execution_count": 5,
   "id": "6ba2f6d7",
   "metadata": {},
   "outputs": [],
   "source": [
    "# Converting to array and spliting\n",
    "x = df['ano'].to_numpy()\n",
    "y = df['population'].to_numpy()\n",
    "from sklearn.model_selection import train_test_split\n",
    "x_train, x_test, y_train, y_test = train_test_split(x, y, test_size=0.2)"
   ]
  },
  {
   "cell_type": "code",
   "execution_count": 6,
   "id": "a24f6a6b",
   "metadata": {},
   "outputs": [
    {
     "data": {
      "text/plain": [
       "LinearRegression()"
      ]
     },
     "execution_count": 6,
     "metadata": {},
     "output_type": "execute_result"
    }
   ],
   "source": [
    "from sklearn.linear_model import LinearRegression\n",
    "model = LinearRegression()\n",
    "# Converting one row to many rows corresponding to the number of elements from the numpy array\n",
    "model.fit(x_train.reshape(-1, 1), y_train.reshape(-1, 1))"
   ]
  },
  {
   "cell_type": "code",
   "execution_count": 8,
   "id": "d9d0ba62",
   "metadata": {},
   "outputs": [
    {
     "name": "stdout",
     "output_type": "stream",
     "text": [
      "(8, 1)\n",
      "(8,)\n"
     ]
    }
   ],
   "source": [
    "print(y_pred.shape)\n",
    "print(y_test.shape)"
   ]
  },
  {
   "cell_type": "code",
   "execution_count": 7,
   "id": "d01ad566",
   "metadata": {},
   "outputs": [
    {
     "data": {
      "image/png": "[encoded data removed]",
      "text/plain": [
       "<Figure size 432x288 with 1 Axes>"
      ]
     },
     "metadata": {
      "needs_background": "light"
     },
     "output_type": "display_data"
    }
   ],
   "source": [
    "# Predicting and ploting\n",
    "y_pred = model.predict(x_test.reshape(-1, 1))\n",
    "\n",
    "plt.plot(range(y_pred.shape[0]), y_pred,'r--')\n",
    "plt.plot(range(y_test.shape[0]), y_test,'g--')\n",
    "plt.legend(['previsto', 'real'])\n",
    "plt.ylabel('Population')\n",
    "plt.xlabel('Year')\n",
    "\n",
    "plt.show()"
   ]
  },
  {
   "cell_type": "code",
   "execution_count": 9,
   "id": "84b7bb88",
   "metadata": {},
   "outputs": [
    {
     "name": "stdout",
     "output_type": "stream",
     "text": [
      "R2-score:  0.9976450242767443\n"
     ]
    }
   ],
   "source": [
    "from sklearn.metrics import r2_score\n",
    "\n",
    "print('R2-score: ', r2_score(y_test, y_pred))"
   ]
  }
 ],
 "metadata": {
  "kernelspec": {
   "display_name": "Python 3 (ipykernel)",
   "language": "python",
   "name": "python3"
  },
  "language_info": {
   "codemirror_mode": {
    "name": "ipython",
    "version": 3
   },
   "file_extension": ".py",
   "mimetype": "text/x-python",
   "name": "python",
   "nbconvert_exporter": "python",
   "pygments_lexer": "ipython3",
   "version": "3.9.10"
  }
 },
 "nbformat": 4,
 "nbformat_minor": 5
}

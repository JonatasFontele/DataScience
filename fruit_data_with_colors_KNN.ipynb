{
 "cells": [
  {
   "cell_type": "markdown",
   "metadata": {},
   "source": [
    "# Introdução ao KNN\n",
    "\n",
    "**Objetivos**\n",
    "\n",
    "* Exemplificar a distância Euclidiana\n",
    "* Demonstração do KNN para classificação\n",
    "* Demonstração de pré-processamento de dados para o KNN\n",
    "* Demonstração do KNN para regressão\n",
    "\n",
    "**Características do Data Set**\n",
    "\n",
    "* Linhas: 59\n",
    "* Colunas: 7\n",
    "* Formato do arquivo: txt"
   ]
  },
  {
   "cell_type": "code",
   "execution_count": 36,
   "metadata": {},
   "outputs": [
    {
     "data": {
      "text/plain": [
       "3.0"
      ]
     },
     "execution_count": 36,
     "metadata": {},
     "output_type": "execute_result"
    }
   ],
   "source": [
    "# Distância Euclidiana é usada no KNN\n",
    "# Não pode ser negativa\n",
    "2-5\n",
    "(2-5)**2\n",
    "((2-5)**2)**(0.5)"
   ]
  },
  {
   "cell_type": "code",
   "execution_count": 37,
   "metadata": {},
   "outputs": [
    {
     "data": {
      "text/plain": [
       "3.010398644698074"
      ]
     },
     "execution_count": 37,
     "metadata": {},
     "output_type": "execute_result"
    }
   ],
   "source": [
    "# Exemplo de distância entre dois pontos\n",
    "a = [5,0.75]\n",
    "b = [2,0.50]\n",
    "((5-2)**2 + (0.75 - 0.50)**2)**0.5"
   ]
  },
  {
   "cell_type": "markdown",
   "metadata": {},
   "source": [
    "### KNN para classificação (rótulos de classes)"
   ]
  },
  {
   "cell_type": "code",
   "execution_count": 38,
   "metadata": {},
   "outputs": [],
   "source": [
    "# Importando a classe\n",
    "from sklearn.neighbors import KNeighborsClassifier\n",
    "import pandas as pd"
   ]
  },
  {
   "cell_type": "code",
   "execution_count": 39,
   "metadata": {},
   "outputs": [],
   "source": [
    "# Instanciando o método numa variável\n",
    "# Cada novo elemento será comparado aos 3 vizinhos mais próximos\n",
    "knn = KNeighborsClassifier(n_neighbors=3)"
   ]
  },
  {
   "cell_type": "code",
   "execution_count": 40,
   "metadata": {},
   "outputs": [],
   "source": [
    "# Vamos trabalhar novamente com as frutas\n",
    "data = pd.read_table('fruit_data_with_colors.txt')"
   ]
  },
  {
   "cell_type": "code",
   "execution_count": 41,
   "metadata": {},
   "outputs": [],
   "source": [
    "# Atributos\n",
    "X = data[['mass','height','width','color_score']]\n",
    "\n",
    "# Label(rótulos)\n",
    "y = data['fruit_label']"
   ]
  },
  {
   "cell_type": "code",
   "execution_count": 42,
   "metadata": {},
   "outputs": [],
   "source": [
    "from sklearn.model_selection import train_test_split"
   ]
  },
  {
   "cell_type": "code",
   "execution_count": 43,
   "metadata": {},
   "outputs": [],
   "source": [
    "# Na matemática utilizamos letras maiúsculas para representar matrizes\n",
    "X_train, X_test, y_train, y_test = train_test_split(X,y)"
   ]
  },
  {
   "cell_type": "code",
   "execution_count": 44,
   "metadata": {},
   "outputs": [
    {
     "data": {
      "text/plain": [
       "KNeighborsClassifier(n_neighbors=3)"
      ]
     },
     "execution_count": 44,
     "metadata": {},
     "output_type": "execute_result"
    }
   ],
   "source": [
    "knn.fit(X_train,y_train)"
   ]
  },
  {
   "cell_type": "code",
   "execution_count": 45,
   "metadata": {},
   "outputs": [
    {
     "data": {
      "text/plain": [
       "0.7333333333333333"
      ]
     },
     "execution_count": 45,
     "metadata": {},
     "output_type": "execute_result"
    }
   ],
   "source": [
    "# Para avaliar o modelo\n",
    "# A divisão de treino e teste divide os dados de maneira aleatória\n",
    "# Um bom acerto é acima de 70% ou 80%\n",
    "# A ordem de grandeza dos dados vai influenciar na distância no knn\n",
    "knn.score(X_test,y_test)"
   ]
  },
  {
   "cell_type": "markdown",
   "metadata": {},
   "source": [
    "### Pré-processando os dados para o KNN"
   ]
  },
  {
   "cell_type": "code",
   "execution_count": 46,
   "metadata": {},
   "outputs": [],
   "source": [
    "# Função para conversão de escala\n",
    "from sklearn.preprocessing import MinMaxScaler"
   ]
  },
  {
   "cell_type": "code",
   "execution_count": 47,
   "metadata": {},
   "outputs": [],
   "source": [
    "# Armazenando a função\n",
    "mm = MinMaxScaler()"
   ]
  },
  {
   "cell_type": "code",
   "execution_count": 48,
   "metadata": {},
   "outputs": [
    {
     "data": {
      "text/plain": [
       "array([[0.1958042 , 0.72307692, 0.        , 0.47368421],\n",
       "       [0.44755245, 0.8       , 0.44736842, 0.57894737],\n",
       "       [0.36363636, 0.43076923, 0.57894737, 0.10526316],\n",
       "       [0.31468531, 0.50769231, 0.28947368, 1.        ],\n",
       "       [0.15384615, 0.67692308, 0.05263158, 0.5       ],\n",
       "       [0.13986014, 0.56923077, 0.13157895, 0.44736842],\n",
       "       [0.41958042, 0.87692308, 0.39473684, 0.44736842],\n",
       "       [0.41258741, 0.96923077, 0.36842105, 0.39473684],\n",
       "       [0.40559441, 0.50769231, 0.68421053, 0.        ],\n",
       "       [0.46853147, 0.61538462, 0.52631579, 0.71052632],\n",
       "       [0.43356643, 1.        , 0.39473684, 0.44736842],\n",
       "       [0.28671329, 0.53846154, 0.34210526, 0.63157895],\n",
       "       [0.93006993, 0.83076923, 0.84210526, 0.52631579],\n",
       "       [0.23776224, 0.52307692, 0.26315789, 0.52631579],\n",
       "       [0.27272727, 0.53846154, 0.34210526, 0.60526316],\n",
       "       [0.23076923, 0.58461538, 0.47368421, 0.52631579],\n",
       "       [0.        , 0.        , 0.        , 0.68421053],\n",
       "       [0.13986014, 0.63076923, 0.02631579, 0.47368421],\n",
       "       [0.26573427, 0.69230769, 0.18421053, 0.44736842],\n",
       "       [0.29370629, 0.55384615, 0.34210526, 0.55263158],\n",
       "       [1.        , 0.8       , 1.        , 0.5       ],\n",
       "       [0.32167832, 0.55384615, 0.44736842, 0.47368421],\n",
       "       [0.28671329, 0.58461538, 0.36842105, 0.57894737],\n",
       "       [0.25874126, 0.6       , 0.34210526, 0.52631579],\n",
       "       [0.30769231, 0.46153846, 0.36842105, 0.65789474],\n",
       "       [0.27272727, 0.47692308, 0.31578947, 0.86842105],\n",
       "       [0.26573427, 0.50769231, 0.47368421, 0.36842105],\n",
       "       [0.27972028, 0.53846154, 0.47368421, 0.31578947],\n",
       "       [0.13986014, 0.69230769, 0.07894737, 0.42105263],\n",
       "       [0.34965035, 0.49230769, 0.42105263, 0.13157895],\n",
       "       [0.29370629, 0.53846154, 0.44736842, 0.81578947],\n",
       "       [0.3986014 , 0.63076923, 0.44736842, 0.5       ],\n",
       "       [0.14685315, 0.63076923, 0.07894737, 0.39473684],\n",
       "       [0.18881119, 0.64615385, 0.05263158, 0.42105263],\n",
       "       [0.30769231, 0.56923077, 0.39473684, 0.39473684],\n",
       "       [0.29370629, 0.52307692, 0.31578947, 0.68421053],\n",
       "       [0.01398601, 0.04615385, 0.02631579, 0.68421053],\n",
       "       [0.97902098, 0.8       , 0.89473684, 0.52631579],\n",
       "       [0.3006993 , 0.49230769, 0.42105263, 0.78947368],\n",
       "       [0.13986014, 0.53846154, 0.05263158, 0.44736842],\n",
       "       [0.38461538, 0.8       , 0.36842105, 0.44736842],\n",
       "       [0.32867133, 0.6       , 0.47368421, 0.86842105],\n",
       "       [0.27972028, 0.52307692, 0.42105263, 0.76315789],\n",
       "       [0.27272727, 0.50769231, 0.39473684, 0.63157895]])"
      ]
     },
     "execution_count": 48,
     "metadata": {},
     "output_type": "execute_result"
    }
   ],
   "source": [
    "# Transforma os dados de treino de acordo com os valores máximos e mínimos armazenados\n",
    "X_train = mm.fit_transform(X_train)\n",
    "\n",
    "X_train"
   ]
  },
  {
   "cell_type": "code",
   "execution_count": 49,
   "metadata": {},
   "outputs": [
    {
     "data": {
      "text/plain": [
       "array([[0.01398601, 0.04615385, 0.        , 0.57894737],\n",
       "       [0.34265734, 0.93846154, 0.39473684, 0.44736842],\n",
       "       [0.02797203, 0.09230769, 0.05263158, 0.63157895],\n",
       "       [0.48951049, 0.95384615, 0.39473684, 0.42105263],\n",
       "       [0.03496503, 0.10769231, 0.10526316, 0.65789474],\n",
       "       [0.22377622, 0.47692308, 0.39473684, 0.84210526],\n",
       "       [0.27272727, 0.49230769, 0.36842105, 0.71052632],\n",
       "       [0.3006993 , 0.47692308, 0.44736842, 0.73684211],\n",
       "       [0.27972028, 0.47692308, 0.5       , 0.36842105],\n",
       "       [0.33566434, 0.55384615, 0.34210526, 0.97368421],\n",
       "       [0.14685315, 0.61538462, 0.02631579, 0.44736842],\n",
       "       [0.22377622, 0.47692308, 0.23684211, 0.44736842],\n",
       "       [0.35664336, 0.58461538, 0.34210526, 0.97368421],\n",
       "       [0.36363636, 0.64615385, 0.47368421, 0.63157895],\n",
       "       [0.33566434, 0.46153846, 0.42105263, 0.89473684]])"
      ]
     },
     "execution_count": 49,
     "metadata": {},
     "output_type": "execute_result"
    }
   ],
   "source": [
    "# Transforma os dados de teste de treino de acordo com os valores máximos e mínimos armazenados\n",
    "X_test = mm.transform(X_test)\n",
    "\n",
    "X_test"
   ]
  },
  {
   "cell_type": "code",
   "execution_count": 50,
   "metadata": {},
   "outputs": [],
   "source": [
    "# Retreinando o knn\n",
    "knn = KNeighborsClassifier(n_neighbors=3)"
   ]
  },
  {
   "cell_type": "code",
   "execution_count": 51,
   "metadata": {},
   "outputs": [
    {
     "data": {
      "text/plain": [
       "KNeighborsClassifier(n_neighbors=3)"
      ]
     },
     "execution_count": 51,
     "metadata": {},
     "output_type": "execute_result"
    }
   ],
   "source": [
    "knn.fit(X_train,y_train)"
   ]
  },
  {
   "cell_type": "code",
   "execution_count": 52,
   "metadata": {},
   "outputs": [
    {
     "data": {
      "text/plain": [
       "1.0"
      ]
     },
     "execution_count": 52,
     "metadata": {},
     "output_type": "execute_result"
    }
   ],
   "source": [
    "# Ao comparar os dados de teste e os seus rótulos ao resultado destes dados de teste no modelo, deu 100% de acerto\n",
    "knn.score(X_test,y_test)"
   ]
  },
  {
   "cell_type": "code",
   "execution_count": 53,
   "metadata": {},
   "outputs": [
    {
     "data": {
      "text/plain": [
       "array([2, 4, 2, 4, 2, 1, 3, 1, 1, 1, 4, 3, 1, 3, 1], dtype=int64)"
      ]
     },
     "execution_count": 53,
     "metadata": {},
     "output_type": "execute_result"
    }
   ],
   "source": [
    "# Para predizer apenas os resultados\n",
    "knn.predict(X_test)"
   ]
  },
  {
   "cell_type": "code",
   "execution_count": 54,
   "metadata": {},
   "outputs": [
    {
     "data": {
      "text/plain": [
       "5     2\n",
       "48    4\n",
       "4     2\n",
       "46    4\n",
       "3     2\n",
       "22    1\n",
       "42    3\n",
       "18    1\n",
       "15    1\n",
       "11    1\n",
       "52    4\n",
       "28    3\n",
       "8     1\n",
       "41    3\n",
       "9     1\n",
       "Name: fruit_label, dtype: int64"
      ]
     },
     "execution_count": 54,
     "metadata": {},
     "output_type": "execute_result"
    }
   ],
   "source": [
    "y_test"
   ]
  },
  {
   "cell_type": "markdown",
   "metadata": {},
   "source": [
    "### KNN para Regressão (rótulos são números ordenáveis)"
   ]
  },
  {
   "cell_type": "code",
   "execution_count": 55,
   "metadata": {},
   "outputs": [],
   "source": [
    "from sklearn.neighbors import KNeighborsRegressor"
   ]
  },
  {
   "cell_type": "code",
   "execution_count": 56,
   "metadata": {},
   "outputs": [],
   "source": [
    "knn = KNeighborsRegressor(n_neighbors=3)"
   ]
  },
  {
   "cell_type": "code",
   "execution_count": 57,
   "metadata": {},
   "outputs": [],
   "source": [
    "from sklearn.datasets import load_boston"
   ]
  },
  {
   "cell_type": "code",
   "execution_count": 58,
   "metadata": {},
   "outputs": [],
   "source": [
    "data = load_boston()"
   ]
  },
  {
   "cell_type": "code",
   "execution_count": 59,
   "metadata": {},
   "outputs": [],
   "source": [
    "X, y = load_boston(return_X_y=True)"
   ]
  },
  {
   "cell_type": "code",
   "execution_count": 60,
   "metadata": {},
   "outputs": [
    {
     "data": {
      "text/plain": [
       "(506, 13)"
      ]
     },
     "execution_count": 60,
     "metadata": {},
     "output_type": "execute_result"
    }
   ],
   "source": [
    "X.shape"
   ]
  },
  {
   "cell_type": "code",
   "execution_count": 61,
   "metadata": {},
   "outputs": [
    {
     "data": {
      "text/plain": [
       "(506,)"
      ]
     },
     "execution_count": 61,
     "metadata": {},
     "output_type": "execute_result"
    }
   ],
   "source": [
    "y.shape"
   ]
  },
  {
   "cell_type": "code",
   "execution_count": 62,
   "metadata": {},
   "outputs": [
    {
     "name": "stdout",
     "output_type": "stream",
     "text": [
      ".. _boston_dataset:\n",
      "\n",
      "Boston house prices dataset\n",
      "---------------------------\n",
      "\n",
      "**Data Set Characteristics:**  \n",
      "\n",
      "    :Number of Instances: 506 \n",
      "\n",
      "    :Number of Attributes: 13 numeric/categorical predictive. Median Value (attribute 14) is usually the target.\n",
      "\n",
      "    :Attribute Information (in order):\n",
      "        - CRIM     per capita crime rate by town\n",
      "        - ZN       proportion of residential land zoned for lots over 25,000 sq.ft.\n",
      "        - INDUS    proportion of non-retail business acres per town\n",
      "        - CHAS     Charles River dummy variable (= 1 if tract bounds river; 0 otherwise)\n",
      "        - NOX      nitric oxides concentration (parts per 10 million)\n",
      "        - RM       average number of rooms per dwelling\n",
      "        - AGE      proportion of owner-occupied units built prior to 1940\n",
      "        - DIS      weighted distances to five Boston employment centres\n",
      "        - RAD      index of accessibility to radial highways\n",
      "        - TAX      full-value property-tax rate per $10,000\n",
      "        - PTRATIO  pupil-teacher ratio by town\n",
      "        - B        1000(Bk - 0.63)^2 where Bk is the proportion of blacks by town\n",
      "        - LSTAT    % lower status of the population\n",
      "        - MEDV     Median value of owner-occupied homes in $1000's\n",
      "\n",
      "    :Missing Attribute Values: None\n",
      "\n",
      "    :Creator: Harrison, D. and Rubinfeld, D.L.\n",
      "\n",
      "This is a copy of UCI ML housing dataset.\n",
      "https://archive.ics.uci.edu/ml/machine-learning-databases/housing/\n",
      "\n",
      "\n",
      "This dataset was taken from the StatLib library which is maintained at Carnegie Mellon University.\n",
      "\n",
      "The Boston house-price data of Harrison, D. and Rubinfeld, D.L. 'Hedonic\n",
      "prices and the demand for clean air', J. Environ. Economics & Management,\n",
      "vol.5, 81-102, 1978.   Used in Belsley, Kuh & Welsch, 'Regression diagnostics\n",
      "...', Wiley, 1980.   N.B. Various transformations are used in the table on\n",
      "pages 244-261 of the latter.\n",
      "\n",
      "The Boston house-price data has been used in many machine learning papers that address regression\n",
      "problems.   \n",
      "     \n",
      ".. topic:: References\n",
      "\n",
      "   - Belsley, Kuh & Welsch, 'Regression diagnostics: Identifying Influential Data and Sources of Collinearity', Wiley, 1980. 244-261.\n",
      "   - Quinlan,R. (1993). Combining Instance-Based and Model-Based Learning. In Proceedings on the Tenth International Conference of Machine Learning, 236-243, University of Massachusetts, Amherst. Morgan Kaufmann.\n",
      "\n"
     ]
    }
   ],
   "source": [
    "print(load_boston()['DESCR'])"
   ]
  },
  {
   "cell_type": "code",
   "execution_count": 63,
   "metadata": {},
   "outputs": [],
   "source": [
    "from sklearn.model_selection import train_test_split"
   ]
  },
  {
   "cell_type": "code",
   "execution_count": 64,
   "metadata": {},
   "outputs": [],
   "source": [
    "X_train, X_test, y_train, y_test = train_test_split(X,y)"
   ]
  },
  {
   "cell_type": "code",
   "execution_count": 65,
   "metadata": {},
   "outputs": [
    {
     "data": {
      "text/plain": [
       "KNeighborsRegressor(n_neighbors=3)"
      ]
     },
     "execution_count": 65,
     "metadata": {},
     "output_type": "execute_result"
    }
   ],
   "source": [
    "knn.fit(X_train,y_train)"
   ]
  },
  {
   "cell_type": "code",
   "execution_count": 66,
   "metadata": {},
   "outputs": [
    {
     "data": {
      "text/plain": [
       "0.5370055788989855"
      ]
     },
     "execution_count": 66,
     "metadata": {},
     "output_type": "execute_result"
    }
   ],
   "source": [
    "knn.score(X_test,y_test)"
   ]
  }
 ],
 "metadata": {
  "kernelspec": {
   "display_name": "Python 3",
   "language": "python",
   "name": "python3"
  },
  "language_info": {
   "codemirror_mode": {
    "name": "ipython",
    "version": 3
   },
   "file_extension": ".py",
   "mimetype": "text/x-python",
   "name": "python",
   "nbconvert_exporter": "python",
   "pygments_lexer": "ipython3",
   "version": "3.8.5"
  }
 },
 "nbformat": 4,
 "nbformat_minor": 4
}

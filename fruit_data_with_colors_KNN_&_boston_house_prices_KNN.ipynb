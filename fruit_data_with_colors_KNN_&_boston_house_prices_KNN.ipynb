{
 "cells": [
  {
   "cell_type": "markdown",
   "metadata": {},
   "source": [
    "# Introdução ao KNN\n",
    "\n",
    "**Objetivos**\n",
    "\n",
    "* Exemplificar a distância Euclidiana\n",
    "* Demonstração do KNN para classificação usando fruit_data_with_colors\n",
    "* Demonstração de pré-processamento de dados para o KNN\n",
    "* Demonstração do KNN para regressão usando load_boston\n",
    "\n",
    "**Características do Data Set 1**\n",
    "\n",
    "* Linhas: 59\n",
    "* Colunas: 7\n",
    "* Formato do arquivo: txt\n",
    "\n",
    "**Características do Data Set 2**\n",
    "\n",
    "* Linhas: 506\n",
    "* Colunas: 14"
   ]
  },
  {
   "cell_type": "code",
   "execution_count": 1,
   "metadata": {},
   "outputs": [
    {
     "data": {
      "text/plain": [
       "3.0"
      ]
     },
     "execution_count": 1,
     "metadata": {},
     "output_type": "execute_result"
    }
   ],
   "source": [
    "# Distância Euclidiana é usada no KNN\n",
    "# Não pode ser negativa\n",
    "# É sensível a outliers\n",
    "2-5\n",
    "(2-5)**2\n",
    "((2-5)**2)**(0.5)"
   ]
  },
  {
   "cell_type": "code",
   "execution_count": 2,
   "metadata": {},
   "outputs": [
    {
     "data": {
      "text/plain": [
       "3.010398644698074"
      ]
     },
     "execution_count": 2,
     "metadata": {},
     "output_type": "execute_result"
    }
   ],
   "source": [
    "# Exemplo de distância entre dois pontos\n",
    "a = [5,0.75]\n",
    "b = [2,0.50]\n",
    "((5-2)**2 + (0.75 - 0.50)**2)**0.5"
   ]
  },
  {
   "cell_type": "markdown",
   "metadata": {},
   "source": [
    "### KNN para classificação (rótulos de classes)"
   ]
  },
  {
   "cell_type": "code",
   "execution_count": 3,
   "metadata": {},
   "outputs": [],
   "source": [
    "# Importando a classe\n",
    "from sklearn.neighbors import KNeighborsClassifier\n",
    "import pandas as pd\n",
    "import matplotlib.pyplot as plt"
   ]
  },
  {
   "cell_type": "code",
   "execution_count": 4,
   "metadata": {},
   "outputs": [],
   "source": [
    "# Instanciando o método numa variável\n",
    "# Cada novo elemento será comparado aos 3 vizinhos mais próximos (escolha sempre k ímpar para evitar empate)\n",
    "knn = KNeighborsClassifier(n_neighbors=3)"
   ]
  },
  {
   "cell_type": "code",
   "execution_count": 5,
   "metadata": {},
   "outputs": [
    {
     "data": {
      "text/html": [
       "<div>\n",
       "<style scoped>\n",
       "    .dataframe tbody tr th:only-of-type {\n",
       "        vertical-align: middle;\n",
       "    }\n",
       "\n",
       "    .dataframe tbody tr th {\n",
       "        vertical-align: top;\n",
       "    }\n",
       "\n",
       "    .dataframe thead th {\n",
       "        text-align: right;\n",
       "    }\n",
       "</style>\n",
       "<table border=\"1\" class=\"dataframe\">\n",
       "  <thead>\n",
       "    <tr style=\"text-align: right;\">\n",
       "      <th></th>\n",
       "      <th>fruit_label</th>\n",
       "      <th>fruit_name</th>\n",
       "      <th>fruit_subtype</th>\n",
       "      <th>mass</th>\n",
       "      <th>width</th>\n",
       "      <th>height</th>\n",
       "      <th>color_score</th>\n",
       "    </tr>\n",
       "  </thead>\n",
       "  <tbody>\n",
       "    <tr>\n",
       "      <th>0</th>\n",
       "      <td>1</td>\n",
       "      <td>apple</td>\n",
       "      <td>granny_smith</td>\n",
       "      <td>192</td>\n",
       "      <td>8.4</td>\n",
       "      <td>7.3</td>\n",
       "      <td>0.55</td>\n",
       "    </tr>\n",
       "    <tr>\n",
       "      <th>1</th>\n",
       "      <td>1</td>\n",
       "      <td>apple</td>\n",
       "      <td>granny_smith</td>\n",
       "      <td>180</td>\n",
       "      <td>8.0</td>\n",
       "      <td>6.8</td>\n",
       "      <td>0.59</td>\n",
       "    </tr>\n",
       "    <tr>\n",
       "      <th>2</th>\n",
       "      <td>1</td>\n",
       "      <td>apple</td>\n",
       "      <td>granny_smith</td>\n",
       "      <td>176</td>\n",
       "      <td>7.4</td>\n",
       "      <td>7.2</td>\n",
       "      <td>0.60</td>\n",
       "    </tr>\n",
       "    <tr>\n",
       "      <th>3</th>\n",
       "      <td>2</td>\n",
       "      <td>mandarin</td>\n",
       "      <td>mandarin</td>\n",
       "      <td>86</td>\n",
       "      <td>6.2</td>\n",
       "      <td>4.7</td>\n",
       "      <td>0.80</td>\n",
       "    </tr>\n",
       "    <tr>\n",
       "      <th>4</th>\n",
       "      <td>2</td>\n",
       "      <td>mandarin</td>\n",
       "      <td>mandarin</td>\n",
       "      <td>84</td>\n",
       "      <td>6.0</td>\n",
       "      <td>4.6</td>\n",
       "      <td>0.79</td>\n",
       "    </tr>\n",
       "  </tbody>\n",
       "</table>\n",
       "</div>"
      ],
      "text/plain": [
       "   fruit_label fruit_name fruit_subtype  mass  width  height  color_score\n",
       "0            1      apple  granny_smith   192    8.4     7.3         0.55\n",
       "1            1      apple  granny_smith   180    8.0     6.8         0.59\n",
       "2            1      apple  granny_smith   176    7.4     7.2         0.60\n",
       "3            2   mandarin      mandarin    86    6.2     4.7         0.80\n",
       "4            2   mandarin      mandarin    84    6.0     4.6         0.79"
      ]
     },
     "execution_count": 5,
     "metadata": {},
     "output_type": "execute_result"
    }
   ],
   "source": [
    "# Vamos trabalhar novamente com as frutas\n",
    "data = pd.read_table('fruit_data_with_colors.txt')\n",
    "data.head()"
   ]
  },
  {
   "cell_type": "code",
   "execution_count": 6,
   "metadata": {},
   "outputs": [],
   "source": [
    "# Atributos\n",
    "X = data[['mass','height','width','color_score']]\n",
    "\n",
    "# Label(rótulos)\n",
    "y = data['fruit_label']"
   ]
  },
  {
   "cell_type": "code",
   "execution_count": 7,
   "metadata": {},
   "outputs": [],
   "source": [
    "from sklearn.model_selection import train_test_split"
   ]
  },
  {
   "cell_type": "code",
   "execution_count": 8,
   "metadata": {},
   "outputs": [],
   "source": [
    "# Na matemática utilizamos letras maiúsculas para representar matrizes\n",
    "X_train, X_test, y_train, y_test = train_test_split(X,y)"
   ]
  },
  {
   "cell_type": "code",
   "execution_count": 9,
   "metadata": {},
   "outputs": [
    {
     "data": {
      "text/plain": [
       "KNeighborsClassifier(n_neighbors=3)"
      ]
     },
     "execution_count": 9,
     "metadata": {},
     "output_type": "execute_result"
    }
   ],
   "source": [
    "knn.fit(X_train,y_train)"
   ]
  },
  {
   "cell_type": "code",
   "execution_count": 10,
   "metadata": {},
   "outputs": [
    {
     "data": {
      "text/plain": [
       "0.6"
      ]
     },
     "execution_count": 10,
     "metadata": {},
     "output_type": "execute_result"
    }
   ],
   "source": [
    "# Para avaliar o modelo\n",
    "# A divisão de treino e teste divide os dados de maneira aleatória\n",
    "# Um bom acerto é acima de 70% ou 80%\n",
    "# A ordem de grandeza dos dados vai influenciar na distância no knn\n",
    "knn.score(X_test,y_test)"
   ]
  },
  {
   "cell_type": "markdown",
   "metadata": {},
   "source": [
    "### Pré-processando os dados para o KNN"
   ]
  },
  {
   "cell_type": "code",
   "execution_count": 11,
   "metadata": {},
   "outputs": [],
   "source": [
    "# Função para conversão de escala\n",
    "from sklearn.preprocessing import MinMaxScaler"
   ]
  },
  {
   "cell_type": "code",
   "execution_count": 12,
   "metadata": {},
   "outputs": [],
   "source": [
    "# Armazenando a função\n",
    "mm = MinMaxScaler()"
   ]
  },
  {
   "cell_type": "code",
   "execution_count": 13,
   "metadata": {},
   "outputs": [
    {
     "data": {
      "text/plain": [
       "array([[0.26428571, 0.6       , 0.38235294, 0.54054054],\n",
       "       [0.24285714, 0.52307692, 0.29411765, 0.54054054],\n",
       "       [0.27142857, 0.69230769, 0.20588235, 0.45945946],\n",
       "       [0.23571429, 0.58461538, 0.52941176, 0.54054054],\n",
       "       [0.15      , 0.61538462, 0.02941176, 0.45945946],\n",
       "       [0.30714286, 0.47692308, 0.5       , 0.75675676],\n",
       "       [0.27857143, 0.53846154, 0.38235294, 0.62162162],\n",
       "       [0.14285714, 0.56923077, 0.14705882, 0.45945946],\n",
       "       [0.27857143, 0.49230769, 0.41176471, 0.72972973],\n",
       "       [0.19285714, 0.64615385, 0.05882353, 0.43243243],\n",
       "       [0.30714286, 0.49230769, 0.47058824, 0.81081081],\n",
       "       [0.        , 0.        , 0.        , 0.7027027 ],\n",
       "       [0.14285714, 0.53846154, 0.05882353, 0.45945946],\n",
       "       [0.28571429, 0.52307692, 0.47058824, 0.78378378],\n",
       "       [0.36428571, 0.58461538, 0.38235294, 1.        ],\n",
       "       [0.37142857, 0.64615385, 0.52941176, 0.64864865],\n",
       "       [0.5       , 0.95384615, 0.44117647, 0.43243243],\n",
       "       [0.22857143, 0.47692308, 0.44117647, 0.86486486],\n",
       "       [0.03571429, 0.10769231, 0.11764706, 0.67567568],\n",
       "       [0.31428571, 0.46153846, 0.41176471, 0.67567568],\n",
       "       [0.27142857, 0.50769231, 0.52941176, 0.37837838],\n",
       "       [0.28571429, 0.47692308, 0.55882353, 0.37837838],\n",
       "       [0.42857143, 0.87692308, 0.44117647, 0.45945946],\n",
       "       [0.33571429, 0.6       , 0.52941176, 0.89189189],\n",
       "       [0.95      , 0.83076923, 0.94117647, 0.54054054],\n",
       "       [0.01428571, 0.04615385, 0.02941176, 0.7027027 ],\n",
       "       [1.        , 0.8       , 1.        , 0.54054054],\n",
       "       [0.34285714, 0.55384615, 0.38235294, 1.        ],\n",
       "       [0.27857143, 0.47692308, 0.35294118, 0.89189189],\n",
       "       [0.42142857, 0.96923077, 0.41176471, 0.40540541],\n",
       "       [0.3       , 0.52307692, 0.35294118, 0.7027027 ],\n",
       "       [0.15      , 0.63076923, 0.08823529, 0.40540541],\n",
       "       [0.31428571, 0.56923077, 0.44117647, 0.40540541],\n",
       "       [0.01428571, 0.04615385, 0.        , 0.59459459],\n",
       "       [0.34285714, 0.46153846, 0.47058824, 0.91891892],\n",
       "       [0.41428571, 0.50769231, 0.76470588, 0.        ],\n",
       "       [0.35714286, 0.49230769, 0.47058824, 0.13513514],\n",
       "       [0.27857143, 0.50769231, 0.44117647, 0.64864865],\n",
       "       [0.2       , 0.72307692, 0.        , 0.48648649],\n",
       "       [0.44285714, 1.        , 0.44117647, 0.45945946],\n",
       "       [0.37142857, 0.43076923, 0.64705882, 0.10810811],\n",
       "       [0.22857143, 0.47692308, 0.26470588, 0.45945946],\n",
       "       [0.29285714, 0.53846154, 0.38235294, 0.64864865],\n",
       "       [0.3       , 0.55384615, 0.38235294, 0.56756757]])"
      ]
     },
     "execution_count": 13,
     "metadata": {},
     "output_type": "execute_result"
    }
   ],
   "source": [
    "# Transforma os dados de treino de acordo com os valores máximos e mínimos armazenados\n",
    "X_train = mm.fit_transform(X_train)\n",
    "\n",
    "X_train"
   ]
  },
  {
   "cell_type": "code",
   "execution_count": 14,
   "metadata": {},
   "outputs": [
    {
     "data": {
      "text/plain": [
       "array([[0.29285714, 0.58461538, 0.41176471, 0.59459459],\n",
       "       [0.39285714, 0.8       , 0.41176471, 0.45945946],\n",
       "       [0.32142857, 0.50769231, 0.32352941, 1.02702703],\n",
       "       [0.40714286, 0.63076923, 0.5       , 0.51351351],\n",
       "       [0.45714286, 0.8       , 0.5       , 0.59459459],\n",
       "       [0.02857143, 0.09230769, 0.05882353, 0.64864865],\n",
       "       [0.14285714, 0.63076923, 0.02941176, 0.48648649],\n",
       "       [1.02142857, 0.8       , 1.11764706, 0.51351351],\n",
       "       [0.28571429, 0.53846154, 0.52941176, 0.32432432],\n",
       "       [0.32857143, 0.55384615, 0.5       , 0.48648649],\n",
       "       [0.15714286, 0.67692308, 0.05882353, 0.51351351],\n",
       "       [0.35      , 0.93846154, 0.44117647, 0.45945946],\n",
       "       [0.3       , 0.53846154, 0.5       , 0.83783784],\n",
       "       [0.47857143, 0.61538462, 0.58823529, 0.72972973],\n",
       "       [0.14285714, 0.69230769, 0.08823529, 0.43243243]])"
      ]
     },
     "execution_count": 14,
     "metadata": {},
     "output_type": "execute_result"
    }
   ],
   "source": [
    "# Transforma os dados de teste de treino de acordo com os valores máximos e mínimos armazenados\n",
    "# É usado apenas transform, pois estamos transformando apenas os dados de acordo com a escala efetuada dos dados de treino\n",
    "X_test = mm.transform(X_test)\n",
    "\n",
    "X_test"
   ]
  },
  {
   "cell_type": "code",
   "execution_count": 15,
   "metadata": {},
   "outputs": [],
   "source": [
    "# Retreinando o knn\n",
    "knn = KNeighborsClassifier(n_neighbors=3)"
   ]
  },
  {
   "cell_type": "code",
   "execution_count": 16,
   "metadata": {},
   "outputs": [
    {
     "data": {
      "text/plain": [
       "KNeighborsClassifier(n_neighbors=3)"
      ]
     },
     "execution_count": 16,
     "metadata": {},
     "output_type": "execute_result"
    }
   ],
   "source": [
    "knn.fit(X_train,y_train)"
   ]
  },
  {
   "cell_type": "code",
   "execution_count": 17,
   "metadata": {},
   "outputs": [
    {
     "data": {
      "text/plain": [
       "0.8666666666666667"
      ]
     },
     "execution_count": 17,
     "metadata": {},
     "output_type": "execute_result"
    }
   ],
   "source": [
    "# Ao comparar os dados de teste e os seus rótulos ao resultado destes dados de teste no modelo\n",
    "# O modelo conseguiu predizer a classe de cada um dos dados de teste\n",
    "knn.score(X_test,y_test)"
   ]
  },
  {
   "cell_type": "code",
   "execution_count": 18,
   "metadata": {},
   "outputs": [
    {
     "data": {
      "text/plain": [
       "array([3, 4, 1, 3, 4, 2, 4, 3, 1, 1, 4, 4, 1, 1, 4], dtype=int64)"
      ]
     },
     "execution_count": 18,
     "metadata": {},
     "output_type": "execute_result"
    }
   ],
   "source": [
    "# Para predizer apenas os resultados\n",
    "knn.predict(X_test)"
   ]
  },
  {
   "cell_type": "code",
   "execution_count": 19,
   "metadata": {},
   "outputs": [
    {
     "data": {
      "text/plain": [
       "38    3\n",
       "45    4\n",
       "10    1\n",
       "33    3\n",
       "27    3\n",
       "4     2\n",
       "56    4\n",
       "26    3\n",
       "16    1\n",
       "17    1\n",
       "53    4\n",
       "48    4\n",
       "20    1\n",
       "31    3\n",
       "54    4\n",
       "Name: fruit_label, dtype: int64"
      ]
     },
     "execution_count": 19,
     "metadata": {},
     "output_type": "execute_result"
    }
   ],
   "source": [
    "y_test"
   ]
  },
  {
   "cell_type": "markdown",
   "metadata": {},
   "source": [
    "### KNN para Regressão (rótulos são números ordenáveis)"
   ]
  },
  {
   "cell_type": "code",
   "execution_count": 20,
   "metadata": {},
   "outputs": [],
   "source": [
    "# Média dos rótulos dos vizinhos mais próximos \n",
    "from sklearn.neighbors import KNeighborsRegressor"
   ]
  },
  {
   "cell_type": "code",
   "execution_count": 21,
   "metadata": {},
   "outputs": [],
   "source": [
    "knn = KNeighborsRegressor(n_neighbors=3)"
   ]
  },
  {
   "cell_type": "code",
   "execution_count": 22,
   "metadata": {},
   "outputs": [],
   "source": [
    "# O conjuntos de dados de frutas é um dataset para classificação, portanto usaremos este novo para exemplo\n",
    "from sklearn.datasets import load_boston"
   ]
  },
  {
   "cell_type": "code",
   "execution_count": 23,
   "metadata": {},
   "outputs": [],
   "source": [
    "# Preço de casas de diferentes regiões de Boston\n",
    "data = load_boston()"
   ]
  },
  {
   "cell_type": "code",
   "execution_count": 24,
   "metadata": {},
   "outputs": [],
   "source": [
    "# Já separa os atributos e os rótulos\n",
    "X, y = load_boston(return_X_y=True)"
   ]
  },
  {
   "cell_type": "code",
   "execution_count": 25,
   "metadata": {},
   "outputs": [
    {
     "data": {
      "text/plain": [
       "(506,)"
      ]
     },
     "execution_count": 25,
     "metadata": {},
     "output_type": "execute_result"
    }
   ],
   "source": [
    "# 506 rótulos, que seriam os preços das casas de cada região (a média do preço das casas de cada região)\n",
    "y.shape"
   ]
  },
  {
   "cell_type": "code",
   "execution_count": 26,
   "metadata": {},
   "outputs": [
    {
     "name": "stdout",
     "output_type": "stream",
     "text": [
      ".. _boston_dataset:\n",
      "\n",
      "Boston house prices dataset\n",
      "---------------------------\n",
      "\n",
      "**Data Set Characteristics:**  \n",
      "\n",
      "    :Number of Instances: 506 \n",
      "\n",
      "    :Number of Attributes: 13 numeric/categorical predictive. Median Value (attribute 14) is usually the target.\n",
      "\n",
      "    :Attribute Information (in order):\n",
      "        - CRIM     per capita crime rate by town\n",
      "        - ZN       proportion of residential land zoned for lots over 25,000 sq.ft.\n",
      "        - INDUS    proportion of non-retail business acres per town\n",
      "        - CHAS     Charles River dummy variable (= 1 if tract bounds river; 0 otherwise)\n",
      "        - NOX      nitric oxides concentration (parts per 10 million)\n",
      "        - RM       average number of rooms per dwelling\n",
      "        - AGE      proportion of owner-occupied units built prior to 1940\n",
      "        - DIS      weighted distances to five Boston employment centres\n",
      "        - RAD      index of accessibility to radial highways\n",
      "        - TAX      full-value property-tax rate per $10,000\n",
      "        - PTRATIO  pupil-teacher ratio by town\n",
      "        - B        1000(Bk - 0.63)^2 where Bk is the proportion of blacks by town\n",
      "        - LSTAT    % lower status of the population\n",
      "        - MEDV     Median value of owner-occupied homes in $1000's\n",
      "\n",
      "    :Missing Attribute Values: None\n",
      "\n",
      "    :Creator: Harrison, D. and Rubinfeld, D.L.\n",
      "\n",
      "This is a copy of UCI ML housing dataset.\n",
      "https://archive.ics.uci.edu/ml/machine-learning-databases/housing/\n",
      "\n",
      "\n",
      "This dataset was taken from the StatLib library which is maintained at Carnegie Mellon University.\n",
      "\n",
      "The Boston house-price data of Harrison, D. and Rubinfeld, D.L. 'Hedonic\n",
      "prices and the demand for clean air', J. Environ. Economics & Management,\n",
      "vol.5, 81-102, 1978.   Used in Belsley, Kuh & Welsch, 'Regression diagnostics\n",
      "...', Wiley, 1980.   N.B. Various transformations are used in the table on\n",
      "pages 244-261 of the latter.\n",
      "\n",
      "The Boston house-price data has been used in many machine learning papers that address regression\n",
      "problems.   \n",
      "     \n",
      ".. topic:: References\n",
      "\n",
      "   - Belsley, Kuh & Welsch, 'Regression diagnostics: Identifying Influential Data and Sources of Collinearity', Wiley, 1980. 244-261.\n",
      "   - Quinlan,R. (1993). Combining Instance-Based and Model-Based Learning. In Proceedings on the Tenth International Conference of Machine Learning, 236-243, University of Massachusetts, Amherst. Morgan Kaufmann.\n",
      "\n"
     ]
    }
   ],
   "source": [
    "# Para entender melhor\n",
    "print(load_boston()['DESCR'])"
   ]
  },
  {
   "cell_type": "code",
   "execution_count": 27,
   "metadata": {},
   "outputs": [],
   "source": [
    "from sklearn.model_selection import train_test_split"
   ]
  },
  {
   "cell_type": "code",
   "execution_count": 28,
   "metadata": {},
   "outputs": [],
   "source": [
    "X_train, X_test, y_train, y_test = train_test_split(X,y)"
   ]
  },
  {
   "cell_type": "code",
   "execution_count": 29,
   "metadata": {},
   "outputs": [
    {
     "data": {
      "text/plain": [
       "KNeighborsRegressor(n_neighbors=3)"
      ]
     },
     "execution_count": 29,
     "metadata": {},
     "output_type": "execute_result"
    }
   ],
   "source": [
    "# A partir desse momento a execução do knn para regressão é igual a execução do knn para classificação\n",
    "# O knn pra regressão armazenou os valores de treino \n",
    "knn.fit(X_train,y_train)"
   ]
  },
  {
   "cell_type": "code",
   "execution_count": 30,
   "metadata": {},
   "outputs": [
    {
     "data": {
      "text/plain": [
       "0.6013840478349314"
      ]
     },
     "execution_count": 30,
     "metadata": {},
     "output_type": "execute_result"
    }
   ],
   "source": [
    "# Resultado da regressão em cima deste conjunto de dados\n",
    "knn.score(X_test,y_test)"
   ]
  },
  {
   "cell_type": "code",
   "execution_count": 31,
   "metadata": {},
   "outputs": [],
   "source": [
    "# Vamos usar o minmaxscaler e testar k número de vizinhos\n",
    "mm = MinMaxScaler()"
   ]
  },
  {
   "cell_type": "code",
   "execution_count": 32,
   "metadata": {},
   "outputs": [
    {
     "data": {
      "text/plain": [
       "array([[0.15782951, 0.        , 0.64662757, ..., 0.80851064, 0.0824839 ,\n",
       "        0.53536755],\n",
       "       [0.11985032, 0.        , 0.64662757, ..., 0.80851064, 0.10279426,\n",
       "        0.61192788],\n",
       "       [0.00201535, 0.        , 0.23643695, ..., 0.56382979, 1.        ,\n",
       "        0.33925104],\n",
       "       ...,\n",
       "       [0.06105715, 0.        , 0.64662757, ..., 0.80851064, 0.89449262,\n",
       "        0.43855756],\n",
       "       [0.0010052 , 0.        , 0.9233871 , ..., 0.69148936, 0.95557584,\n",
       "        0.43439667],\n",
       "       [0.00892071, 0.        , 0.28152493, ..., 0.89361702, 0.72638065,\n",
       "        0.27101248]])"
      ]
     },
     "execution_count": 32,
     "metadata": {},
     "output_type": "execute_result"
    }
   ],
   "source": [
    "X_train = mm.fit_transform(X_train)\n",
    "\n",
    "X_train"
   ]
  },
  {
   "cell_type": "code",
   "execution_count": 33,
   "metadata": {},
   "outputs": [
    {
     "data": {
      "text/plain": [
       "array([[1.08354613e-04, 8.50000000e-01, 1.35263930e-01, ...,\n",
       "        5.63829787e-01, 9.88665754e-01, 1.23162275e-01],\n",
       "       [5.16033223e-04, 0.00000000e+00, 1.73387097e-01, ...,\n",
       "        8.08510638e-01, 1.00000000e+00, 2.16920943e-01],\n",
       "       [8.24798909e-04, 3.00000000e-01, 1.63856305e-01, ...,\n",
       "        4.25531915e-01, 9.55651909e-01, 1.23162275e-01],\n",
       "       ...,\n",
       "       [7.94900229e-04, 4.00000000e-01, 2.18108504e-01, ...,\n",
       "        5.31914894e-01, 1.00000000e+00, 1.46185853e-01],\n",
       "       [1.71736891e-01, 0.00000000e+00, 6.46627566e-01, ...,\n",
       "        8.08510638e-01, 9.14093007e-01, 5.91400832e-01],\n",
       "       [1.09198969e-01, 0.00000000e+00, 6.46627566e-01, ...,\n",
       "        8.08510638e-01, 9.72260257e-01, 4.88210818e-01]])"
      ]
     },
     "execution_count": 33,
     "metadata": {},
     "output_type": "execute_result"
    }
   ],
   "source": [
    "X_test = mm.transform(X_test)\n",
    "\n",
    "X_test"
   ]
  },
  {
   "cell_type": "code",
   "execution_count": 34,
   "metadata": {},
   "outputs": [],
   "source": [
    "# Retreinando o knn\n",
    "knn = KNeighborsRegressor(n_neighbors=3)"
   ]
  },
  {
   "cell_type": "code",
   "execution_count": 35,
   "metadata": {},
   "outputs": [
    {
     "data": {
      "text/plain": [
       "KNeighborsRegressor(n_neighbors=3)"
      ]
     },
     "execution_count": 35,
     "metadata": {},
     "output_type": "execute_result"
    }
   ],
   "source": [
    "knn.fit(X_train,y_train)"
   ]
  },
  {
   "cell_type": "code",
   "execution_count": 36,
   "metadata": {},
   "outputs": [
    {
     "data": {
      "text/plain": [
       "0.7661308828145639"
      ]
     },
     "execution_count": 36,
     "metadata": {},
     "output_type": "execute_result"
    }
   ],
   "source": [
    "knn.score(X_test,y_test)"
   ]
  },
  {
   "cell_type": "code",
   "execution_count": 37,
   "metadata": {},
   "outputs": [
    {
     "data": {
      "text/plain": [
       "0.7446848555509833"
      ]
     },
     "execution_count": 37,
     "metadata": {},
     "output_type": "execute_result"
    }
   ],
   "source": [
    "# Acima de k = 3, o acerto começa a diminuir\n",
    "knn = KNeighborsRegressor(n_neighbors=4)\n",
    "knn.fit(X_train,y_train)\n",
    "knn.score(X_test,y_test)"
   ]
  }
 ],
 "metadata": {
  "kernelspec": {
   "display_name": "Python 3",
   "language": "python",
   "name": "python3"
  },
  "language_info": {
   "codemirror_mode": {
    "name": "ipython",
    "version": 3
   },
   "file_extension": ".py",
   "mimetype": "text/x-python",
   "name": "python",
   "nbconvert_exporter": "python",
   "pygments_lexer": "ipython3",
   "version": "3.8.5"
  }
 },
 "nbformat": 4,
 "nbformat_minor": 4
}

{
 "cells": [
  {
   "cell_type": "markdown",
   "metadata": {},
   "source": [
    "# Introdução ao KNN\n",
    "\n",
    "**Objetivos**\n",
    "\n",
    "* Exemplificar a distância Euclidiana\n",
    "* Demonstração do KNN para classificação usando fruit_data_with_colors\n",
    "* Demonstração de pré-processamento de dados para o KNN\n",
    "* Demonstração do KNN para regressão usando load_boston\n",
    "\n",
    "**Características do Data Set 1**\n",
    "\n",
    "* Linhas: 59\n",
    "* Colunas: 7\n",
    "* Formato do arquivo: txt\n",
    "\n",
    "**Características do Data Set 2**\n",
    "\n",
    "* Linhas: 506\n",
    "* Colunas: 14"
   ]
  },
  {
   "cell_type": "code",
   "execution_count": 1,
   "metadata": {},
   "outputs": [
    {
     "data": {
      "text/plain": [
       "3.0"
      ]
     },
     "execution_count": 1,
     "metadata": {},
     "output_type": "execute_result"
    }
   ],
   "source": [
    "# Distância Euclidiana é usada no KNN\n",
    "# Não pode ser negativa\n",
    "# É sensível a outliers\n",
    "2-5\n",
    "(2-5)**2\n",
    "((2-5)**2)**(0.5)"
   ]
  },
  {
   "cell_type": "code",
   "execution_count": 2,
   "metadata": {},
   "outputs": [
    {
     "data": {
      "text/plain": [
       "3.010398644698074"
      ]
     },
     "execution_count": 2,
     "metadata": {},
     "output_type": "execute_result"
    }
   ],
   "source": [
    "# Exemplo de distância entre dois pontos\n",
    "a = [5,0.75]\n",
    "b = [2,0.50]\n",
    "((5-2)**2 + (0.75 - 0.50)**2)**0.5"
   ]
  },
  {
   "cell_type": "markdown",
   "metadata": {},
   "source": [
    "### KNN para classificação (rótulos de classes)"
   ]
  },
  {
   "cell_type": "code",
   "execution_count": 3,
   "metadata": {},
   "outputs": [],
   "source": [
    "# Importando a classe\n",
    "from sklearn.neighbors import KNeighborsClassifier\n",
    "import pandas as pd\n",
    "import matplotlib.pyplot as plt"
   ]
  },
  {
   "cell_type": "code",
   "execution_count": 4,
   "metadata": {},
   "outputs": [],
   "source": [
    "# Instanciando o método numa variável\n",
    "# Cada novo elemento será comparado aos 3 vizinhos mais próximos (escolha sempre k ímpar para evitar empate)\n",
    "knn = KNeighborsClassifier(n_neighbors=3)"
   ]
  },
  {
   "cell_type": "code",
   "execution_count": 5,
   "metadata": {},
   "outputs": [
    {
     "data": {
      "text/html": [
       "<div>\n",
       "<style scoped>\n",
       "    .dataframe tbody tr th:only-of-type {\n",
       "        vertical-align: middle;\n",
       "    }\n",
       "\n",
       "    .dataframe tbody tr th {\n",
       "        vertical-align: top;\n",
       "    }\n",
       "\n",
       "    .dataframe thead th {\n",
       "        text-align: right;\n",
       "    }\n",
       "</style>\n",
       "<table border=\"1\" class=\"dataframe\">\n",
       "  <thead>\n",
       "    <tr style=\"text-align: right;\">\n",
       "      <th></th>\n",
       "      <th>fruit_label</th>\n",
       "      <th>fruit_name</th>\n",
       "      <th>fruit_subtype</th>\n",
       "      <th>mass</th>\n",
       "      <th>width</th>\n",
       "      <th>height</th>\n",
       "      <th>color_score</th>\n",
       "    </tr>\n",
       "  </thead>\n",
       "  <tbody>\n",
       "    <tr>\n",
       "      <th>0</th>\n",
       "      <td>1</td>\n",
       "      <td>apple</td>\n",
       "      <td>granny_smith</td>\n",
       "      <td>192</td>\n",
       "      <td>8.4</td>\n",
       "      <td>7.3</td>\n",
       "      <td>0.55</td>\n",
       "    </tr>\n",
       "    <tr>\n",
       "      <th>1</th>\n",
       "      <td>1</td>\n",
       "      <td>apple</td>\n",
       "      <td>granny_smith</td>\n",
       "      <td>180</td>\n",
       "      <td>8.0</td>\n",
       "      <td>6.8</td>\n",
       "      <td>0.59</td>\n",
       "    </tr>\n",
       "    <tr>\n",
       "      <th>2</th>\n",
       "      <td>1</td>\n",
       "      <td>apple</td>\n",
       "      <td>granny_smith</td>\n",
       "      <td>176</td>\n",
       "      <td>7.4</td>\n",
       "      <td>7.2</td>\n",
       "      <td>0.60</td>\n",
       "    </tr>\n",
       "    <tr>\n",
       "      <th>3</th>\n",
       "      <td>2</td>\n",
       "      <td>mandarin</td>\n",
       "      <td>mandarin</td>\n",
       "      <td>86</td>\n",
       "      <td>6.2</td>\n",
       "      <td>4.7</td>\n",
       "      <td>0.80</td>\n",
       "    </tr>\n",
       "    <tr>\n",
       "      <th>4</th>\n",
       "      <td>2</td>\n",
       "      <td>mandarin</td>\n",
       "      <td>mandarin</td>\n",
       "      <td>84</td>\n",
       "      <td>6.0</td>\n",
       "      <td>4.6</td>\n",
       "      <td>0.79</td>\n",
       "    </tr>\n",
       "  </tbody>\n",
       "</table>\n",
       "</div>"
      ],
      "text/plain": [
       "   fruit_label fruit_name fruit_subtype  mass  width  height  color_score\n",
       "0            1      apple  granny_smith   192    8.4     7.3         0.55\n",
       "1            1      apple  granny_smith   180    8.0     6.8         0.59\n",
       "2            1      apple  granny_smith   176    7.4     7.2         0.60\n",
       "3            2   mandarin      mandarin    86    6.2     4.7         0.80\n",
       "4            2   mandarin      mandarin    84    6.0     4.6         0.79"
      ]
     },
     "execution_count": 5,
     "metadata": {},
     "output_type": "execute_result"
    }
   ],
   "source": [
    "# Vamos trabalhar novamente com as frutas\n",
    "data = pd.read_table('fruit_data_with_colors.txt')\n",
    "data.head()"
   ]
  },
  {
   "cell_type": "code",
   "execution_count": 6,
   "metadata": {},
   "outputs": [],
   "source": [
    "# Atributos\n",
    "X = data[['mass','height','width','color_score']]\n",
    "\n",
    "# Label(rótulos)\n",
    "y = data['fruit_label']"
   ]
  },
  {
   "cell_type": "code",
   "execution_count": 7,
   "metadata": {},
   "outputs": [],
   "source": [
    "from sklearn.model_selection import train_test_split"
   ]
  },
  {
   "cell_type": "code",
   "execution_count": 8,
   "metadata": {},
   "outputs": [],
   "source": [
    "# Na matemática utilizamos letras maiúsculas para representar matrizes\n",
    "X_train, X_test, y_train, y_test = train_test_split(X,y)"
   ]
  },
  {
   "cell_type": "code",
   "execution_count": 9,
   "metadata": {},
   "outputs": [
    {
     "data": {
      "text/plain": [
       "KNeighborsClassifier(n_neighbors=3)"
      ]
     },
     "execution_count": 9,
     "metadata": {},
     "output_type": "execute_result"
    }
   ],
   "source": [
    "knn.fit(X_train,y_train)"
   ]
  },
  {
   "cell_type": "code",
   "execution_count": 10,
   "metadata": {},
   "outputs": [
    {
     "data": {
      "text/plain": [
       "0.5333333333333333"
      ]
     },
     "execution_count": 10,
     "metadata": {},
     "output_type": "execute_result"
    }
   ],
   "source": [
    "# Para avaliar o modelo\n",
    "# A divisão de treino e teste divide os dados de maneira aleatória\n",
    "# Um bom acerto é acima de 70% ou 80%\n",
    "# A ordem de grandeza dos dados vai influenciar na distância no knn\n",
    "knn.score(X_test,y_test)"
   ]
  },
  {
   "cell_type": "markdown",
   "metadata": {},
   "source": [
    "### Pré-processando os dados para o KNN"
   ]
  },
  {
   "cell_type": "code",
   "execution_count": 11,
   "metadata": {},
   "outputs": [],
   "source": [
    "# Função para conversão de escala\n",
    "from sklearn.preprocessing import MinMaxScaler"
   ]
  },
  {
   "cell_type": "code",
   "execution_count": 12,
   "metadata": {},
   "outputs": [],
   "source": [
    "# Armazenando a função\n",
    "mm = MinMaxScaler()"
   ]
  },
  {
   "cell_type": "code",
   "execution_count": 13,
   "metadata": {},
   "outputs": [
    {
     "data": {
      "text/plain": [
       "array([[0.01398601, 0.04615385, 0.        , 0.57894737],\n",
       "       [0.29370629, 0.55384615, 0.34210526, 0.55263158],\n",
       "       [0.32867133, 0.6       , 0.47368421, 0.86842105],\n",
       "       [0.22377622, 0.47692308, 0.39473684, 0.84210526],\n",
       "       [0.14685315, 0.63076923, 0.07894737, 0.39473684],\n",
       "       [0.03496503, 0.10769231, 0.10526316, 0.65789474],\n",
       "       [0.26573427, 0.50769231, 0.47368421, 0.36842105],\n",
       "       [0.15384615, 0.67692308, 0.05263158, 0.5       ],\n",
       "       [0.        , 0.        , 0.        , 0.68421053],\n",
       "       [0.41258741, 0.96923077, 0.36842105, 0.39473684],\n",
       "       [0.27272727, 0.50769231, 0.39473684, 0.63157895],\n",
       "       [0.43356643, 1.        , 0.39473684, 0.44736842],\n",
       "       [0.13986014, 0.63076923, 0.02631579, 0.47368421],\n",
       "       [0.34965035, 0.49230769, 0.42105263, 0.13157895],\n",
       "       [0.31468531, 0.50769231, 0.28947368, 1.        ],\n",
       "       [0.28671329, 0.58461538, 0.36842105, 0.57894737],\n",
       "       [0.27972028, 0.53846154, 0.47368421, 0.31578947],\n",
       "       [0.02797203, 0.09230769, 0.05263158, 0.63157895],\n",
       "       [0.25874126, 0.6       , 0.34210526, 0.52631579],\n",
       "       [0.23076923, 0.58461538, 0.47368421, 0.52631579],\n",
       "       [0.41958042, 0.87692308, 0.39473684, 0.44736842],\n",
       "       [0.93006993, 0.83076923, 0.84210526, 0.52631579],\n",
       "       [0.13986014, 0.69230769, 0.07894737, 0.42105263],\n",
       "       [0.01398601, 0.04615385, 0.02631579, 0.68421053],\n",
       "       [0.27972028, 0.47692308, 0.5       , 0.36842105],\n",
       "       [0.3006993 , 0.49230769, 0.42105263, 0.78947368],\n",
       "       [0.44755245, 0.8       , 0.44736842, 0.57894737],\n",
       "       [0.36363636, 0.43076923, 0.57894737, 0.10526316],\n",
       "       [0.33566434, 0.46153846, 0.42105263, 0.89473684],\n",
       "       [0.30769231, 0.46153846, 0.36842105, 0.65789474],\n",
       "       [0.29370629, 0.52307692, 0.31578947, 0.68421053],\n",
       "       [0.13986014, 0.53846154, 0.05263158, 0.44736842],\n",
       "       [0.27972028, 0.52307692, 0.42105263, 0.76315789],\n",
       "       [1.        , 0.8       , 1.        , 0.5       ],\n",
       "       [0.3006993 , 0.47692308, 0.44736842, 0.73684211],\n",
       "       [0.18881119, 0.64615385, 0.05263158, 0.42105263],\n",
       "       [0.23776224, 0.52307692, 0.26315789, 0.52631579],\n",
       "       [0.35664336, 0.58461538, 0.34210526, 0.97368421],\n",
       "       [0.30769231, 0.56923077, 0.39473684, 0.39473684],\n",
       "       [0.97902098, 0.8       , 0.89473684, 0.52631579],\n",
       "       [0.36363636, 0.64615385, 0.47368421, 0.63157895],\n",
       "       [0.40559441, 0.50769231, 0.68421053, 0.        ],\n",
       "       [0.34265734, 0.93846154, 0.39473684, 0.44736842],\n",
       "       [0.26573427, 0.69230769, 0.18421053, 0.44736842]])"
      ]
     },
     "execution_count": 13,
     "metadata": {},
     "output_type": "execute_result"
    }
   ],
   "source": [
    "# Transforma os dados de treino de acordo com os valores máximos e mínimos armazenados\n",
    "X_train = mm.fit_transform(X_train)\n",
    "\n",
    "X_train"
   ]
  },
  {
   "cell_type": "code",
   "execution_count": 14,
   "metadata": {},
   "outputs": [
    {
     "data": {
      "text/plain": [
       "array([[0.3986014 , 0.63076923, 0.44736842, 0.5       ],\n",
       "       [0.32167832, 0.55384615, 0.44736842, 0.47368421],\n",
       "       [0.38461538, 0.8       , 0.36842105, 0.44736842],\n",
       "       [0.33566434, 0.55384615, 0.34210526, 0.97368421],\n",
       "       [0.14685315, 0.61538462, 0.02631579, 0.44736842],\n",
       "       [0.13986014, 0.56923077, 0.13157895, 0.44736842],\n",
       "       [0.29370629, 0.53846154, 0.44736842, 0.81578947],\n",
       "       [0.27272727, 0.53846154, 0.34210526, 0.60526316],\n",
       "       [0.48951049, 0.95384615, 0.39473684, 0.42105263],\n",
       "       [0.46853147, 0.61538462, 0.52631579, 0.71052632],\n",
       "       [0.28671329, 0.53846154, 0.34210526, 0.63157895],\n",
       "       [0.1958042 , 0.72307692, 0.        , 0.47368421],\n",
       "       [0.27272727, 0.49230769, 0.36842105, 0.71052632],\n",
       "       [0.22377622, 0.47692308, 0.23684211, 0.44736842],\n",
       "       [0.27272727, 0.47692308, 0.31578947, 0.86842105]])"
      ]
     },
     "execution_count": 14,
     "metadata": {},
     "output_type": "execute_result"
    }
   ],
   "source": [
    "# Transforma os dados de teste de treino de acordo com os valores máximos e mínimos armazenados\n",
    "# É usado apenas transform, pois estamos transformando apenas os dados de acordo com a escala efetuada dos dados de treino\n",
    "X_test = mm.transform(X_test)\n",
    "\n",
    "X_test"
   ]
  },
  {
   "cell_type": "code",
   "execution_count": 15,
   "metadata": {},
   "outputs": [],
   "source": [
    "# Retreinando o knn\n",
    "knn = KNeighborsClassifier(n_neighbors=3)"
   ]
  },
  {
   "cell_type": "code",
   "execution_count": 16,
   "metadata": {},
   "outputs": [
    {
     "data": {
      "text/plain": [
       "KNeighborsClassifier(n_neighbors=3)"
      ]
     },
     "execution_count": 16,
     "metadata": {},
     "output_type": "execute_result"
    }
   ],
   "source": [
    "knn.fit(X_train,y_train)"
   ]
  },
  {
   "cell_type": "code",
   "execution_count": 17,
   "metadata": {},
   "outputs": [
    {
     "data": {
      "text/plain": [
       "0.9333333333333333"
      ]
     },
     "execution_count": 17,
     "metadata": {},
     "output_type": "execute_result"
    }
   ],
   "source": [
    "# Ao comparar os dados de teste e os seus rótulos ao resultado destes dados de teste no modelo\n",
    "# O modelo conseguiu predizer a classe de cada um dos dados de teste\n",
    "knn.score(X_test,y_test)"
   ]
  },
  {
   "cell_type": "code",
   "execution_count": 18,
   "metadata": {},
   "outputs": [
    {
     "data": {
      "text/plain": [
       "array([3, 1, 4, 1, 4, 4, 1, 3, 4, 1, 3, 4, 3, 3, 1], dtype=int64)"
      ]
     },
     "execution_count": 18,
     "metadata": {},
     "output_type": "execute_result"
    }
   ],
   "source": [
    "# Para predizer apenas os resultados\n",
    "knn.predict(X_test)"
   ]
  },
  {
   "cell_type": "code",
   "execution_count": 19,
   "metadata": {},
   "outputs": [
    {
     "data": {
      "text/plain": [
       "33    3\n",
       "17    1\n",
       "45    4\n",
       "11    1\n",
       "52    4\n",
       "55    4\n",
       "20    1\n",
       "40    3\n",
       "46    4\n",
       "31    3\n",
       "30    3\n",
       "49    4\n",
       "42    3\n",
       "28    3\n",
       "12    1\n",
       "Name: fruit_label, dtype: int64"
      ]
     },
     "execution_count": 19,
     "metadata": {},
     "output_type": "execute_result"
    }
   ],
   "source": [
    "y_test"
   ]
  },
  {
   "cell_type": "markdown",
   "metadata": {},
   "source": [
    "### KNN para Regressão (rótulos são números ordenáveis)"
   ]
  },
  {
   "cell_type": "code",
   "execution_count": 20,
   "metadata": {},
   "outputs": [],
   "source": [
    "# Média dos rótulos dos vizinhos mais próximos \n",
    "from sklearn.neighbors import KNeighborsRegressor"
   ]
  },
  {
   "cell_type": "code",
   "execution_count": 21,
   "metadata": {},
   "outputs": [],
   "source": [
    "knn = KNeighborsRegressor(n_neighbors=3)"
   ]
  },
  {
   "cell_type": "code",
   "execution_count": 22,
   "metadata": {},
   "outputs": [],
   "source": [
    "# O conjuntos de dados de frutas é um dataset para classificação, portanto usaremos este novo para exemplo\n",
    "from sklearn.datasets import load_boston"
   ]
  },
  {
   "cell_type": "code",
   "execution_count": 23,
   "metadata": {},
   "outputs": [
    {
     "name": "stderr",
     "output_type": "stream",
     "text": [
      "C:\\Users\\jonat\\anaconda3\\lib\\site-packages\\sklearn\\utils\\deprecation.py:87: FutureWarning: Function load_boston is deprecated; `load_boston` is deprecated in 1.0 and will be removed in 1.2.\n",
      "\n",
      "    The Boston housing prices dataset has an ethical problem. You can refer to\n",
      "    the documentation of this function for further details.\n",
      "\n",
      "    The scikit-learn maintainers therefore strongly discourage the use of this\n",
      "    dataset unless the purpose of the code is to study and educate about\n",
      "    ethical issues in data science and machine learning.\n",
      "\n",
      "    In this special case, you can fetch the dataset from the original\n",
      "    source::\n",
      "\n",
      "        import pandas as pd\n",
      "        import numpy as np\n",
      "\n",
      "\n",
      "        data_url = \"http://lib.stat.cmu.edu/datasets/boston\"\n",
      "        raw_df = pd.read_csv(data_url, sep=\"\\s+\", skiprows=22, header=None)\n",
      "        data = np.hstack([raw_df.values[::2, :], raw_df.values[1::2, :2]])\n",
      "        target = raw_df.values[1::2, 2]\n",
      "\n",
      "    Alternative datasets include the California housing dataset (i.e.\n",
      "    :func:`~sklearn.datasets.fetch_california_housing`) and the Ames housing\n",
      "    dataset. You can load the datasets as follows::\n",
      "\n",
      "        from sklearn.datasets import fetch_california_housing\n",
      "        housing = fetch_california_housing()\n",
      "\n",
      "    for the California housing dataset and::\n",
      "\n",
      "        from sklearn.datasets import fetch_openml\n",
      "        housing = fetch_openml(name=\"house_prices\", as_frame=True)\n",
      "\n",
      "    for the Ames housing dataset.\n",
      "    \n",
      "  warnings.warn(msg, category=FutureWarning)\n"
     ]
    }
   ],
   "source": [
    "# Preço de casas de diferentes regiões de Boston\n",
    "data = load_boston()"
   ]
  },
  {
   "cell_type": "code",
   "execution_count": 24,
   "metadata": {},
   "outputs": [],
   "source": [
    "# Já separa os atributos e os rótulos\n",
    "X, y = load_boston(return_X_y=True)"
   ]
  },
  {
   "cell_type": "code",
   "execution_count": 25,
   "metadata": {},
   "outputs": [
    {
     "data": {
      "text/plain": [
       "(506,)"
      ]
     },
     "execution_count": 25,
     "metadata": {},
     "output_type": "execute_result"
    }
   ],
   "source": [
    "# 506 rótulos, que seriam os preços das casas de cada região (a média do preço das casas de cada região)\n",
    "y.shape"
   ]
  },
  {
   "cell_type": "code",
   "execution_count": 26,
   "metadata": {},
   "outputs": [
    {
     "name": "stdout",
     "output_type": "stream",
     "text": [
      ".. _boston_dataset:\n",
      "\n",
      "Boston house prices dataset\n",
      "---------------------------\n",
      "\n",
      "**Data Set Characteristics:**  \n",
      "\n",
      "    :Number of Instances: 506 \n",
      "\n",
      "    :Number of Attributes: 13 numeric/categorical predictive. Median Value (attribute 14) is usually the target.\n",
      "\n",
      "    :Attribute Information (in order):\n",
      "        - CRIM     per capita crime rate by town\n",
      "        - ZN       proportion of residential land zoned for lots over 25,000 sq.ft.\n",
      "        - INDUS    proportion of non-retail business acres per town\n",
      "        - CHAS     Charles River dummy variable (= 1 if tract bounds river; 0 otherwise)\n",
      "        - NOX      nitric oxides concentration (parts per 10 million)\n",
      "        - RM       average number of rooms per dwelling\n",
      "        - AGE      proportion of owner-occupied units built prior to 1940\n",
      "        - DIS      weighted distances to five Boston employment centres\n",
      "        - RAD      index of accessibility to radial highways\n",
      "        - TAX      full-value property-tax rate per $10,000\n",
      "        - PTRATIO  pupil-teacher ratio by town\n",
      "        - B        1000(Bk - 0.63)^2 where Bk is the proportion of black people by town\n",
      "        - LSTAT    % lower status of the population\n",
      "        - MEDV     Median value of owner-occupied homes in $1000's\n",
      "\n",
      "    :Missing Attribute Values: None\n",
      "\n",
      "    :Creator: Harrison, D. and Rubinfeld, D.L.\n",
      "\n",
      "This is a copy of UCI ML housing dataset.\n",
      "https://archive.ics.uci.edu/ml/machine-learning-databases/housing/\n",
      "\n",
      "\n",
      "This dataset was taken from the StatLib library which is maintained at Carnegie Mellon University.\n",
      "\n",
      "The Boston house-price data of Harrison, D. and Rubinfeld, D.L. 'Hedonic\n",
      "prices and the demand for clean air', J. Environ. Economics & Management,\n",
      "vol.5, 81-102, 1978.   Used in Belsley, Kuh & Welsch, 'Regression diagnostics\n",
      "...', Wiley, 1980.   N.B. Various transformations are used in the table on\n",
      "pages 244-261 of the latter.\n",
      "\n",
      "The Boston house-price data has been used in many machine learning papers that address regression\n",
      "problems.   \n",
      "     \n",
      ".. topic:: References\n",
      "\n",
      "   - Belsley, Kuh & Welsch, 'Regression diagnostics: Identifying Influential Data and Sources of Collinearity', Wiley, 1980. 244-261.\n",
      "   - Quinlan,R. (1993). Combining Instance-Based and Model-Based Learning. In Proceedings on the Tenth International Conference of Machine Learning, 236-243, University of Massachusetts, Amherst. Morgan Kaufmann.\n",
      "\n"
     ]
    }
   ],
   "source": [
    "# Para entender melhor\n",
    "# Atributo B, é sério isso, professor? B é um atributo racista.\n",
    "print(load_boston()['DESCR'])"
   ]
  },
  {
   "cell_type": "code",
   "execution_count": 27,
   "metadata": {},
   "outputs": [],
   "source": [
    "from sklearn.model_selection import train_test_split"
   ]
  },
  {
   "cell_type": "code",
   "execution_count": 28,
   "metadata": {},
   "outputs": [],
   "source": [
    "X_train, X_test, y_train, y_test = train_test_split(X,y)"
   ]
  },
  {
   "cell_type": "code",
   "execution_count": 29,
   "metadata": {},
   "outputs": [
    {
     "data": {
      "text/plain": [
       "KNeighborsRegressor(n_neighbors=3)"
      ]
     },
     "execution_count": 29,
     "metadata": {},
     "output_type": "execute_result"
    }
   ],
   "source": [
    "# A partir desse momento a execução do knn para regressão é igual a execução do knn para classificação\n",
    "# O knn pra regressão armazenou os valores de treino \n",
    "knn.fit(X_train,y_train)"
   ]
  },
  {
   "cell_type": "code",
   "execution_count": 30,
   "metadata": {},
   "outputs": [
    {
     "data": {
      "text/plain": [
       "0.45744105784821276"
      ]
     },
     "execution_count": 30,
     "metadata": {},
     "output_type": "execute_result"
    }
   ],
   "source": [
    "# Resultado da regressão em cima deste conjunto de dados\n",
    "knn.score(X_test,y_test)"
   ]
  },
  {
   "cell_type": "code",
   "execution_count": 31,
   "metadata": {},
   "outputs": [],
   "source": [
    "# Vamos usar o minmaxscaler e testar k número de vizinhos\n",
    "mm = MinMaxScaler()"
   ]
  },
  {
   "cell_type": "code",
   "execution_count": 32,
   "metadata": {},
   "outputs": [
    {
     "data": {
      "text/plain": [
       "array([[1.65551034e-02, 0.00000000e+00, 6.97777778e-01, ...,\n",
       "        2.23404255e-01, 9.15603409e-01, 8.11347518e-02],\n",
       "       [7.26500923e-03, 2.00000000e-01, 1.19629630e-01, ...,\n",
       "        4.25531915e-02, 9.83357708e-01, 4.05673759e-02],\n",
       "       [8.27415162e-03, 0.00000000e+00, 2.02222222e-01, ...,\n",
       "        5.10638298e-01, 1.00000000e+00, 1.66524823e-01],\n",
       "       ...,\n",
       "       [7.50002244e-03, 0.00000000e+00, 7.83333333e-01, ...,\n",
       "        9.14893617e-01, 9.94376923e-01, 4.32056738e-01],\n",
       "       [8.17378139e-04, 0.00000000e+00, 1.22592593e-01, ...,\n",
       "        4.25531915e-01, 9.85803621e-01, 1.47234043e-01],\n",
       "       [1.25353982e-03, 0.00000000e+00, 9.22592593e-01, ...,\n",
       "        6.91489362e-01, 9.55822280e-01, 4.49645390e-01]])"
      ]
     },
     "execution_count": 32,
     "metadata": {},
     "output_type": "execute_result"
    }
   ],
   "source": [
    "X_train = mm.fit_transform(X_train)\n",
    "\n",
    "X_train"
   ]
  },
  {
   "cell_type": "code",
   "execution_count": 33,
   "metadata": {},
   "outputs": [
    {
     "data": {
      "text/plain": [
       "array([[5.20891560e-04, 2.50000000e-01, 1.52592593e-01, ...,\n",
       "        6.80851064e-01, 9.96797620e-01, 1.55744681e-01],\n",
       "       [7.01367565e-04, 1.25000000e-01, 1.97407407e-01, ...,\n",
       "        6.70212766e-01, 9.98260124e-01, 1.80709220e-01],\n",
       "       [1.11378312e-02, 2.00000000e-01, 1.19629630e-01, ...,\n",
       "        4.25531915e-02, 9.91224974e-01, 2.70070922e-01],\n",
       "       ...,\n",
       "       [7.78595519e-02, 0.00000000e+00, 6.42962963e-01, ...,\n",
       "        8.08510638e-01, 9.95915074e-01, 1.49787234e-01],\n",
       "       [3.77544378e-03, 0.00000000e+00, 2.45925926e-01, ...,\n",
       "        7.44680851e-01, 9.85450603e-01, 2.83971631e-01],\n",
       "       [3.98271238e-03, 2.00000000e-01, 2.30370370e-01, ...,\n",
       "        6.38297872e-01, 9.79197136e-01, 3.19716312e-01]])"
      ]
     },
     "execution_count": 33,
     "metadata": {},
     "output_type": "execute_result"
    }
   ],
   "source": [
    "X_test = mm.transform(X_test)\n",
    "\n",
    "X_test"
   ]
  },
  {
   "cell_type": "code",
   "execution_count": 34,
   "metadata": {},
   "outputs": [],
   "source": [
    "# Retreinando o knn\n",
    "knn = KNeighborsRegressor(n_neighbors=3)"
   ]
  },
  {
   "cell_type": "code",
   "execution_count": 35,
   "metadata": {},
   "outputs": [
    {
     "data": {
      "text/plain": [
       "KNeighborsRegressor(n_neighbors=3)"
      ]
     },
     "execution_count": 35,
     "metadata": {},
     "output_type": "execute_result"
    }
   ],
   "source": [
    "knn.fit(X_train,y_train)"
   ]
  },
  {
   "cell_type": "code",
   "execution_count": 36,
   "metadata": {},
   "outputs": [
    {
     "data": {
      "text/plain": [
       "0.7701491719483432"
      ]
     },
     "execution_count": 36,
     "metadata": {},
     "output_type": "execute_result"
    }
   ],
   "source": [
    "knn.score(X_test,y_test)"
   ]
  },
  {
   "cell_type": "code",
   "execution_count": 37,
   "metadata": {},
   "outputs": [
    {
     "data": {
      "text/plain": [
       "0.7569690450030546"
      ]
     },
     "execution_count": 37,
     "metadata": {},
     "output_type": "execute_result"
    }
   ],
   "source": [
    "# Acima de k = 3, o acerto começa a diminuir\n",
    "knn = KNeighborsRegressor(n_neighbors=4)\n",
    "knn.fit(X_train,y_train)\n",
    "knn.score(X_test,y_test)"
   ]
  }
 ],
 "metadata": {
  "kernelspec": {
   "display_name": "Python 3 (ipykernel)",
   "language": "python",
   "name": "python3"
  },
  "language_info": {
   "codemirror_mode": {
    "name": "ipython",
    "version": 3
   },
   "file_extension": ".py",
   "mimetype": "text/x-python",
   "name": "python",
   "nbconvert_exporter": "python",
   "pygments_lexer": "ipython3",
   "version": "3.9.10"
  }
 },
 "nbformat": 4,
 "nbformat_minor": 4
}

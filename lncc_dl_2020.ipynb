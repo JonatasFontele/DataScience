{
  "nbformat": 4,
  "nbformat_minor": 0,
  "metadata": {
    "colab": {
      "name": "lncc-dl-2020.ipynb",
      "provenance": [],
      "collapsed_sections": [],
      "toc_visible": true,
      "include_colab_link": true
    },
    "kernelspec": {
      "name": "python3",
      "display_name": "Python 3"
    },
    "accelerator": "GPU",
    "widgets": {
      "application/vnd.jupyter.widget-state+json": {
        "936c5f6b16174f92bc5efe92401c31b2": {
          "model_module": "@jupyter-widgets/controls",
          "model_name": "HBoxModel",
          "state": {
            "_view_name": "HBoxView",
            "_dom_classes": [],
            "_model_name": "HBoxModel",
            "_view_module": "@jupyter-widgets/controls",
            "_model_module_version": "1.5.0",
            "_view_count": null,
            "_view_module_version": "1.5.0",
            "box_style": "",
            "layout": "IPY_MODEL_ffda42f0b76a4db58b59b953219716ed",
            "_model_module": "@jupyter-widgets/controls",
            "children": [
              "IPY_MODEL_19eca837d3c543759e2c146a5fb5ed92",
              "IPY_MODEL_9b34d7b8e31a483582351ee1bb294577"
            ]
          }
        },
        "ffda42f0b76a4db58b59b953219716ed": {
          "model_module": "@jupyter-widgets/base",
          "model_name": "LayoutModel",
          "state": {
            "_view_name": "LayoutView",
            "grid_template_rows": null,
            "right": null,
            "justify_content": null,
            "_view_module": "@jupyter-widgets/base",
            "overflow": null,
            "_model_module_version": "1.2.0",
            "_view_count": null,
            "flex_flow": null,
            "width": null,
            "min_width": null,
            "border": null,
            "align_items": null,
            "bottom": null,
            "_model_module": "@jupyter-widgets/base",
            "top": null,
            "grid_column": null,
            "overflow_y": null,
            "overflow_x": null,
            "grid_auto_flow": null,
            "grid_area": null,
            "grid_template_columns": null,
            "flex": null,
            "_model_name": "LayoutModel",
            "justify_items": null,
            "grid_row": null,
            "max_height": null,
            "align_content": null,
            "visibility": null,
            "align_self": null,
            "height": null,
            "min_height": null,
            "padding": null,
            "grid_auto_rows": null,
            "grid_gap": null,
            "max_width": null,
            "order": null,
            "_view_module_version": "1.2.0",
            "grid_template_areas": null,
            "object_position": null,
            "object_fit": null,
            "grid_auto_columns": null,
            "margin": null,
            "display": null,
            "left": null
          }
        },
        "19eca837d3c543759e2c146a5fb5ed92": {
          "model_module": "@jupyter-widgets/controls",
          "model_name": "IntProgressModel",
          "state": {
            "_view_name": "ProgressView",
            "style": "IPY_MODEL_1e011ddc05304e0fb442929f0070684f",
            "_dom_classes": [],
            "description": "",
            "_model_name": "IntProgressModel",
            "bar_style": "success",
            "max": 1,
            "_view_module": "@jupyter-widgets/controls",
            "_model_module_version": "1.5.0",
            "value": 1,
            "_view_count": null,
            "_view_module_version": "1.5.0",
            "orientation": "horizontal",
            "min": 0,
            "description_tooltip": null,
            "_model_module": "@jupyter-widgets/controls",
            "layout": "IPY_MODEL_3da36fb56d8b42c7934f89721ce347f9"
          }
        },
        "9b34d7b8e31a483582351ee1bb294577": {
          "model_module": "@jupyter-widgets/controls",
          "model_name": "HTMLModel",
          "state": {
            "_view_name": "HTMLView",
            "style": "IPY_MODEL_e6153d76a3a644db9696d9299a8ea256",
            "_dom_classes": [],
            "description": "",
            "_model_name": "HTMLModel",
            "placeholder": "​",
            "_view_module": "@jupyter-widgets/controls",
            "_model_module_version": "1.5.0",
            "value": "9920512it [00:01, 8236460.53it/s]",
            "_view_count": null,
            "_view_module_version": "1.5.0",
            "description_tooltip": null,
            "_model_module": "@jupyter-widgets/controls",
            "layout": "IPY_MODEL_e3884fed39d6477498ef425f2809e865"
          }
        },
        "1e011ddc05304e0fb442929f0070684f": {
          "model_module": "@jupyter-widgets/controls",
          "model_name": "ProgressStyleModel",
          "state": {
            "_view_name": "StyleView",
            "_model_name": "ProgressStyleModel",
            "description_width": "",
            "_view_module": "@jupyter-widgets/base",
            "_model_module_version": "1.5.0",
            "_view_count": null,
            "_view_module_version": "1.2.0",
            "bar_color": null,
            "_model_module": "@jupyter-widgets/controls"
          }
        },
        "3da36fb56d8b42c7934f89721ce347f9": {
          "model_module": "@jupyter-widgets/base",
          "model_name": "LayoutModel",
          "state": {
            "_view_name": "LayoutView",
            "grid_template_rows": null,
            "right": null,
            "justify_content": null,
            "_view_module": "@jupyter-widgets/base",
            "overflow": null,
            "_model_module_version": "1.2.0",
            "_view_count": null,
            "flex_flow": null,
            "width": null,
            "min_width": null,
            "border": null,
            "align_items": null,
            "bottom": null,
            "_model_module": "@jupyter-widgets/base",
            "top": null,
            "grid_column": null,
            "overflow_y": null,
            "overflow_x": null,
            "grid_auto_flow": null,
            "grid_area": null,
            "grid_template_columns": null,
            "flex": null,
            "_model_name": "LayoutModel",
            "justify_items": null,
            "grid_row": null,
            "max_height": null,
            "align_content": null,
            "visibility": null,
            "align_self": null,
            "height": null,
            "min_height": null,
            "padding": null,
            "grid_auto_rows": null,
            "grid_gap": null,
            "max_width": null,
            "order": null,
            "_view_module_version": "1.2.0",
            "grid_template_areas": null,
            "object_position": null,
            "object_fit": null,
            "grid_auto_columns": null,
            "margin": null,
            "display": null,
            "left": null
          }
        },
        "e6153d76a3a644db9696d9299a8ea256": {
          "model_module": "@jupyter-widgets/controls",
          "model_name": "DescriptionStyleModel",
          "state": {
            "_view_name": "StyleView",
            "_model_name": "DescriptionStyleModel",
            "description_width": "",
            "_view_module": "@jupyter-widgets/base",
            "_model_module_version": "1.5.0",
            "_view_count": null,
            "_view_module_version": "1.2.0",
            "_model_module": "@jupyter-widgets/controls"
          }
        },
        "e3884fed39d6477498ef425f2809e865": {
          "model_module": "@jupyter-widgets/base",
          "model_name": "LayoutModel",
          "state": {
            "_view_name": "LayoutView",
            "grid_template_rows": null,
            "right": null,
            "justify_content": null,
            "_view_module": "@jupyter-widgets/base",
            "overflow": null,
            "_model_module_version": "1.2.0",
            "_view_count": null,
            "flex_flow": null,
            "width": null,
            "min_width": null,
            "border": null,
            "align_items": null,
            "bottom": null,
            "_model_module": "@jupyter-widgets/base",
            "top": null,
            "grid_column": null,
            "overflow_y": null,
            "overflow_x": null,
            "grid_auto_flow": null,
            "grid_area": null,
            "grid_template_columns": null,
            "flex": null,
            "_model_name": "LayoutModel",
            "justify_items": null,
            "grid_row": null,
            "max_height": null,
            "align_content": null,
            "visibility": null,
            "align_self": null,
            "height": null,
            "min_height": null,
            "padding": null,
            "grid_auto_rows": null,
            "grid_gap": null,
            "max_width": null,
            "order": null,
            "_view_module_version": "1.2.0",
            "grid_template_areas": null,
            "object_position": null,
            "object_fit": null,
            "grid_auto_columns": null,
            "margin": null,
            "display": null,
            "left": null
          }
        },
        "f25f4a4612034e92b5f5f8990a92e5bc": {
          "model_module": "@jupyter-widgets/controls",
          "model_name": "HBoxModel",
          "state": {
            "_view_name": "HBoxView",
            "_dom_classes": [],
            "_model_name": "HBoxModel",
            "_view_module": "@jupyter-widgets/controls",
            "_model_module_version": "1.5.0",
            "_view_count": null,
            "_view_module_version": "1.5.0",
            "box_style": "",
            "layout": "IPY_MODEL_eecb7599d2494199832dd3ae4d31e8a9",
            "_model_module": "@jupyter-widgets/controls",
            "children": [
              "IPY_MODEL_789d2a7bfae74fc9845f0bc303fa26e1",
              "IPY_MODEL_403d0274e94345c5bdfabab1cedf42a6"
            ]
          }
        },
        "eecb7599d2494199832dd3ae4d31e8a9": {
          "model_module": "@jupyter-widgets/base",
          "model_name": "LayoutModel",
          "state": {
            "_view_name": "LayoutView",
            "grid_template_rows": null,
            "right": null,
            "justify_content": null,
            "_view_module": "@jupyter-widgets/base",
            "overflow": null,
            "_model_module_version": "1.2.0",
            "_view_count": null,
            "flex_flow": null,
            "width": null,
            "min_width": null,
            "border": null,
            "align_items": null,
            "bottom": null,
            "_model_module": "@jupyter-widgets/base",
            "top": null,
            "grid_column": null,
            "overflow_y": null,
            "overflow_x": null,
            "grid_auto_flow": null,
            "grid_area": null,
            "grid_template_columns": null,
            "flex": null,
            "_model_name": "LayoutModel",
            "justify_items": null,
            "grid_row": null,
            "max_height": null,
            "align_content": null,
            "visibility": null,
            "align_self": null,
            "height": null,
            "min_height": null,
            "padding": null,
            "grid_auto_rows": null,
            "grid_gap": null,
            "max_width": null,
            "order": null,
            "_view_module_version": "1.2.0",
            "grid_template_areas": null,
            "object_position": null,
            "object_fit": null,
            "grid_auto_columns": null,
            "margin": null,
            "display": null,
            "left": null
          }
        },
        "789d2a7bfae74fc9845f0bc303fa26e1": {
          "model_module": "@jupyter-widgets/controls",
          "model_name": "IntProgressModel",
          "state": {
            "_view_name": "ProgressView",
            "style": "IPY_MODEL_604643cbd9b14fad95b78c7e76b9bcee",
            "_dom_classes": [],
            "description": "",
            "_model_name": "IntProgressModel",
            "bar_style": "success",
            "max": 1,
            "_view_module": "@jupyter-widgets/controls",
            "_model_module_version": "1.5.0",
            "value": 1,
            "_view_count": null,
            "_view_module_version": "1.5.0",
            "orientation": "horizontal",
            "min": 0,
            "description_tooltip": null,
            "_model_module": "@jupyter-widgets/controls",
            "layout": "IPY_MODEL_9a26f52f059f4386a6182c90018b4eb6"
          }
        },
        "403d0274e94345c5bdfabab1cedf42a6": {
          "model_module": "@jupyter-widgets/controls",
          "model_name": "HTMLModel",
          "state": {
            "_view_name": "HTMLView",
            "style": "IPY_MODEL_ab6b42e326c54ae099e873361a3f571d",
            "_dom_classes": [],
            "description": "",
            "_model_name": "HTMLModel",
            "placeholder": "​",
            "_view_module": "@jupyter-widgets/controls",
            "_model_module_version": "1.5.0",
            "value": "32768it [00:00, 119095.40it/s]",
            "_view_count": null,
            "_view_module_version": "1.5.0",
            "description_tooltip": null,
            "_model_module": "@jupyter-widgets/controls",
            "layout": "IPY_MODEL_087a96d4328740bb8968e0a9cd0e49d4"
          }
        },
        "604643cbd9b14fad95b78c7e76b9bcee": {
          "model_module": "@jupyter-widgets/controls",
          "model_name": "ProgressStyleModel",
          "state": {
            "_view_name": "StyleView",
            "_model_name": "ProgressStyleModel",
            "description_width": "",
            "_view_module": "@jupyter-widgets/base",
            "_model_module_version": "1.5.0",
            "_view_count": null,
            "_view_module_version": "1.2.0",
            "bar_color": null,
            "_model_module": "@jupyter-widgets/controls"
          }
        },
        "9a26f52f059f4386a6182c90018b4eb6": {
          "model_module": "@jupyter-widgets/base",
          "model_name": "LayoutModel",
          "state": {
            "_view_name": "LayoutView",
            "grid_template_rows": null,
            "right": null,
            "justify_content": null,
            "_view_module": "@jupyter-widgets/base",
            "overflow": null,
            "_model_module_version": "1.2.0",
            "_view_count": null,
            "flex_flow": null,
            "width": null,
            "min_width": null,
            "border": null,
            "align_items": null,
            "bottom": null,
            "_model_module": "@jupyter-widgets/base",
            "top": null,
            "grid_column": null,
            "overflow_y": null,
            "overflow_x": null,
            "grid_auto_flow": null,
            "grid_area": null,
            "grid_template_columns": null,
            "flex": null,
            "_model_name": "LayoutModel",
            "justify_items": null,
            "grid_row": null,
            "max_height": null,
            "align_content": null,
            "visibility": null,
            "align_self": null,
            "height": null,
            "min_height": null,
            "padding": null,
            "grid_auto_rows": null,
            "grid_gap": null,
            "max_width": null,
            "order": null,
            "_view_module_version": "1.2.0",
            "grid_template_areas": null,
            "object_position": null,
            "object_fit": null,
            "grid_auto_columns": null,
            "margin": null,
            "display": null,
            "left": null
          }
        },
        "ab6b42e326c54ae099e873361a3f571d": {
          "model_module": "@jupyter-widgets/controls",
          "model_name": "DescriptionStyleModel",
          "state": {
            "_view_name": "StyleView",
            "_model_name": "DescriptionStyleModel",
            "description_width": "",
            "_view_module": "@jupyter-widgets/base",
            "_model_module_version": "1.5.0",
            "_view_count": null,
            "_view_module_version": "1.2.0",
            "_model_module": "@jupyter-widgets/controls"
          }
        },
        "087a96d4328740bb8968e0a9cd0e49d4": {
          "model_module": "@jupyter-widgets/base",
          "model_name": "LayoutModel",
          "state": {
            "_view_name": "LayoutView",
            "grid_template_rows": null,
            "right": null,
            "justify_content": null,
            "_view_module": "@jupyter-widgets/base",
            "overflow": null,
            "_model_module_version": "1.2.0",
            "_view_count": null,
            "flex_flow": null,
            "width": null,
            "min_width": null,
            "border": null,
            "align_items": null,
            "bottom": null,
            "_model_module": "@jupyter-widgets/base",
            "top": null,
            "grid_column": null,
            "overflow_y": null,
            "overflow_x": null,
            "grid_auto_flow": null,
            "grid_area": null,
            "grid_template_columns": null,
            "flex": null,
            "_model_name": "LayoutModel",
            "justify_items": null,
            "grid_row": null,
            "max_height": null,
            "align_content": null,
            "visibility": null,
            "align_self": null,
            "height": null,
            "min_height": null,
            "padding": null,
            "grid_auto_rows": null,
            "grid_gap": null,
            "max_width": null,
            "order": null,
            "_view_module_version": "1.2.0",
            "grid_template_areas": null,
            "object_position": null,
            "object_fit": null,
            "grid_auto_columns": null,
            "margin": null,
            "display": null,
            "left": null
          }
        },
        "5c65d631f07c4f80834e8a6e46341509": {
          "model_module": "@jupyter-widgets/controls",
          "model_name": "HBoxModel",
          "state": {
            "_view_name": "HBoxView",
            "_dom_classes": [],
            "_model_name": "HBoxModel",
            "_view_module": "@jupyter-widgets/controls",
            "_model_module_version": "1.5.0",
            "_view_count": null,
            "_view_module_version": "1.5.0",
            "box_style": "",
            "layout": "IPY_MODEL_8997e1cd30444cb3abc698533cfdffcc",
            "_model_module": "@jupyter-widgets/controls",
            "children": [
              "IPY_MODEL_6d93bb3d00be434abd346a4912a35760",
              "IPY_MODEL_d9937e2602bf4052914513168cb3ac07"
            ]
          }
        },
        "8997e1cd30444cb3abc698533cfdffcc": {
          "model_module": "@jupyter-widgets/base",
          "model_name": "LayoutModel",
          "state": {
            "_view_name": "LayoutView",
            "grid_template_rows": null,
            "right": null,
            "justify_content": null,
            "_view_module": "@jupyter-widgets/base",
            "overflow": null,
            "_model_module_version": "1.2.0",
            "_view_count": null,
            "flex_flow": null,
            "width": null,
            "min_width": null,
            "border": null,
            "align_items": null,
            "bottom": null,
            "_model_module": "@jupyter-widgets/base",
            "top": null,
            "grid_column": null,
            "overflow_y": null,
            "overflow_x": null,
            "grid_auto_flow": null,
            "grid_area": null,
            "grid_template_columns": null,
            "flex": null,
            "_model_name": "LayoutModel",
            "justify_items": null,
            "grid_row": null,
            "max_height": null,
            "align_content": null,
            "visibility": null,
            "align_self": null,
            "height": null,
            "min_height": null,
            "padding": null,
            "grid_auto_rows": null,
            "grid_gap": null,
            "max_width": null,
            "order": null,
            "_view_module_version": "1.2.0",
            "grid_template_areas": null,
            "object_position": null,
            "object_fit": null,
            "grid_auto_columns": null,
            "margin": null,
            "display": null,
            "left": null
          }
        },
        "6d93bb3d00be434abd346a4912a35760": {
          "model_module": "@jupyter-widgets/controls",
          "model_name": "IntProgressModel",
          "state": {
            "_view_name": "ProgressView",
            "style": "IPY_MODEL_43a432073d6b4812bf90914fdc76a588",
            "_dom_classes": [],
            "description": "",
            "_model_name": "IntProgressModel",
            "bar_style": "success",
            "max": 1,
            "_view_module": "@jupyter-widgets/controls",
            "_model_module_version": "1.5.0",
            "value": 1,
            "_view_count": null,
            "_view_module_version": "1.5.0",
            "orientation": "horizontal",
            "min": 0,
            "description_tooltip": null,
            "_model_module": "@jupyter-widgets/controls",
            "layout": "IPY_MODEL_913cf542a769493083d0c41a4abf9147"
          }
        },
        "d9937e2602bf4052914513168cb3ac07": {
          "model_module": "@jupyter-widgets/controls",
          "model_name": "HTMLModel",
          "state": {
            "_view_name": "HTMLView",
            "style": "IPY_MODEL_af48058b3ac848eba95d001e52cc5bbd",
            "_dom_classes": [],
            "description": "",
            "_model_name": "HTMLModel",
            "placeholder": "​",
            "_view_module": "@jupyter-widgets/controls",
            "_model_module_version": "1.5.0",
            "value": "1654784it [00:00, 2068399.99it/s]",
            "_view_count": null,
            "_view_module_version": "1.5.0",
            "description_tooltip": null,
            "_model_module": "@jupyter-widgets/controls",
            "layout": "IPY_MODEL_c2c42d75ea0c40b7be02c93778fa042b"
          }
        },
        "43a432073d6b4812bf90914fdc76a588": {
          "model_module": "@jupyter-widgets/controls",
          "model_name": "ProgressStyleModel",
          "state": {
            "_view_name": "StyleView",
            "_model_name": "ProgressStyleModel",
            "description_width": "",
            "_view_module": "@jupyter-widgets/base",
            "_model_module_version": "1.5.0",
            "_view_count": null,
            "_view_module_version": "1.2.0",
            "bar_color": null,
            "_model_module": "@jupyter-widgets/controls"
          }
        },
        "913cf542a769493083d0c41a4abf9147": {
          "model_module": "@jupyter-widgets/base",
          "model_name": "LayoutModel",
          "state": {
            "_view_name": "LayoutView",
            "grid_template_rows": null,
            "right": null,
            "justify_content": null,
            "_view_module": "@jupyter-widgets/base",
            "overflow": null,
            "_model_module_version": "1.2.0",
            "_view_count": null,
            "flex_flow": null,
            "width": null,
            "min_width": null,
            "border": null,
            "align_items": null,
            "bottom": null,
            "_model_module": "@jupyter-widgets/base",
            "top": null,
            "grid_column": null,
            "overflow_y": null,
            "overflow_x": null,
            "grid_auto_flow": null,
            "grid_area": null,
            "grid_template_columns": null,
            "flex": null,
            "_model_name": "LayoutModel",
            "justify_items": null,
            "grid_row": null,
            "max_height": null,
            "align_content": null,
            "visibility": null,
            "align_self": null,
            "height": null,
            "min_height": null,
            "padding": null,
            "grid_auto_rows": null,
            "grid_gap": null,
            "max_width": null,
            "order": null,
            "_view_module_version": "1.2.0",
            "grid_template_areas": null,
            "object_position": null,
            "object_fit": null,
            "grid_auto_columns": null,
            "margin": null,
            "display": null,
            "left": null
          }
        },
        "af48058b3ac848eba95d001e52cc5bbd": {
          "model_module": "@jupyter-widgets/controls",
          "model_name": "DescriptionStyleModel",
          "state": {
            "_view_name": "StyleView",
            "_model_name": "DescriptionStyleModel",
            "description_width": "",
            "_view_module": "@jupyter-widgets/base",
            "_model_module_version": "1.5.0",
            "_view_count": null,
            "_view_module_version": "1.2.0",
            "_model_module": "@jupyter-widgets/controls"
          }
        },
        "c2c42d75ea0c40b7be02c93778fa042b": {
          "model_module": "@jupyter-widgets/base",
          "model_name": "LayoutModel",
          "state": {
            "_view_name": "LayoutView",
            "grid_template_rows": null,
            "right": null,
            "justify_content": null,
            "_view_module": "@jupyter-widgets/base",
            "overflow": null,
            "_model_module_version": "1.2.0",
            "_view_count": null,
            "flex_flow": null,
            "width": null,
            "min_width": null,
            "border": null,
            "align_items": null,
            "bottom": null,
            "_model_module": "@jupyter-widgets/base",
            "top": null,
            "grid_column": null,
            "overflow_y": null,
            "overflow_x": null,
            "grid_auto_flow": null,
            "grid_area": null,
            "grid_template_columns": null,
            "flex": null,
            "_model_name": "LayoutModel",
            "justify_items": null,
            "grid_row": null,
            "max_height": null,
            "align_content": null,
            "visibility": null,
            "align_self": null,
            "height": null,
            "min_height": null,
            "padding": null,
            "grid_auto_rows": null,
            "grid_gap": null,
            "max_width": null,
            "order": null,
            "_view_module_version": "1.2.0",
            "grid_template_areas": null,
            "object_position": null,
            "object_fit": null,
            "grid_auto_columns": null,
            "margin": null,
            "display": null,
            "left": null
          }
        },
        "d490c1ac5ccf4b6696338331cbdbd24f": {
          "model_module": "@jupyter-widgets/controls",
          "model_name": "HBoxModel",
          "state": {
            "_view_name": "HBoxView",
            "_dom_classes": [],
            "_model_name": "HBoxModel",
            "_view_module": "@jupyter-widgets/controls",
            "_model_module_version": "1.5.0",
            "_view_count": null,
            "_view_module_version": "1.5.0",
            "box_style": "",
            "layout": "IPY_MODEL_9f0c4f030eb5487d8ff05f8947b8bde0",
            "_model_module": "@jupyter-widgets/controls",
            "children": [
              "IPY_MODEL_311e748f5c744c60b08b9f9b123cb575",
              "IPY_MODEL_577c299761804717b0840d2ebf3a6dd9"
            ]
          }
        },
        "9f0c4f030eb5487d8ff05f8947b8bde0": {
          "model_module": "@jupyter-widgets/base",
          "model_name": "LayoutModel",
          "state": {
            "_view_name": "LayoutView",
            "grid_template_rows": null,
            "right": null,
            "justify_content": null,
            "_view_module": "@jupyter-widgets/base",
            "overflow": null,
            "_model_module_version": "1.2.0",
            "_view_count": null,
            "flex_flow": null,
            "width": null,
            "min_width": null,
            "border": null,
            "align_items": null,
            "bottom": null,
            "_model_module": "@jupyter-widgets/base",
            "top": null,
            "grid_column": null,
            "overflow_y": null,
            "overflow_x": null,
            "grid_auto_flow": null,
            "grid_area": null,
            "grid_template_columns": null,
            "flex": null,
            "_model_name": "LayoutModel",
            "justify_items": null,
            "grid_row": null,
            "max_height": null,
            "align_content": null,
            "visibility": null,
            "align_self": null,
            "height": null,
            "min_height": null,
            "padding": null,
            "grid_auto_rows": null,
            "grid_gap": null,
            "max_width": null,
            "order": null,
            "_view_module_version": "1.2.0",
            "grid_template_areas": null,
            "object_position": null,
            "object_fit": null,
            "grid_auto_columns": null,
            "margin": null,
            "display": null,
            "left": null
          }
        },
        "311e748f5c744c60b08b9f9b123cb575": {
          "model_module": "@jupyter-widgets/controls",
          "model_name": "IntProgressModel",
          "state": {
            "_view_name": "ProgressView",
            "style": "IPY_MODEL_9ee4d088f3324c69985880e56917e1f1",
            "_dom_classes": [],
            "description": "",
            "_model_name": "IntProgressModel",
            "bar_style": "success",
            "max": 1,
            "_view_module": "@jupyter-widgets/controls",
            "_model_module_version": "1.5.0",
            "value": 1,
            "_view_count": null,
            "_view_module_version": "1.5.0",
            "orientation": "horizontal",
            "min": 0,
            "description_tooltip": null,
            "_model_module": "@jupyter-widgets/controls",
            "layout": "IPY_MODEL_7b9e0a0a549244879b8b910f6018e0b8"
          }
        },
        "577c299761804717b0840d2ebf3a6dd9": {
          "model_module": "@jupyter-widgets/controls",
          "model_name": "HTMLModel",
          "state": {
            "_view_name": "HTMLView",
            "style": "IPY_MODEL_9494c4b93a534e9c9a1a23852545e42e",
            "_dom_classes": [],
            "description": "",
            "_model_name": "HTMLModel",
            "placeholder": "​",
            "_view_module": "@jupyter-widgets/controls",
            "_model_module_version": "1.5.0",
            "value": "8192it [00:00, 41136.04it/s]",
            "_view_count": null,
            "_view_module_version": "1.5.0",
            "description_tooltip": null,
            "_model_module": "@jupyter-widgets/controls",
            "layout": "IPY_MODEL_65f015210c38460b95c2b4f51cc92549"
          }
        },
        "9ee4d088f3324c69985880e56917e1f1": {
          "model_module": "@jupyter-widgets/controls",
          "model_name": "ProgressStyleModel",
          "state": {
            "_view_name": "StyleView",
            "_model_name": "ProgressStyleModel",
            "description_width": "",
            "_view_module": "@jupyter-widgets/base",
            "_model_module_version": "1.5.0",
            "_view_count": null,
            "_view_module_version": "1.2.0",
            "bar_color": null,
            "_model_module": "@jupyter-widgets/controls"
          }
        },
        "7b9e0a0a549244879b8b910f6018e0b8": {
          "model_module": "@jupyter-widgets/base",
          "model_name": "LayoutModel",
          "state": {
            "_view_name": "LayoutView",
            "grid_template_rows": null,
            "right": null,
            "justify_content": null,
            "_view_module": "@jupyter-widgets/base",
            "overflow": null,
            "_model_module_version": "1.2.0",
            "_view_count": null,
            "flex_flow": null,
            "width": null,
            "min_width": null,
            "border": null,
            "align_items": null,
            "bottom": null,
            "_model_module": "@jupyter-widgets/base",
            "top": null,
            "grid_column": null,
            "overflow_y": null,
            "overflow_x": null,
            "grid_auto_flow": null,
            "grid_area": null,
            "grid_template_columns": null,
            "flex": null,
            "_model_name": "LayoutModel",
            "justify_items": null,
            "grid_row": null,
            "max_height": null,
            "align_content": null,
            "visibility": null,
            "align_self": null,
            "height": null,
            "min_height": null,
            "padding": null,
            "grid_auto_rows": null,
            "grid_gap": null,
            "max_width": null,
            "order": null,
            "_view_module_version": "1.2.0",
            "grid_template_areas": null,
            "object_position": null,
            "object_fit": null,
            "grid_auto_columns": null,
            "margin": null,
            "display": null,
            "left": null
          }
        },
        "9494c4b93a534e9c9a1a23852545e42e": {
          "model_module": "@jupyter-widgets/controls",
          "model_name": "DescriptionStyleModel",
          "state": {
            "_view_name": "StyleView",
            "_model_name": "DescriptionStyleModel",
            "description_width": "",
            "_view_module": "@jupyter-widgets/base",
            "_model_module_version": "1.5.0",
            "_view_count": null,
            "_view_module_version": "1.2.0",
            "_model_module": "@jupyter-widgets/controls"
          }
        },
        "65f015210c38460b95c2b4f51cc92549": {
          "model_module": "@jupyter-widgets/base",
          "model_name": "LayoutModel",
          "state": {
            "_view_name": "LayoutView",
            "grid_template_rows": null,
            "right": null,
            "justify_content": null,
            "_view_module": "@jupyter-widgets/base",
            "overflow": null,
            "_model_module_version": "1.2.0",
            "_view_count": null,
            "flex_flow": null,
            "width": null,
            "min_width": null,
            "border": null,
            "align_items": null,
            "bottom": null,
            "_model_module": "@jupyter-widgets/base",
            "top": null,
            "grid_column": null,
            "overflow_y": null,
            "overflow_x": null,
            "grid_auto_flow": null,
            "grid_area": null,
            "grid_template_columns": null,
            "flex": null,
            "_model_name": "LayoutModel",
            "justify_items": null,
            "grid_row": null,
            "max_height": null,
            "align_content": null,
            "visibility": null,
            "align_self": null,
            "height": null,
            "min_height": null,
            "padding": null,
            "grid_auto_rows": null,
            "grid_gap": null,
            "max_width": null,
            "order": null,
            "_view_module_version": "1.2.0",
            "grid_template_areas": null,
            "object_position": null,
            "object_fit": null,
            "grid_auto_columns": null,
            "margin": null,
            "display": null,
            "left": null
          }
        },
        "3db05372ed66410e815168f2bfe0ec62": {
          "model_module": "@jupyter-widgets/controls",
          "model_name": "HBoxModel",
          "state": {
            "_view_name": "HBoxView",
            "_dom_classes": [],
            "_model_name": "HBoxModel",
            "_view_module": "@jupyter-widgets/controls",
            "_model_module_version": "1.5.0",
            "_view_count": null,
            "_view_module_version": "1.5.0",
            "box_style": "",
            "layout": "IPY_MODEL_e46604b9e7d746219bebc1232d2aec09",
            "_model_module": "@jupyter-widgets/controls",
            "children": [
              "IPY_MODEL_c6dd7987abf54ad6b1236adb9bd55ac6",
              "IPY_MODEL_70b439215cbc4a2baa68156e0a515fc5"
            ]
          }
        },
        "e46604b9e7d746219bebc1232d2aec09": {
          "model_module": "@jupyter-widgets/base",
          "model_name": "LayoutModel",
          "state": {
            "_view_name": "LayoutView",
            "grid_template_rows": null,
            "right": null,
            "justify_content": null,
            "_view_module": "@jupyter-widgets/base",
            "overflow": null,
            "_model_module_version": "1.2.0",
            "_view_count": null,
            "flex_flow": null,
            "width": null,
            "min_width": null,
            "border": null,
            "align_items": null,
            "bottom": null,
            "_model_module": "@jupyter-widgets/base",
            "top": null,
            "grid_column": null,
            "overflow_y": null,
            "overflow_x": null,
            "grid_auto_flow": null,
            "grid_area": null,
            "grid_template_columns": null,
            "flex": null,
            "_model_name": "LayoutModel",
            "justify_items": null,
            "grid_row": null,
            "max_height": null,
            "align_content": null,
            "visibility": null,
            "align_self": null,
            "height": null,
            "min_height": null,
            "padding": null,
            "grid_auto_rows": null,
            "grid_gap": null,
            "max_width": null,
            "order": null,
            "_view_module_version": "1.2.0",
            "grid_template_areas": null,
            "object_position": null,
            "object_fit": null,
            "grid_auto_columns": null,
            "margin": null,
            "display": null,
            "left": null
          }
        },
        "c6dd7987abf54ad6b1236adb9bd55ac6": {
          "model_module": "@jupyter-widgets/controls",
          "model_name": "IntProgressModel",
          "state": {
            "_view_name": "ProgressView",
            "style": "IPY_MODEL_784998df19e7464dab23482b84d06ba6",
            "_dom_classes": [],
            "description": "",
            "_model_name": "IntProgressModel",
            "bar_style": "success",
            "max": 1,
            "_view_module": "@jupyter-widgets/controls",
            "_model_module_version": "1.5.0",
            "value": 1,
            "_view_count": null,
            "_view_module_version": "1.5.0",
            "orientation": "horizontal",
            "min": 0,
            "description_tooltip": null,
            "_model_module": "@jupyter-widgets/controls",
            "layout": "IPY_MODEL_72b5534c96884c948f2532e531926702"
          }
        },
        "70b439215cbc4a2baa68156e0a515fc5": {
          "model_module": "@jupyter-widgets/controls",
          "model_name": "HTMLModel",
          "state": {
            "_view_name": "HTMLView",
            "style": "IPY_MODEL_cc0b376f286245d7acd8895f53966f53",
            "_dom_classes": [],
            "description": "",
            "_model_name": "HTMLModel",
            "placeholder": "​",
            "_view_module": "@jupyter-widgets/controls",
            "_model_module_version": "1.5.0",
            "value": "170500096it [00:06, 26974951.16it/s]",
            "_view_count": null,
            "_view_module_version": "1.5.0",
            "description_tooltip": null,
            "_model_module": "@jupyter-widgets/controls",
            "layout": "IPY_MODEL_164e013aa6844fe59349115576fd1fcb"
          }
        },
        "784998df19e7464dab23482b84d06ba6": {
          "model_module": "@jupyter-widgets/controls",
          "model_name": "ProgressStyleModel",
          "state": {
            "_view_name": "StyleView",
            "_model_name": "ProgressStyleModel",
            "description_width": "",
            "_view_module": "@jupyter-widgets/base",
            "_model_module_version": "1.5.0",
            "_view_count": null,
            "_view_module_version": "1.2.0",
            "bar_color": null,
            "_model_module": "@jupyter-widgets/controls"
          }
        },
        "72b5534c96884c948f2532e531926702": {
          "model_module": "@jupyter-widgets/base",
          "model_name": "LayoutModel",
          "state": {
            "_view_name": "LayoutView",
            "grid_template_rows": null,
            "right": null,
            "justify_content": null,
            "_view_module": "@jupyter-widgets/base",
            "overflow": null,
            "_model_module_version": "1.2.0",
            "_view_count": null,
            "flex_flow": null,
            "width": null,
            "min_width": null,
            "border": null,
            "align_items": null,
            "bottom": null,
            "_model_module": "@jupyter-widgets/base",
            "top": null,
            "grid_column": null,
            "overflow_y": null,
            "overflow_x": null,
            "grid_auto_flow": null,
            "grid_area": null,
            "grid_template_columns": null,
            "flex": null,
            "_model_name": "LayoutModel",
            "justify_items": null,
            "grid_row": null,
            "max_height": null,
            "align_content": null,
            "visibility": null,
            "align_self": null,
            "height": null,
            "min_height": null,
            "padding": null,
            "grid_auto_rows": null,
            "grid_gap": null,
            "max_width": null,
            "order": null,
            "_view_module_version": "1.2.0",
            "grid_template_areas": null,
            "object_position": null,
            "object_fit": null,
            "grid_auto_columns": null,
            "margin": null,
            "display": null,
            "left": null
          }
        },
        "cc0b376f286245d7acd8895f53966f53": {
          "model_module": "@jupyter-widgets/controls",
          "model_name": "DescriptionStyleModel",
          "state": {
            "_view_name": "StyleView",
            "_model_name": "DescriptionStyleModel",
            "description_width": "",
            "_view_module": "@jupyter-widgets/base",
            "_model_module_version": "1.5.0",
            "_view_count": null,
            "_view_module_version": "1.2.0",
            "_model_module": "@jupyter-widgets/controls"
          }
        },
        "164e013aa6844fe59349115576fd1fcb": {
          "model_module": "@jupyter-widgets/base",
          "model_name": "LayoutModel",
          "state": {
            "_view_name": "LayoutView",
            "grid_template_rows": null,
            "right": null,
            "justify_content": null,
            "_view_module": "@jupyter-widgets/base",
            "overflow": null,
            "_model_module_version": "1.2.0",
            "_view_count": null,
            "flex_flow": null,
            "width": null,
            "min_width": null,
            "border": null,
            "align_items": null,
            "bottom": null,
            "_model_module": "@jupyter-widgets/base",
            "top": null,
            "grid_column": null,
            "overflow_y": null,
            "overflow_x": null,
            "grid_auto_flow": null,
            "grid_area": null,
            "grid_template_columns": null,
            "flex": null,
            "_model_name": "LayoutModel",
            "justify_items": null,
            "grid_row": null,
            "max_height": null,
            "align_content": null,
            "visibility": null,
            "align_self": null,
            "height": null,
            "min_height": null,
            "padding": null,
            "grid_auto_rows": null,
            "grid_gap": null,
            "max_width": null,
            "order": null,
            "_view_module_version": "1.2.0",
            "grid_template_areas": null,
            "object_position": null,
            "object_fit": null,
            "grid_auto_columns": null,
            "margin": null,
            "display": null,
            "left": null
          }
        }
      }
    }
  },
  "cells": [
    {
      "cell_type": "markdown",
      "metadata": {
        "id": "view-in-github",
        "colab_type": "text"
      },
      "source": [
        "<a href=\"https://colab.research.google.com/github/JonatasFontele/DataScience/blob/main/lncc_dl_2020.ipynb\" target=\"_parent\"><img src=\"https://colab.research.google.com/assets/colab-badge.svg\" alt=\"Open In Colab\"/></a>"
      ]
    },
    {
      "cell_type": "markdown",
      "metadata": {
        "id": "Bp-q47-BRoTD"
      },
      "source": [
        "# Créditos\n",
        "\n",
        "Os exemplos de código aqui apresentados são retirados/adaptados de pytorch.org/tutorials/beginner/blitz/"
      ]
    },
    {
      "cell_type": "markdown",
      "metadata": {
        "id": "vTNimckuQret"
      },
      "source": [
        "# Tensores"
      ]
    },
    {
      "cell_type": "code",
      "metadata": {
        "id": "Wh7q41n4Q38v"
      },
      "source": [
        "import torch"
      ],
      "execution_count": null,
      "outputs": []
    },
    {
      "cell_type": "code",
      "metadata": {
        "id": "68OrHRHeQuDx",
        "colab": {
          "base_uri": "https://localhost:8080/",
          "height": 104
        },
        "outputId": "515ff959-2d1e-43ff-f2d3-01711c3e1a67"
      },
      "source": [
        "x = torch.empty(5, 3)\n",
        "print(x)"
      ],
      "execution_count": null,
      "outputs": [
        {
          "output_type": "stream",
          "text": [
            "tensor([[5.1973e-36, 0.0000e+00, 0.0000e+00],\n",
            "        [0.0000e+00, 0.0000e+00, 0.0000e+00],\n",
            "        [0.0000e+00, 0.0000e+00, 2.8026e-45],\n",
            "        [0.0000e+00, 1.1210e-44, 0.0000e+00],\n",
            "        [1.4013e-45, 0.0000e+00, 4.4025e-26]])\n"
          ],
          "name": "stdout"
        }
      ]
    },
    {
      "cell_type": "code",
      "metadata": {
        "id": "_EArdAgNQzT1",
        "colab": {
          "base_uri": "https://localhost:8080/",
          "height": 104
        },
        "outputId": "59289e52-1ec1-44c1-a452-222114125e9c"
      },
      "source": [
        "x = torch.rand(5, 3)\n",
        "print(x)"
      ],
      "execution_count": null,
      "outputs": [
        {
          "output_type": "stream",
          "text": [
            "tensor([[0.0050, 0.7604, 0.0583],\n",
            "        [0.5998, 0.0466, 0.6768],\n",
            "        [0.8027, 0.3929, 0.4355],\n",
            "        [0.2873, 0.6156, 0.2184],\n",
            "        [0.9358, 0.8216, 0.6143]])\n"
          ],
          "name": "stdout"
        }
      ]
    },
    {
      "cell_type": "code",
      "metadata": {
        "id": "ZpLPhqKrQ-3O",
        "colab": {
          "base_uri": "https://localhost:8080/",
          "height": 1000
        },
        "outputId": "2a5d3328-d530-4c37-c9b7-3bb2ceb51a4a"
      },
      "source": [
        "x = torch.rand(5, 32, 32, 3)\n",
        "print(x)\n",
        "print(x.size())"
      ],
      "execution_count": null,
      "outputs": [
        {
          "output_type": "stream",
          "text": [
            "tensor([[[[0.0141, 0.1697, 0.1743],\n",
            "          [0.7074, 0.9593, 0.9388],\n",
            "          [0.3803, 0.6356, 0.7127],\n",
            "          ...,\n",
            "          [0.5693, 0.1630, 0.2542],\n",
            "          [0.7553, 0.1998, 0.6171],\n",
            "          [0.3442, 0.6049, 0.5913]],\n",
            "\n",
            "         [[0.0294, 0.9776, 0.7344],\n",
            "          [0.4349, 0.1854, 0.6400],\n",
            "          [0.3670, 0.9748, 0.5032],\n",
            "          ...,\n",
            "          [0.4587, 0.1876, 0.9926],\n",
            "          [0.0395, 0.0345, 0.2065],\n",
            "          [0.8996, 0.9260, 0.2149]],\n",
            "\n",
            "         [[0.2029, 0.0884, 0.4296],\n",
            "          [0.4700, 0.9035, 0.4185],\n",
            "          [0.0337, 0.6239, 0.8301],\n",
            "          ...,\n",
            "          [0.4344, 0.4465, 0.8549],\n",
            "          [0.8318, 0.2083, 0.2321],\n",
            "          [0.3393, 0.1259, 0.5632]],\n",
            "\n",
            "         ...,\n",
            "\n",
            "         [[0.0734, 0.1134, 0.8877],\n",
            "          [0.8312, 0.6103, 0.7075],\n",
            "          [0.8019, 0.1647, 0.5110],\n",
            "          ...,\n",
            "          [0.3776, 0.4290, 0.7715],\n",
            "          [0.4257, 0.3264, 0.3878],\n",
            "          [0.0249, 0.4002, 0.2310]],\n",
            "\n",
            "         [[0.6827, 0.0823, 0.6353],\n",
            "          [0.3979, 0.1556, 0.9912],\n",
            "          [0.6121, 0.5812, 0.4786],\n",
            "          ...,\n",
            "          [0.1264, 0.9218, 0.9514],\n",
            "          [0.2323, 0.5041, 0.7539],\n",
            "          [0.2439, 0.3248, 0.9866]],\n",
            "\n",
            "         [[0.3238, 0.8880, 0.0986],\n",
            "          [0.4575, 0.3045, 0.5004],\n",
            "          [0.2945, 0.5043, 0.3447],\n",
            "          ...,\n",
            "          [0.1448, 0.2302, 0.0719],\n",
            "          [0.1476, 0.3340, 0.3139],\n",
            "          [0.5977, 0.1812, 0.2688]]],\n",
            "\n",
            "\n",
            "        [[[0.5647, 0.2702, 0.1403],\n",
            "          [0.0970, 0.5285, 0.5360],\n",
            "          [0.4220, 0.1542, 0.6040],\n",
            "          ...,\n",
            "          [0.8749, 0.4862, 0.0155],\n",
            "          [0.5363, 0.0718, 0.9822],\n",
            "          [0.6756, 0.1584, 0.0357]],\n",
            "\n",
            "         [[0.7571, 0.1838, 0.3001],\n",
            "          [0.5569, 0.1224, 0.6557],\n",
            "          [0.0057, 0.4196, 0.3900],\n",
            "          ...,\n",
            "          [0.7500, 0.8641, 0.4795],\n",
            "          [0.7599, 0.2581, 0.3363],\n",
            "          [0.7544, 0.2399, 0.4024]],\n",
            "\n",
            "         [[0.6824, 0.4968, 0.1259],\n",
            "          [0.2330, 0.6070, 0.3028],\n",
            "          [0.2798, 0.5970, 0.3725],\n",
            "          ...,\n",
            "          [0.0668, 0.4859, 0.6704],\n",
            "          [0.3136, 0.2676, 0.3893],\n",
            "          [0.3622, 0.2972, 0.2342]],\n",
            "\n",
            "         ...,\n",
            "\n",
            "         [[0.4718, 0.2311, 0.2780],\n",
            "          [0.5810, 0.9075, 0.5002],\n",
            "          [0.0387, 0.9133, 0.4094],\n",
            "          ...,\n",
            "          [0.3784, 0.6653, 0.9973],\n",
            "          [0.7120, 0.9099, 0.4271],\n",
            "          [0.7628, 0.8804, 0.6461]],\n",
            "\n",
            "         [[0.8135, 0.9989, 0.3030],\n",
            "          [0.0118, 0.7220, 0.1826],\n",
            "          [0.1510, 0.3909, 0.8649],\n",
            "          ...,\n",
            "          [0.4757, 0.2544, 0.7363],\n",
            "          [0.8139, 0.5933, 0.4359],\n",
            "          [0.9391, 0.8513, 0.9727]],\n",
            "\n",
            "         [[0.9940, 0.0853, 0.8983],\n",
            "          [0.5353, 0.7838, 0.9062],\n",
            "          [0.6533, 0.8078, 0.4153],\n",
            "          ...,\n",
            "          [0.1591, 0.3943, 0.6093],\n",
            "          [0.3339, 0.2405, 0.4081],\n",
            "          [0.5171, 0.3402, 0.8664]]],\n",
            "\n",
            "\n",
            "        [[[0.3154, 0.9379, 0.7429],\n",
            "          [0.2048, 0.7177, 0.0040],\n",
            "          [0.4375, 0.4504, 0.1926],\n",
            "          ...,\n",
            "          [0.8093, 0.4962, 0.2806],\n",
            "          [0.2408, 0.4063, 0.7957],\n",
            "          [0.1213, 0.0986, 0.5275]],\n",
            "\n",
            "         [[0.8984, 0.3890, 0.1551],\n",
            "          [0.9877, 0.0429, 0.7639],\n",
            "          [0.3881, 0.6312, 0.7246],\n",
            "          ...,\n",
            "          [0.7995, 0.7343, 0.2180],\n",
            "          [0.2599, 0.6546, 0.3640],\n",
            "          [0.2713, 0.3847, 0.3020]],\n",
            "\n",
            "         [[0.7195, 0.2820, 0.4872],\n",
            "          [0.4672, 0.8540, 0.1650],\n",
            "          [0.5968, 0.9238, 0.8211],\n",
            "          ...,\n",
            "          [0.8689, 0.7807, 0.8055],\n",
            "          [0.5585, 0.1854, 0.1611],\n",
            "          [0.2207, 0.5949, 0.6608]],\n",
            "\n",
            "         ...,\n",
            "\n",
            "         [[0.0995, 0.3390, 0.9328],\n",
            "          [0.8288, 0.4485, 0.1249],\n",
            "          [0.2314, 0.9492, 0.8125],\n",
            "          ...,\n",
            "          [0.2276, 0.2176, 0.4147],\n",
            "          [0.2113, 0.0309, 0.3689],\n",
            "          [0.7314, 0.3254, 0.9308]],\n",
            "\n",
            "         [[0.3885, 0.5125, 0.3854],\n",
            "          [0.0020, 0.8281, 0.5767],\n",
            "          [0.9125, 0.4099, 0.5149],\n",
            "          ...,\n",
            "          [0.7856, 0.4602, 0.0946],\n",
            "          [0.8055, 0.1380, 0.2125],\n",
            "          [0.8044, 0.3114, 0.4581]],\n",
            "\n",
            "         [[0.4901, 0.9146, 0.9264],\n",
            "          [0.0193, 0.9309, 0.6372],\n",
            "          [0.9927, 0.9927, 0.8032],\n",
            "          ...,\n",
            "          [0.0225, 0.8057, 0.6500],\n",
            "          [0.1851, 0.1744, 0.0431],\n",
            "          [0.6675, 0.3458, 0.4437]]],\n",
            "\n",
            "\n",
            "        [[[0.5627, 0.1379, 0.4582],\n",
            "          [0.0661, 0.1478, 0.5375],\n",
            "          [0.6665, 0.0684, 0.0665],\n",
            "          ...,\n",
            "          [0.0881, 0.6878, 0.1994],\n",
            "          [0.0346, 0.8402, 0.9854],\n",
            "          [0.5754, 0.0020, 0.3134]],\n",
            "\n",
            "         [[0.2591, 0.3827, 0.4916],\n",
            "          [0.8874, 0.0167, 0.9967],\n",
            "          [0.7881, 0.0692, 0.8853],\n",
            "          ...,\n",
            "          [0.6570, 0.9085, 0.9343],\n",
            "          [0.4751, 0.8999, 0.7039],\n",
            "          [0.2549, 0.2337, 0.3212]],\n",
            "\n",
            "         [[0.3984, 0.9884, 0.0471],\n",
            "          [0.2517, 0.5574, 0.4909],\n",
            "          [0.0087, 0.8613, 0.9300],\n",
            "          ...,\n",
            "          [0.7852, 0.9460, 0.1055],\n",
            "          [0.0225, 0.8918, 0.4500],\n",
            "          [0.3461, 0.4091, 0.8374]],\n",
            "\n",
            "         ...,\n",
            "\n",
            "         [[0.8467, 0.7563, 0.5295],\n",
            "          [0.9131, 0.0120, 0.7754],\n",
            "          [0.1275, 0.4226, 0.4265],\n",
            "          ...,\n",
            "          [0.1711, 0.2056, 0.0933],\n",
            "          [0.2994, 0.5824, 0.3281],\n",
            "          [0.1689, 0.1152, 0.2976]],\n",
            "\n",
            "         [[0.1967, 0.4656, 0.7013],\n",
            "          [0.9358, 0.2815, 0.3853],\n",
            "          [0.2677, 0.0080, 0.0735],\n",
            "          ...,\n",
            "          [0.7798, 0.8529, 0.3558],\n",
            "          [0.1504, 0.7750, 0.7109],\n",
            "          [0.5807, 0.0336, 0.0400]],\n",
            "\n",
            "         [[0.5100, 0.4680, 0.1328],\n",
            "          [0.4028, 0.2414, 0.8025],\n",
            "          [0.7427, 0.5825, 0.0849],\n",
            "          ...,\n",
            "          [0.9313, 0.0918, 0.4180],\n",
            "          [0.2130, 0.0558, 0.6845],\n",
            "          [0.0849, 0.0801, 0.5001]]],\n",
            "\n",
            "\n",
            "        [[[0.3217, 0.0796, 0.5862],\n",
            "          [0.8688, 0.9746, 0.3293],\n",
            "          [0.1583, 0.8226, 0.6779],\n",
            "          ...,\n",
            "          [0.8321, 0.9644, 0.3064],\n",
            "          [0.0390, 0.2483, 0.5427],\n",
            "          [0.7947, 0.9476, 0.7813]],\n",
            "\n",
            "         [[0.8599, 0.1004, 0.0977],\n",
            "          [0.2740, 0.8063, 0.6938],\n",
            "          [0.0883, 0.1062, 0.8336],\n",
            "          ...,\n",
            "          [0.7106, 0.3484, 0.3263],\n",
            "          [0.3119, 0.7313, 0.7361],\n",
            "          [0.7827, 0.0375, 0.5220]],\n",
            "\n",
            "         [[0.4957, 0.3275, 0.1357],\n",
            "          [0.3926, 0.9314, 0.1936],\n",
            "          [0.0646, 0.6119, 0.0545],\n",
            "          ...,\n",
            "          [0.4933, 0.0162, 0.3977],\n",
            "          [0.4440, 0.8802, 0.4118],\n",
            "          [0.0709, 0.1432, 0.9629]],\n",
            "\n",
            "         ...,\n",
            "\n",
            "         [[0.4360, 0.0046, 0.3293],\n",
            "          [0.7371, 0.3421, 0.4211],\n",
            "          [0.7934, 0.3253, 0.9995],\n",
            "          ...,\n",
            "          [0.2500, 0.5250, 0.9344],\n",
            "          [0.5766, 0.1838, 0.2592],\n",
            "          [0.0369, 0.0596, 0.2751]],\n",
            "\n",
            "         [[0.9038, 0.3508, 0.5141],\n",
            "          [0.8530, 0.7175, 0.9975],\n",
            "          [0.0673, 0.7675, 0.8819],\n",
            "          ...,\n",
            "          [0.7576, 0.0508, 0.6564],\n",
            "          [0.0128, 0.7275, 0.0118],\n",
            "          [0.6538, 0.8005, 0.8378]],\n",
            "\n",
            "         [[0.6460, 0.7482, 0.7273],\n",
            "          [0.3777, 0.5160, 0.2080],\n",
            "          [0.1113, 0.4474, 0.1049],\n",
            "          ...,\n",
            "          [0.9052, 0.0155, 0.2758],\n",
            "          [0.6885, 0.8493, 0.7601],\n",
            "          [0.6497, 0.3009, 0.3738]]]])\n",
            "torch.Size([5, 32, 32, 3])\n"
          ],
          "name": "stdout"
        }
      ]
    },
    {
      "cell_type": "markdown",
      "metadata": {
        "id": "x0ngvqPmLZVU"
      },
      "source": [
        "# AutoGrad"
      ]
    },
    {
      "cell_type": "code",
      "metadata": {
        "id": "L8bU2YdKLNvW"
      },
      "source": [
        "import torch"
      ],
      "execution_count": null,
      "outputs": []
    },
    {
      "cell_type": "code",
      "metadata": {
        "id": "TrfW8DUyLcMu",
        "colab": {
          "base_uri": "https://localhost:8080/",
          "height": 52
        },
        "outputId": "baa935b3-3fd6-40f4-eeab-9eb8103d4626"
      },
      "source": [
        "x = torch.ones(2, 2, requires_grad=True)\n",
        "print(x)"
      ],
      "execution_count": null,
      "outputs": [
        {
          "output_type": "stream",
          "text": [
            "tensor([[1., 1.],\n",
            "        [1., 1.]], requires_grad=True)\n"
          ],
          "name": "stdout"
        }
      ]
    },
    {
      "cell_type": "code",
      "metadata": {
        "id": "IlnFReWmLgCf",
        "colab": {
          "base_uri": "https://localhost:8080/",
          "height": 86
        },
        "outputId": "a1310ea0-432d-4c45-abcf-1eebacbc7a0b"
      },
      "source": [
        "y = x + 2\n",
        "print(y)\n",
        "\n",
        "z = y * y * 3\n",
        "out = z.mean()\n",
        "\n",
        "print(z, out)"
      ],
      "execution_count": null,
      "outputs": [
        {
          "output_type": "stream",
          "text": [
            "tensor([[3., 3.],\n",
            "        [3., 3.]], grad_fn=<AddBackward0>)\n",
            "tensor([[27., 27.],\n",
            "        [27., 27.]], grad_fn=<MulBackward0>) tensor(27., grad_fn=<MeanBackward0>)\n"
          ],
          "name": "stdout"
        }
      ]
    },
    {
      "cell_type": "code",
      "metadata": {
        "id": "IWemyBcKP5R_",
        "colab": {
          "base_uri": "https://localhost:8080/",
          "height": 52
        },
        "outputId": "7564c9c7-e584-42df-d438-7d7464fd3712"
      },
      "source": [
        "out.backward()\n",
        "print(x.grad)"
      ],
      "execution_count": null,
      "outputs": [
        {
          "output_type": "stream",
          "text": [
            "tensor([[4.5000, 4.5000],\n",
            "        [4.5000, 4.5000]])\n"
          ],
          "name": "stdout"
        }
      ]
    },
    {
      "cell_type": "markdown",
      "metadata": {
        "id": "EdANy-fILuQe"
      },
      "source": [
        "$$\n",
        "o = \\frac{1}{4}\\sum_i z_i\n",
        "$$\n",
        "\n",
        "$$\n",
        "z_i = 3(x_i+2)^2\n",
        "$$\n",
        "\n",
        "$$\n",
        "\\frac{\\partial o}{\\partial x_i} = \\frac{3}{2}(x_i+2)\n",
        "$$\n",
        "\n",
        "$$\n",
        "\\left(z_i\\bigr\\rvert_{x_i=1} = 27\\right) \\Rightarrow \\left(\\frac{\\partial o}{\\partial x_i}\\bigr\\rvert_{x_i=1} = \\frac{9}{2} = 4.5\\right)\n",
        "$$"
      ]
    },
    {
      "cell_type": "markdown",
      "metadata": {
        "id": "PvBnin2nLUho"
      },
      "source": [
        "# CrossEntropyLoss"
      ]
    },
    {
      "cell_type": "code",
      "metadata": {
        "id": "RGFv7iRdh5Kv",
        "colab": {
          "base_uri": "https://localhost:8080/",
          "height": 225
        },
        "outputId": "8dbde150-6550-465a-e568-5e4eb2570f87"
      },
      "source": [
        "loss = nn.CrossEntropyLoss()\n",
        "input = torch.randn(10, 3, requires_grad=True)\n",
        "target = torch.empty(10, dtype=torch.long).random_(3)\n",
        "output = loss(input, target)\n",
        "output.backward()\n",
        "print('input:', input)\n",
        "print('target:', target)\n",
        "print('output:', output)"
      ],
      "execution_count": null,
      "outputs": [
        {
          "output_type": "stream",
          "text": [
            "input: tensor([[-0.2203, -0.4656,  0.1692],\n",
            "        [ 0.2702, -0.2993, -1.9377],\n",
            "        [-0.4649, -0.5994, -1.2975],\n",
            "        [-0.4820,  1.5314,  1.0974],\n",
            "        [ 2.5178,  1.9212, -0.3888],\n",
            "        [ 0.8948,  2.1120, -0.9386],\n",
            "        [ 1.0620,  0.6840,  1.2253],\n",
            "        [-0.0890, -0.5516, -1.5667],\n",
            "        [ 1.5453,  1.2641, -0.8904],\n",
            "        [-1.6637,  2.5074, -0.5465]], requires_grad=True)\n",
            "target: tensor([0, 1, 0, 1, 1, 2, 1, 0, 1, 1])\n",
            "output: tensor(1.1099, grad_fn=<NllLossBackward>)\n"
          ],
          "name": "stdout"
        }
      ]
    },
    {
      "cell_type": "code",
      "metadata": {
        "id": "TPb7XULGmAKd",
        "colab": {
          "base_uri": "https://localhost:8080/",
          "height": 52
        },
        "outputId": "aaaf51a9-1710-4b9f-98d7-b59c11c394cc"
      },
      "source": [
        "input = torch.FloatTensor(\n",
        "       [[0.2046, -0.3144, 0.2438],\n",
        "        [-0.0641,  0.2295, -0.1240],\n",
        "        [ 1.4380,  1.6523,  0.3243],\n",
        "        [ 1.4235,  0.5854, -0.9747],\n",
        "        [ 3.1441, -1.2237, 10.2169],\n",
        "        [ 0.2066,  0.1723,  1.0045],\n",
        "        [-0.2114,  1.1299,  1.3391],\n",
        "        [ 1.1068,  0.5069,  0.8790],\n",
        "        [-0.7555,  0.0312, -0.2468],\n",
        "        [ 0.1276,  0.3208, -1.2589]])\n",
        "target = torch.LongTensor([2, 1, 1, 0, 2, 0, 2, 1, 1, 2])\n",
        "output = loss(input, target)\n",
        "print('output:', output)\n",
        "\n",
        "madeup_target = torch.LongTensor([2, 1, 1, 0, 2, 2, 2, 0, 1, 1])\n",
        "madeup_output = loss(input, madeup_target)\n",
        "print('output:', madeup_output)"
      ],
      "execution_count": null,
      "outputs": [
        {
          "output_type": "stream",
          "text": [
            "output: tensor(0.9646)\n",
            "output: tensor(0.6669)\n"
          ],
          "name": "stdout"
        }
      ]
    },
    {
      "cell_type": "code",
      "metadata": {
        "id": "24RlUhLfrsIe",
        "colab": {
          "base_uri": "https://localhost:8080/",
          "height": 35
        },
        "outputId": "cee143e4-53ef-4373-dabc-3e03d5d07cc2"
      },
      "source": [
        "import numpy as np\n",
        "\n",
        "l1 = [[0.2046, 0.3144, 0.2438],\n",
        "      [0.1876, 0.3208, 1.2589]]\n",
        "\n",
        "l2 = [1, 2]\n",
        "\n",
        "input = torch.FloatTensor(l1)\n",
        "madeup_target = torch.LongTensor(l2)\n",
        "madeup_output = loss(input, madeup_target)\n",
        "print('output:', madeup_output)"
      ],
      "execution_count": null,
      "outputs": [
        {
          "output_type": "stream",
          "text": [
            "output: tensor(0.7950)\n"
          ],
          "name": "stdout"
        }
      ]
    },
    {
      "cell_type": "code",
      "metadata": {
        "id": "gf8odD2TTkvF",
        "colab": {
          "base_uri": "https://localhost:8080/",
          "height": 35
        },
        "outputId": "34d8aa4c-7709-4d91-971a-32cc0c3cf17e"
      },
      "source": [
        "0.7950*2"
      ],
      "execution_count": null,
      "outputs": [
        {
          "output_type": "execute_result",
          "data": {
            "text/plain": [
              "1.59"
            ]
          },
          "metadata": {
            "tags": []
          },
          "execution_count": 72
        }
      ]
    },
    {
      "cell_type": "code",
      "metadata": {
        "id": "MTDe2gpF1woc",
        "colab": {
          "base_uri": "https://localhost:8080/",
          "height": 155
        },
        "outputId": "1fec602c-617d-46dd-c088-e8c9cac1de3f"
      },
      "source": [
        "def celoss(x,a_class):\n",
        "  denominator = np.sum(np.exp(x))\n",
        "  return -np.log(np.exp(x[a_class])/denominator)\n",
        "\n",
        "l1 = [[0.2046, 0.3144, 0.2438],\n",
        "      [0.1876, 0.3208, 1.2589]]\n",
        "a1 = np.asarray(l1)\n",
        "print(a1[0])\n",
        "print(a1[1])\n",
        "\n",
        "print(compute_celoss(a1[0],0) + celoss(a1[1],0))\n",
        "print(compute_celoss(a1[0],0) + celoss(a1[1],1))\n",
        "print(celoss(a1[0],0) + celoss(a1[1],2))\n",
        "\n",
        "print(celoss(a1[0],1) + celoss(a1[1],0))\n",
        "print(celoss(a1[0],1) + celoss(a1[1],1))\n",
        "print(celoss(a1[0],1) + celoss(a1[1],2)) # classificação perfeita\n"
      ],
      "execution_count": null,
      "outputs": [
        {
          "output_type": "stream",
          "text": [
            "[0.2046 0.3144 0.2438]\n",
            "[0.1876 0.3208 1.2589]\n",
            "2.771008554769684\n",
            "2.637808554769684\n",
            "1.6997085547696842\n",
            "2.661208554769684\n",
            "2.5280085547696842\n",
            "1.5899085547696843\n"
          ],
          "name": "stdout"
        }
      ]
    },
    {
      "cell_type": "code",
      "metadata": {
        "id": "-RHFdRVj6YX4",
        "colab": {
          "base_uri": "https://localhost:8080/",
          "height": 225
        },
        "outputId": "94d4a4f9-8f15-4948-b61d-c030759fb359"
      },
      "source": [
        "m = nn.Softmax(dim=1)\n",
        "input = torch.randn(2, 3)\n",
        "print('input:\\n', input)\n",
        "output = m(input)\n",
        "print('output:\\n', output)\n",
        "print('output[0]:\\n', output[0])\n",
        "print('output[1]:\\n', output[1])\n",
        "\n",
        "print(torch.sum(output[0]))\n",
        "print(torch.sum(output[1]))"
      ],
      "execution_count": null,
      "outputs": [
        {
          "output_type": "stream",
          "text": [
            "input:\n",
            " tensor([[ 0.6527,  0.8684, -0.4120],\n",
            "        [-0.0815, -0.3312, -0.7317]])\n",
            "output:\n",
            " tensor([[0.3868, 0.4799, 0.1334],\n",
            "        [0.4346, 0.3386, 0.2268]])\n",
            "output[0]:\n",
            " tensor([0.3868, 0.4799, 0.1334])\n",
            "output[1]:\n",
            " tensor([0.4346, 0.3386, 0.2268])\n",
            "tensor(1.0000)\n",
            "tensor(1.)\n"
          ],
          "name": "stdout"
        }
      ]
    },
    {
      "cell_type": "markdown",
      "metadata": {
        "id": "v3n6Tn1G-uIA"
      },
      "source": [
        "![alt text](https://ml-cheatsheet.readthedocs.io/en/latest/_images/cross_entropy.png)"
      ]
    },
    {
      "cell_type": "markdown",
      "metadata": {
        "id": "lQgB1fkBQGon"
      },
      "source": [
        "# Dataset Iris"
      ]
    },
    {
      "cell_type": "code",
      "metadata": {
        "id": "rBTk8IJJH_WN",
        "colab": {
          "base_uri": "https://localhost:8080/",
          "height": 407
        },
        "outputId": "55bd05ba-a1d3-480f-9371-977abd36f14c"
      },
      "source": [
        "#load\n",
        "dataset = pd.read_csv('./iris.csv')\n",
        "dataset.head(150)"
      ],
      "execution_count": null,
      "outputs": [
        {
          "output_type": "execute_result",
          "data": {
            "text/html": [
              "<div>\n",
              "<style scoped>\n",
              "    .dataframe tbody tr th:only-of-type {\n",
              "        vertical-align: middle;\n",
              "    }\n",
              "\n",
              "    .dataframe tbody tr th {\n",
              "        vertical-align: top;\n",
              "    }\n",
              "\n",
              "    .dataframe thead th {\n",
              "        text-align: right;\n",
              "    }\n",
              "</style>\n",
              "<table border=\"1\" class=\"dataframe\">\n",
              "  <thead>\n",
              "    <tr style=\"text-align: right;\">\n",
              "      <th></th>\n",
              "      <th>sepal_length</th>\n",
              "      <th>sepal_width</th>\n",
              "      <th>petal_length</th>\n",
              "      <th>petal_width</th>\n",
              "      <th>species</th>\n",
              "    </tr>\n",
              "  </thead>\n",
              "  <tbody>\n",
              "    <tr>\n",
              "      <th>0</th>\n",
              "      <td>5.1</td>\n",
              "      <td>3.5</td>\n",
              "      <td>1.4</td>\n",
              "      <td>0.2</td>\n",
              "      <td>Iris-setosa</td>\n",
              "    </tr>\n",
              "    <tr>\n",
              "      <th>1</th>\n",
              "      <td>4.9</td>\n",
              "      <td>3.0</td>\n",
              "      <td>1.4</td>\n",
              "      <td>0.2</td>\n",
              "      <td>Iris-setosa</td>\n",
              "    </tr>\n",
              "    <tr>\n",
              "      <th>2</th>\n",
              "      <td>4.7</td>\n",
              "      <td>3.2</td>\n",
              "      <td>1.3</td>\n",
              "      <td>0.2</td>\n",
              "      <td>Iris-setosa</td>\n",
              "    </tr>\n",
              "    <tr>\n",
              "      <th>3</th>\n",
              "      <td>4.6</td>\n",
              "      <td>3.1</td>\n",
              "      <td>1.5</td>\n",
              "      <td>0.2</td>\n",
              "      <td>Iris-setosa</td>\n",
              "    </tr>\n",
              "    <tr>\n",
              "      <th>4</th>\n",
              "      <td>5.0</td>\n",
              "      <td>3.6</td>\n",
              "      <td>1.4</td>\n",
              "      <td>0.2</td>\n",
              "      <td>Iris-setosa</td>\n",
              "    </tr>\n",
              "    <tr>\n",
              "      <th>...</th>\n",
              "      <td>...</td>\n",
              "      <td>...</td>\n",
              "      <td>...</td>\n",
              "      <td>...</td>\n",
              "      <td>...</td>\n",
              "    </tr>\n",
              "    <tr>\n",
              "      <th>145</th>\n",
              "      <td>6.7</td>\n",
              "      <td>3.0</td>\n",
              "      <td>5.2</td>\n",
              "      <td>2.3</td>\n",
              "      <td>Iris-virginica</td>\n",
              "    </tr>\n",
              "    <tr>\n",
              "      <th>146</th>\n",
              "      <td>6.3</td>\n",
              "      <td>2.5</td>\n",
              "      <td>5.0</td>\n",
              "      <td>1.9</td>\n",
              "      <td>Iris-virginica</td>\n",
              "    </tr>\n",
              "    <tr>\n",
              "      <th>147</th>\n",
              "      <td>6.5</td>\n",
              "      <td>3.0</td>\n",
              "      <td>5.2</td>\n",
              "      <td>2.0</td>\n",
              "      <td>Iris-virginica</td>\n",
              "    </tr>\n",
              "    <tr>\n",
              "      <th>148</th>\n",
              "      <td>6.2</td>\n",
              "      <td>3.4</td>\n",
              "      <td>5.4</td>\n",
              "      <td>2.3</td>\n",
              "      <td>Iris-virginica</td>\n",
              "    </tr>\n",
              "    <tr>\n",
              "      <th>149</th>\n",
              "      <td>5.9</td>\n",
              "      <td>3.0</td>\n",
              "      <td>5.1</td>\n",
              "      <td>1.8</td>\n",
              "      <td>Iris-virginica</td>\n",
              "    </tr>\n",
              "  </tbody>\n",
              "</table>\n",
              "<p>150 rows × 5 columns</p>\n",
              "</div>"
            ],
            "text/plain": [
              "     sepal_length  sepal_width  petal_length  petal_width         species\n",
              "0             5.1          3.5           1.4          0.2     Iris-setosa\n",
              "1             4.9          3.0           1.4          0.2     Iris-setosa\n",
              "2             4.7          3.2           1.3          0.2     Iris-setosa\n",
              "3             4.6          3.1           1.5          0.2     Iris-setosa\n",
              "4             5.0          3.6           1.4          0.2     Iris-setosa\n",
              "..            ...          ...           ...          ...             ...\n",
              "145           6.7          3.0           5.2          2.3  Iris-virginica\n",
              "146           6.3          2.5           5.0          1.9  Iris-virginica\n",
              "147           6.5          3.0           5.2          2.0  Iris-virginica\n",
              "148           6.2          3.4           5.4          2.3  Iris-virginica\n",
              "149           5.9          3.0           5.1          1.8  Iris-virginica\n",
              "\n",
              "[150 rows x 5 columns]"
            ]
          },
          "metadata": {
            "tags": []
          },
          "execution_count": 10
        }
      ]
    },
    {
      "cell_type": "markdown",
      "metadata": {
        "id": "-J5zBE--bj9l"
      },
      "source": [
        "# Demo: rede neural simples"
      ]
    },
    {
      "cell_type": "code",
      "metadata": {
        "id": "1fpbykKcfCvC"
      },
      "source": [
        "import pandas as pd\n",
        "from sklearn.model_selection import train_test_split\n",
        "from sklearn.metrics import accuracy_score, precision_score, recall_score\n",
        "\n",
        "import torch\n",
        "import torch.nn as nn\n",
        "import torch.nn.functional as F\n",
        "from torch.autograd import Variable\n",
        "\n",
        "class Net(nn.Module):\n",
        "    # define nn\n",
        "    def __init__(self):\n",
        "        super(Net, self).__init__()\n",
        "        self.fc1 = nn.Linear(4, 100)\n",
        "        self.fc2 = nn.Linear(100, 3)\n",
        "        self.softmax = nn.Softmax(dim=1)\n",
        "\n",
        "    def forward(self, X):\n",
        "        X = F.relu(self.fc1(X))\n",
        "        X = F.relu(self.fc2(X))\n",
        "        X = self.softmax(X)\n",
        "\n",
        "        return X\n",
        "    \n",
        "# load IRIS dataset\n",
        "dataset = pd.read_csv('./iris.csv')\n",
        "\n",
        "# transform species to numerics\n",
        "dataset.loc[dataset.species=='Iris-setosa', 'species'] = 0\n",
        "dataset.loc[dataset.species=='Iris-versicolor', 'species'] = 1\n",
        "dataset.loc[dataset.species=='Iris-virginica', 'species'] = 2\n",
        "\n",
        "train_X, test_X, train_y, test_y = train_test_split(dataset[dataset.columns[0:4]].values,\n",
        "                                                    dataset.species.values, \n",
        "                                                    test_size=0.8, \n",
        "                                                    stratify=dataset.species)\n",
        "\n",
        "# wrap up with Variable in pytorch\n",
        "train_X = Variable(torch.Tensor(train_X).float())\n",
        "test_X = Variable(torch.Tensor(test_X).float())\n",
        "train_y = Variable(torch.Tensor(train_y).long())\n",
        "test_y = Variable(torch.Tensor(test_y).long())\n",
        "\n",
        "\n",
        "net = Net()\n",
        "\n",
        "criterion = nn.CrossEntropyLoss()# cross entropy loss\n",
        "\n",
        "optimizer = torch.optim.SGD(net.parameters(), lr=0.001)\n",
        "\n",
        "for epoch in range(100):\n",
        "    optimizer.zero_grad()\n",
        "    out = net(train_X)\n",
        "    loss = criterion(out, train_y)\n",
        "    loss.backward()\n",
        "    optimizer.step()\n",
        "    \n",
        "    if epoch % 10 == 0:\n",
        "        print ('number of epoch', epoch, 'loss', loss.data.item())\n",
        "\n",
        "predict_out = net(test_X)\n",
        "_, predict_y = torch.max(predict_out, 1)\n",
        "\n",
        "print ('prediction accuracy', accuracy_score(test_y.data, predict_y.data))\n",
        "\n",
        "print ('macro precision', precision_score(test_y.data, predict_y.data, average='macro'))\n",
        "print ('micro precision', precision_score(test_y.data, predict_y.data, average='micro'))\n",
        "print ('macro recall', recall_score(test_y.data, predict_y.data, average='macro'))\n",
        "print ('micro recall', recall_score(test_y.data, predict_y.data, average='micro'))"
      ],
      "execution_count": null,
      "outputs": []
    },
    {
      "cell_type": "code",
      "metadata": {
        "id": "I0NlcDEsjg7i",
        "colab": {
          "base_uri": "https://localhost:8080/",
          "height": 898
        },
        "outputId": "6bb19a8a-0c57-44b1-a0e8-d821a2b5c9bf"
      },
      "source": [
        "from __future__ import print_function\n",
        "from builtins import range\n",
        "from sklearn.model_selection import train_test_split\n",
        "\n",
        "\"\"\"\n",
        "SECTION 1 : Load and setup data for training\n",
        "the datasets separated in two files from originai datasets:\n",
        "iris_train.csv = datasets for training purpose, 80% from the original data\n",
        "iris_test.csv  = datasets for testing purpose, 20% from the original data\n",
        "\"\"\"\n",
        "import pandas as pd\n",
        "\n",
        "#load\n",
        "dataset = pd.read_csv('./iris.csv')\n",
        "\n",
        "#change string value to numeric\n",
        "dataset.loc[dataset['species']=='Iris-setosa', 'species']=0\n",
        "dataset.loc[dataset['species']=='Iris-versicolor', 'species']=1\n",
        "dataset.loc[dataset['species']=='Iris-virginica', 'species']=2\n",
        "dataset = dataset.apply(pd.to_numeric)\n",
        "\n",
        "#change dataframe to array\n",
        "datatrain_array = dataset.values\n",
        "\n",
        "#split x and y (feature and target)\n",
        "xtrain = datatrain_array[:,:4]\n",
        "ytrain = datatrain_array[:,4]\n",
        "\n",
        "xtrain, xtest, ytrain, ytest = train_test_split(dataset[dataset.columns[0:4]].values,\n",
        "                                                    dataset.species.values, test_size=0.8, \n",
        "                                                    stratify=dataset.species)\n",
        "\n",
        "\"\"\"\n",
        "SECTION 2 : Build and Train Model\n",
        "Multilayer perceptron model, with one hidden layer.\n",
        "input layer : 4 neuron, represents the feature of Iris\n",
        "hidden layer : 3 neuron, activation using ReLU\n",
        "output layer : 3 neuron, represents the class of Iris\n",
        "optimizer = stochastic gradient descent with no batch-size\n",
        "loss function = categorical cross entropy\n",
        "learning rate = 0.01\n",
        "epoch = 50\n",
        "\"\"\"\n",
        "\n",
        "import torch\n",
        "import torch.nn as nn\n",
        "import torch.nn.functional as F\n",
        "torch.manual_seed(1234)\n",
        "\n",
        "#hyperparameters\n",
        "hl = 3\n",
        "lr = 0.01\n",
        "num_epoch = 50\n",
        "\n",
        "#build model\n",
        "class Net(nn.Module):\n",
        "\n",
        "    def __init__(self):\n",
        "        super(Net, self).__init__()\n",
        "        self.fc1 = nn.Linear(4, hl)\n",
        "        self.fc2 = nn.Linear(hl, 3)\n",
        "\n",
        "    def forward(self, x):\n",
        "        x = F.relu(self.fc1(x))\n",
        "        x = self.fc2(x)\n",
        "        return x\n",
        "        \n",
        "net = Net()\n",
        "\n",
        "#choose optimizer and loss function\n",
        "criterion = nn.CrossEntropyLoss()\n",
        "optimizer = torch.optim.SGD(net.parameters(), lr=lr)\n",
        "\n",
        "#train\n",
        "for epoch in range(num_epoch):\n",
        "    X = torch.Tensor(xtrain).float()\n",
        "    Y = torch.Tensor(ytrain).long()\n",
        "\n",
        "    #feedforward - backprop\n",
        "    optimizer.zero_grad()\n",
        "    out = net(X)\n",
        "    loss = criterion(out, Y)\n",
        "    loss.backward()\n",
        "    optimizer.step()\n",
        "    acc = 100 * torch.sum(Y==torch.max(out.data, 1)[1]).double() / len(Y)\n",
        "    print ('Epoch [%d/%d] Loss: %.4f   Acc: %.4f' \n",
        "                   %(epoch+1, num_epoch, loss.item(), acc.item()))\n",
        "\n",
        "\n",
        "\"\"\"\n",
        "SECTION 3 : Testing model\n",
        "\"\"\"\n",
        "\n",
        "#get prediction\n",
        "X = torch.Tensor(xtest).float()\n",
        "Y = torch.Tensor(ytest).long()\n",
        "out = net(X)\n",
        "_, predicted = torch.max(out.data, 1)\n",
        "\n",
        "#get accuration\n",
        "print('Accuracy of the network %.4f %%' % (100 * torch.sum(Y==predicted).double() / len(Y)))"
      ],
      "execution_count": null,
      "outputs": [
        {
          "output_type": "stream",
          "text": [
            "Epoch [1/50] Loss: 1.1443   Acc: 33.3333\n",
            "Epoch [2/50] Loss: 1.1406   Acc: 33.3333\n",
            "Epoch [3/50] Loss: 1.1371   Acc: 33.3333\n",
            "Epoch [4/50] Loss: 1.1336   Acc: 33.3333\n",
            "Epoch [5/50] Loss: 1.1302   Acc: 33.3333\n",
            "Epoch [6/50] Loss: 1.1269   Acc: 33.3333\n",
            "Epoch [7/50] Loss: 1.1237   Acc: 33.3333\n",
            "Epoch [8/50] Loss: 1.1205   Acc: 33.3333\n",
            "Epoch [9/50] Loss: 1.1174   Acc: 33.3333\n",
            "Epoch [10/50] Loss: 1.1143   Acc: 33.3333\n",
            "Epoch [11/50] Loss: 1.1113   Acc: 33.3333\n",
            "Epoch [12/50] Loss: 1.1083   Acc: 33.3333\n",
            "Epoch [13/50] Loss: 1.1053   Acc: 33.3333\n",
            "Epoch [14/50] Loss: 1.1024   Acc: 33.3333\n",
            "Epoch [15/50] Loss: 1.0995   Acc: 33.3333\n",
            "Epoch [16/50] Loss: 1.0966   Acc: 33.3333\n",
            "Epoch [17/50] Loss: 1.0938   Acc: 33.3333\n",
            "Epoch [18/50] Loss: 1.0910   Acc: 33.3333\n",
            "Epoch [19/50] Loss: 1.0882   Acc: 33.3333\n",
            "Epoch [20/50] Loss: 1.0854   Acc: 33.3333\n",
            "Epoch [21/50] Loss: 1.0827   Acc: 33.3333\n",
            "Epoch [22/50] Loss: 1.0799   Acc: 33.3333\n",
            "Epoch [23/50] Loss: 1.0772   Acc: 33.3333\n",
            "Epoch [24/50] Loss: 1.0745   Acc: 33.3333\n",
            "Epoch [25/50] Loss: 1.0718   Acc: 33.3333\n",
            "Epoch [26/50] Loss: 1.0692   Acc: 33.3333\n",
            "Epoch [27/50] Loss: 1.0665   Acc: 33.3333\n",
            "Epoch [28/50] Loss: 1.0639   Acc: 33.3333\n",
            "Epoch [29/50] Loss: 1.0613   Acc: 33.3333\n",
            "Epoch [30/50] Loss: 1.0587   Acc: 33.3333\n",
            "Epoch [31/50] Loss: 1.0561   Acc: 33.3333\n",
            "Epoch [32/50] Loss: 1.0536   Acc: 33.3333\n",
            "Epoch [33/50] Loss: 1.0510   Acc: 33.3333\n",
            "Epoch [34/50] Loss: 1.0485   Acc: 33.3333\n",
            "Epoch [35/50] Loss: 1.0460   Acc: 36.6667\n",
            "Epoch [36/50] Loss: 1.0436   Acc: 36.6667\n",
            "Epoch [37/50] Loss: 1.0411   Acc: 40.0000\n",
            "Epoch [38/50] Loss: 1.0387   Acc: 40.0000\n",
            "Epoch [39/50] Loss: 1.0363   Acc: 43.3333\n",
            "Epoch [40/50] Loss: 1.0340   Acc: 53.3333\n",
            "Epoch [41/50] Loss: 1.0316   Acc: 56.6667\n",
            "Epoch [42/50] Loss: 1.0293   Acc: 63.3333\n",
            "Epoch [43/50] Loss: 1.0271   Acc: 66.6667\n",
            "Epoch [44/50] Loss: 1.0248   Acc: 76.6667\n",
            "Epoch [45/50] Loss: 1.0226   Acc: 80.0000\n",
            "Epoch [46/50] Loss: 1.0204   Acc: 90.0000\n",
            "Epoch [47/50] Loss: 1.0182   Acc: 90.0000\n",
            "Epoch [48/50] Loss: 1.0161   Acc: 93.3333\n",
            "Epoch [49/50] Loss: 1.0140   Acc: 90.0000\n",
            "Epoch [50/50] Loss: 1.0120   Acc: 90.0000\n",
            "Accuracy of the network 83.3333 %\n"
          ],
          "name": "stdout"
        }
      ]
    },
    {
      "cell_type": "code",
      "metadata": {
        "id": "v6dOz4thRc5j"
      },
      "source": [
        "import torch\n",
        "import numpy as np"
      ],
      "execution_count": null,
      "outputs": []
    },
    {
      "cell_type": "code",
      "metadata": {
        "id": "pOa7YacsQ_sz"
      },
      "source": [
        "class Feedforward(torch.nn.Module):\n",
        "        def __init__(self, input_size, hidden_size):\n",
        "            super(Feedforward, self).__init__()\n",
        "            self.input_size = input_size\n",
        "            self.hidden_size  = hidden_size\n",
        "            self.fc1 = torch.nn.Linear(self.input_size, self.hidden_size)\n",
        "            self.relu = torch.nn.ReLU()\n",
        "            self.fc2 = torch.nn.Linear(self.hidden_size, 1)\n",
        "            self.sigmoid = torch.nn.Sigmoid()\n",
        "        def forward(self, x):\n",
        "            hidden = self.fc1(x)\n",
        "            relu = self.relu(hidden)\n",
        "            output = self.fc2(relu)\n",
        "            output = self.sigmoid(output)\n",
        "            return output"
      ],
      "execution_count": null,
      "outputs": []
    },
    {
      "cell_type": "code",
      "metadata": {
        "id": "HZLT4dxiRU6S"
      },
      "source": [
        "# CREATE RANDOM DATA POINTS\n",
        "from sklearn.datasets import make_blobs\n",
        "def blob_label(y, label, loc): # assign labels\n",
        "    target = np.copy(y)\n",
        "    for l in loc:\n",
        "        target[y == l] = label\n",
        "    return target\n",
        "x_train, y_train = make_blobs(n_samples=40, n_features=2, cluster_std=1.5, shuffle=True)\n",
        "x_train = torch.FloatTensor(x_train)\n",
        "y_train = torch.FloatTensor(blob_label(y_train, 0, [0]))\n",
        "y_train = torch.FloatTensor(blob_label(y_train, 1, [1,2,3]))\n",
        "x_test, y_test = make_blobs(n_samples=10, n_features=2, cluster_std=1.5, shuffle=True)\n",
        "print(x_test)\n",
        "print(y_test)\n",
        "x_test = torch.FloatTensor(x_test)\n",
        "y_test = torch.FloatTensor(blob_label(y_test, 0, [0]))\n",
        "y_test = torch.FloatTensor(blob_label(y_test, 1, [1,2,3]))"
      ],
      "execution_count": null,
      "outputs": []
    },
    {
      "cell_type": "code",
      "metadata": {
        "id": "0vX3iQKvWE3o",
        "colab": {
          "base_uri": "https://localhost:8080/",
          "height": 35
        },
        "outputId": "ff912ff3-1e8e-4624-f027-20d69e5fd663"
      },
      "source": [
        "print(y_test)"
      ],
      "execution_count": null,
      "outputs": [
        {
          "output_type": "stream",
          "text": [
            "tensor([0., 0., 1., 1., 1., 1., 1., 0., 1., 0.])\n"
          ],
          "name": "stdout"
        }
      ]
    },
    {
      "cell_type": "code",
      "metadata": {
        "id": "Ui1wALOdRq99"
      },
      "source": [
        "model = Feedforward(2, 4)\n",
        "criterion = torch.nn.BCELoss()\n",
        "optimizer = torch.optim.SGD(model.parameters(), lr = 0.001)"
      ],
      "execution_count": null,
      "outputs": []
    },
    {
      "cell_type": "code",
      "metadata": {
        "id": "2cW86lHoSRhC",
        "colab": {
          "base_uri": "https://localhost:8080/",
          "height": 35
        },
        "outputId": "c328be41-e740-4777-c625-505299d75465"
      },
      "source": [
        "model.eval()\n",
        "y_pred = model(x_test)\n",
        "before_train = criterion(y_pred.squeeze(), y_test)\n",
        "print('Test loss before training' , before_train.item())"
      ],
      "execution_count": null,
      "outputs": [
        {
          "output_type": "stream",
          "text": [
            "Test loss before training 0.8403955698013306\n"
          ],
          "name": "stdout"
        }
      ]
    },
    {
      "cell_type": "code",
      "metadata": {
        "id": "n2YqQa--SYJh"
      },
      "source": [
        "model.train()\n",
        "epoch = 200\n",
        "for epoch in range(epoch):\n",
        "    optimizer.zero_grad()\n",
        "    # Forward pass\n",
        "    y_pred = model(x_train)\n",
        "    # Compute Loss\n",
        "    loss = criterion(y_pred.squeeze(), y_train)\n",
        "   \n",
        "    print('Epoch {}: train loss: {}'.format(epoch, loss.item()))\n",
        "    # Backward pass\n",
        "    loss.backward()\n",
        "    optimizer.step()"
      ],
      "execution_count": null,
      "outputs": []
    },
    {
      "cell_type": "code",
      "metadata": {
        "id": "cLJ844YpSia-",
        "colab": {
          "base_uri": "https://localhost:8080/",
          "height": 35
        },
        "outputId": "13459f41-14e1-4a07-db52-df64f2cc8c89"
      },
      "source": [
        "model.eval()\n",
        "y_pred = model(x_test)\n",
        "after_train = criterion(y_pred.squeeze(), y_test) \n",
        "print('Test loss after Training' , after_train.item())"
      ],
      "execution_count": null,
      "outputs": [
        {
          "output_type": "stream",
          "text": [
            "Test loss after Training 0.7146216034889221\n"
          ],
          "name": "stdout"
        }
      ]
    },
    {
      "cell_type": "code",
      "metadata": {
        "id": "jD0rytKmUR6d",
        "colab": {
          "base_uri": "https://localhost:8080/",
          "height": 381
        },
        "outputId": "afea9709-e8c1-4b52-da53-ffecce7ba7af"
      },
      "source": [
        "from sklearn.metrics import classification_report\n",
        "y_pred_np = y_pred.detach().numpy().round()\n",
        "y_test_np = y_test.detach().numpy()\n",
        "print(y_pred_np)\n",
        "print(y_test_np)\n",
        "print(classification_report(y_test_np, y_pred_np))"
      ],
      "execution_count": null,
      "outputs": [
        {
          "output_type": "stream",
          "text": [
            "[[1.]\n",
            " [1.]\n",
            " [0.]\n",
            " [1.]\n",
            " [1.]\n",
            " [0.]\n",
            " [0.]\n",
            " [1.]\n",
            " [1.]\n",
            " [1.]]\n",
            "[0. 0. 1. 1. 1. 1. 1. 0. 1. 0.]\n",
            "              precision    recall  f1-score   support\n",
            "\n",
            "         0.0       0.00      0.00      0.00         4\n",
            "         1.0       0.43      0.50      0.46         6\n",
            "\n",
            "    accuracy                           0.30        10\n",
            "   macro avg       0.21      0.25      0.23        10\n",
            "weighted avg       0.26      0.30      0.28        10\n",
            "\n"
          ],
          "name": "stdout"
        }
      ]
    },
    {
      "cell_type": "markdown",
      "metadata": {
        "id": "MIxdOeL9bn_T"
      },
      "source": [
        "# Demo: Batch training, Learning curves, Early Stopping, Dropout\n",
        "\n",
        "O exemplo de código a seguir é uma adaptação do encontrado em https://github.com/Bjarten/early-stopping-pytorch/blob/master/MNIST_Early_Stopping_example.ipynb"
      ]
    },
    {
      "cell_type": "code",
      "metadata": {
        "id": "eg5nVORWbp_4"
      },
      "source": [
        "# import libraries\n",
        "import torch\n",
        "import numpy as np\n",
        "import matplotlib.pyplot as plt"
      ],
      "execution_count": null,
      "outputs": []
    },
    {
      "cell_type": "code",
      "metadata": {
        "id": "6oaHxa7ydyRI"
      },
      "source": [
        "class EarlyStopping:\n",
        "    \"\"\"Early stops the training if validation loss doesn't improve after a given patience.\"\"\"\n",
        "    def __init__(self, patience=7, verbose=False, delta=0):\n",
        "        \"\"\"\n",
        "        Args:\n",
        "            patience (int): How long to wait after last time validation loss improved.\n",
        "                            Default: 7\n",
        "            verbose (bool): If True, prints a message for each validation loss improvement. \n",
        "                            Default: False\n",
        "            delta (float): Minimum change in the monitored quantity to qualify as an improvement.\n",
        "                            Default: 0\n",
        "        \"\"\"\n",
        "        self.patience = patience\n",
        "        self.verbose = verbose\n",
        "        self.counter = 0\n",
        "        self.best_score = None\n",
        "        self.early_stop = False\n",
        "        self.val_loss_min = np.Inf\n",
        "        self.delta = delta\n",
        "\n",
        "    def __call__(self, val_loss, model):\n",
        "\n",
        "        score = -val_loss\n",
        "\n",
        "        if self.best_score is None:\n",
        "            self.best_score = score\n",
        "            self.save_checkpoint(val_loss, model)\n",
        "        elif score < self.best_score + self.delta:\n",
        "            self.counter += 1\n",
        "            print(f'EarlyStopping counter: {self.counter} out of {self.patience}')\n",
        "            if self.counter >= self.patience:\n",
        "                self.early_stop = True\n",
        "        else:\n",
        "            self.best_score = score\n",
        "            self.save_checkpoint(val_loss, model)\n",
        "            self.counter = 0\n",
        "\n",
        "    def save_checkpoint(self, val_loss, model):\n",
        "        '''Saves model when validation loss decrease.'''\n",
        "        if self.verbose:\n",
        "            print(f'Validation loss decreased ({self.val_loss_min:.6f} --> {val_loss:.6f}).  Saving model ...')\n",
        "        torch.save(model.state_dict(), 'checkpoint.pt')\n",
        "        self.val_loss_min = val_loss"
      ],
      "execution_count": null,
      "outputs": []
    },
    {
      "cell_type": "code",
      "metadata": {
        "id": "-3wySJxhb0_-"
      },
      "source": [
        "from torchvision import datasets\n",
        "import torchvision.transforms as transforms\n",
        "from torch.utils.data.sampler import SubsetRandomSampler\n",
        "\n",
        "def create_datasets(batch_size):\n",
        "\n",
        "    # percentage of training set to use as validation\n",
        "    valid_size = 0.2\n",
        "\n",
        "    # convert data to torch.FloatTensor\n",
        "    transform = transforms.ToTensor()\n",
        "\n",
        "    # choose the training and test datasets\n",
        "    train_data = datasets.MNIST(root='data', \n",
        "                                train=True,\n",
        "                                download=True, \n",
        "                                transform=transform)\n",
        "\n",
        "    test_data = datasets.MNIST(root='data',\n",
        "                               train=False,\n",
        "                               download=True,\n",
        "                               transform=transform)\n",
        "\n",
        "    # obtain training indices that will be used for validation\n",
        "    num_train = len(train_data)\n",
        "    indices = list(range(num_train))\n",
        "    np.random.shuffle(indices)\n",
        "    split = int(np.floor(valid_size * num_train))\n",
        "    train_idx, valid_idx = indices[split:], indices[:split]\n",
        "    \n",
        "    # define samplers for obtaining training and validation batches\n",
        "    train_sampler = SubsetRandomSampler(train_idx)\n",
        "    valid_sampler = SubsetRandomSampler(valid_idx)\n",
        "    \n",
        "    # load training data in batches\n",
        "    train_loader = torch.utils.data.DataLoader(train_data,\n",
        "                                               batch_size=batch_size,\n",
        "                                               sampler=train_sampler,\n",
        "                                               num_workers=0)\n",
        "    \n",
        "    # load validation data in batches\n",
        "    valid_loader = torch.utils.data.DataLoader(train_data,\n",
        "                                               batch_size=batch_size,\n",
        "                                               sampler=valid_sampler,\n",
        "                                               num_workers=0)\n",
        "    \n",
        "    # load test data in batches\n",
        "    test_loader = torch.utils.data.DataLoader(test_data,\n",
        "                                              batch_size=batch_size,\n",
        "                                              num_workers=0)\n",
        "    \n",
        "    return train_loader, test_loader, valid_loader"
      ],
      "execution_count": null,
      "outputs": []
    },
    {
      "cell_type": "code",
      "metadata": {
        "id": "zaqZqBVHb7xY",
        "colab": {
          "base_uri": "https://localhost:8080/",
          "height": 121
        },
        "outputId": "86f0a8b9-1e13-4014-f82c-6efcb5d26b48"
      },
      "source": [
        "import torch.nn as nn\n",
        "import torch.nn.functional as F\n",
        "\n",
        "class Net(nn.Module):\n",
        "    def __init__(self):\n",
        "        super(Net, self).__init__()\n",
        "        self.fc1 = nn.Linear(28 * 28, 128)\n",
        "        self.fc2 = nn.Linear(128, 128)\n",
        "        self.fc3 = nn.Linear(128, 10)\n",
        "        self.dropout = nn.Dropout(0.5)\n",
        "    def forward(self, x):\n",
        "        # flatten image input\n",
        "        x = x.view(-1, 28 * 28)\n",
        "        # add hidden layer, with relu activation function\n",
        "        x = F.relu(self.fc1(x))\n",
        "        x = self.dropout(x)\n",
        "        # add hidden layer, with relu activation function\n",
        "        x = F.relu(self.fc2(x))\n",
        "        x = self.dropout(x)\n",
        "        # add output layer\n",
        "        x = self.fc3(x)\n",
        "        return x\n",
        "\n",
        "# initialize the NN\n",
        "model = Net()\n",
        "print(model)"
      ],
      "execution_count": null,
      "outputs": [
        {
          "output_type": "stream",
          "text": [
            "Net(\n",
            "  (fc1): Linear(in_features=784, out_features=128, bias=True)\n",
            "  (fc2): Linear(in_features=128, out_features=128, bias=True)\n",
            "  (fc3): Linear(in_features=128, out_features=10, bias=True)\n",
            "  (dropout): Dropout(p=0.5, inplace=False)\n",
            ")\n"
          ],
          "name": "stdout"
        }
      ]
    },
    {
      "cell_type": "code",
      "metadata": {
        "id": "Jp9DMq_ocK2p"
      },
      "source": [
        "# specify loss function\n",
        "criterion = nn.CrossEntropyLoss()\n",
        "\n",
        "# specify optimizer\n",
        "optimizer = torch.optim.Adam(model.parameters())"
      ],
      "execution_count": null,
      "outputs": []
    },
    {
      "cell_type": "code",
      "metadata": {
        "id": "4_qhj0xUcR_F"
      },
      "source": [
        "def train_model(model, batch_size, patience, n_epochs):\n",
        "    \n",
        "    # to track the training loss as the model trains\n",
        "    train_losses = []\n",
        "    # to track the validation loss as the model trains\n",
        "    valid_losses = []\n",
        "    # to track the average training loss per epoch as the model trains\n",
        "    avg_train_losses = []\n",
        "    # to track the average validation loss per epoch as the model trains\n",
        "    avg_valid_losses = [] \n",
        "    \n",
        "    # initialize the early_stopping object\n",
        "    early_stopping = EarlyStopping(patience=patience, verbose=True)\n",
        "    \n",
        "    for epoch in range(1, n_epochs + 1):\n",
        "\n",
        "        ###################\n",
        "        # train the model #\n",
        "        ###################\n",
        "        model.train() # prep model for training\n",
        "        for batch, (data, target) in enumerate(train_loader, 1):\n",
        "            # clear the gradients of all optimized variables\n",
        "            optimizer.zero_grad()\n",
        "            # forward pass: compute predicted outputs by passing inputs to the model\n",
        "            output = model(data)\n",
        "            # calculate the loss\n",
        "            loss = criterion(output, target)\n",
        "            # backward pass: compute gradient of the loss with respect to model parameters\n",
        "            loss.backward()\n",
        "            # perform a single optimization step (parameter update)\n",
        "            optimizer.step()\n",
        "            # record training loss\n",
        "            train_losses.append(loss.item())\n",
        "\n",
        "        ######################    \n",
        "        # validate the model #\n",
        "        ######################\n",
        "        model.eval() # prep model for evaluation\n",
        "        for data, target in valid_loader:\n",
        "            # forward pass: compute predicted outputs by passing inputs to the model\n",
        "            output = model(data)\n",
        "            # calculate the loss\n",
        "            loss = criterion(output, target)\n",
        "            # record validation loss\n",
        "            valid_losses.append(loss.item())\n",
        "\n",
        "        # print training/validation statistics \n",
        "        # calculate average loss over an epoch\n",
        "        train_loss = np.average(train_losses)\n",
        "        valid_loss = np.average(valid_losses)\n",
        "        avg_train_losses.append(train_loss)\n",
        "        avg_valid_losses.append(valid_loss)\n",
        "        \n",
        "        epoch_len = len(str(n_epochs))\n",
        "        \n",
        "        print_msg = (f'[{epoch:>{epoch_len}}/{n_epochs:>{epoch_len}}] ' +\n",
        "                     f'train_loss: {train_loss:.5f} ' +\n",
        "                     f'valid_loss: {valid_loss:.5f}')\n",
        "        \n",
        "        print(print_msg)\n",
        "        \n",
        "        # clear lists to track next epoch\n",
        "        train_losses = []\n",
        "        valid_losses = []\n",
        "        \n",
        "        # early_stopping needs the validation loss to check if it has decresed, \n",
        "        # and if it has, it will make a checkpoint of the current model\n",
        "        early_stopping(valid_loss, model)\n",
        "        \n",
        "        if early_stopping.early_stop:\n",
        "            print(\"Early stopping\")\n",
        "            break\n",
        "        \n",
        "    # load the last checkpoint with the best model\n",
        "    model.load_state_dict(torch.load('checkpoint.pt'))\n",
        "\n",
        "    return  model, avg_train_losses, avg_valid_losses"
      ],
      "execution_count": null,
      "outputs": []
    },
    {
      "cell_type": "code",
      "metadata": {
        "id": "pfZG-4Klctgb",
        "colab": {
          "base_uri": "https://localhost:8080/",
          "height": 1000,
          "referenced_widgets": [
            "936c5f6b16174f92bc5efe92401c31b2",
            "ffda42f0b76a4db58b59b953219716ed",
            "19eca837d3c543759e2c146a5fb5ed92",
            "9b34d7b8e31a483582351ee1bb294577",
            "1e011ddc05304e0fb442929f0070684f",
            "3da36fb56d8b42c7934f89721ce347f9",
            "e6153d76a3a644db9696d9299a8ea256",
            "e3884fed39d6477498ef425f2809e865",
            "f25f4a4612034e92b5f5f8990a92e5bc",
            "eecb7599d2494199832dd3ae4d31e8a9",
            "789d2a7bfae74fc9845f0bc303fa26e1",
            "403d0274e94345c5bdfabab1cedf42a6",
            "604643cbd9b14fad95b78c7e76b9bcee",
            "9a26f52f059f4386a6182c90018b4eb6",
            "ab6b42e326c54ae099e873361a3f571d",
            "087a96d4328740bb8968e0a9cd0e49d4",
            "5c65d631f07c4f80834e8a6e46341509",
            "8997e1cd30444cb3abc698533cfdffcc",
            "6d93bb3d00be434abd346a4912a35760",
            "d9937e2602bf4052914513168cb3ac07",
            "43a432073d6b4812bf90914fdc76a588",
            "913cf542a769493083d0c41a4abf9147",
            "af48058b3ac848eba95d001e52cc5bbd",
            "c2c42d75ea0c40b7be02c93778fa042b",
            "d490c1ac5ccf4b6696338331cbdbd24f",
            "9f0c4f030eb5487d8ff05f8947b8bde0",
            "311e748f5c744c60b08b9f9b123cb575",
            "577c299761804717b0840d2ebf3a6dd9",
            "9ee4d088f3324c69985880e56917e1f1",
            "7b9e0a0a549244879b8b910f6018e0b8",
            "9494c4b93a534e9c9a1a23852545e42e",
            "65f015210c38460b95c2b4f51cc92549"
          ]
        },
        "outputId": "48f0ada1-f8be-4af5-f571-f24f6993476b"
      },
      "source": [
        "n_epochs = 100\n",
        "batch_size = 128\n",
        "\n",
        "train_loader, test_loader, valid_loader = create_datasets(batch_size)\n",
        "\n",
        "# early stopping patience; how long to wait after last time validation loss improved.\n",
        "patience = 20\n",
        "\n",
        "model, train_loss, valid_loss = train_model(model, batch_size, patience, n_epochs)"
      ],
      "execution_count": null,
      "outputs": [
        {
          "output_type": "stream",
          "text": [
            "Downloading http://yann.lecun.com/exdb/mnist/train-images-idx3-ubyte.gz to data/MNIST/raw/train-images-idx3-ubyte.gz\n"
          ],
          "name": "stdout"
        },
        {
          "output_type": "display_data",
          "data": {
            "application/vnd.jupyter.widget-view+json": {
              "model_id": "936c5f6b16174f92bc5efe92401c31b2",
              "version_minor": 0,
              "version_major": 2
            },
            "text/plain": [
              "HBox(children=(IntProgress(value=1, bar_style='info', max=1), HTML(value='')))"
            ]
          },
          "metadata": {
            "tags": []
          }
        },
        {
          "output_type": "stream",
          "text": [
            "\n",
            "Extracting data/MNIST/raw/train-images-idx3-ubyte.gz to data/MNIST/raw\n",
            "Downloading http://yann.lecun.com/exdb/mnist/train-labels-idx1-ubyte.gz to data/MNIST/raw/train-labels-idx1-ubyte.gz\n"
          ],
          "name": "stdout"
        },
        {
          "output_type": "display_data",
          "data": {
            "application/vnd.jupyter.widget-view+json": {
              "model_id": "f25f4a4612034e92b5f5f8990a92e5bc",
              "version_minor": 0,
              "version_major": 2
            },
            "text/plain": [
              "HBox(children=(IntProgress(value=1, bar_style='info', max=1), HTML(value='')))"
            ]
          },
          "metadata": {
            "tags": []
          }
        },
        {
          "output_type": "stream",
          "text": [
            "\n",
            "Extracting data/MNIST/raw/train-labels-idx1-ubyte.gz to data/MNIST/raw\n",
            "Downloading http://yann.lecun.com/exdb/mnist/t10k-images-idx3-ubyte.gz to data/MNIST/raw/t10k-images-idx3-ubyte.gz\n"
          ],
          "name": "stdout"
        },
        {
          "output_type": "display_data",
          "data": {
            "application/vnd.jupyter.widget-view+json": {
              "model_id": "5c65d631f07c4f80834e8a6e46341509",
              "version_minor": 0,
              "version_major": 2
            },
            "text/plain": [
              "HBox(children=(IntProgress(value=1, bar_style='info', max=1), HTML(value='')))"
            ]
          },
          "metadata": {
            "tags": []
          }
        },
        {
          "output_type": "stream",
          "text": [
            "\n",
            "Extracting data/MNIST/raw/t10k-images-idx3-ubyte.gz to data/MNIST/raw\n",
            "Downloading http://yann.lecun.com/exdb/mnist/t10k-labels-idx1-ubyte.gz to data/MNIST/raw/t10k-labels-idx1-ubyte.gz\n"
          ],
          "name": "stdout"
        },
        {
          "output_type": "display_data",
          "data": {
            "application/vnd.jupyter.widget-view+json": {
              "model_id": "d490c1ac5ccf4b6696338331cbdbd24f",
              "version_minor": 0,
              "version_major": 2
            },
            "text/plain": [
              "HBox(children=(IntProgress(value=1, bar_style='info', max=1), HTML(value='')))"
            ]
          },
          "metadata": {
            "tags": []
          }
        },
        {
          "output_type": "stream",
          "text": [
            "\n",
            "Extracting data/MNIST/raw/t10k-labels-idx1-ubyte.gz to data/MNIST/raw\n",
            "Processing...\n",
            "Done!\n",
            "[  1/100] train_loss: 0.67765 valid_loss: 0.26069\n",
            "Validation loss decreased (inf --> 0.260689).  Saving model ...\n",
            "[  2/100] train_loss: 0.32582 valid_loss: 0.19368\n",
            "Validation loss decreased (0.260689 --> 0.193679).  Saving model ...\n",
            "[  3/100] train_loss: 0.26599 valid_loss: 0.16314\n",
            "Validation loss decreased (0.193679 --> 0.163142).  Saving model ...\n",
            "[  4/100] train_loss: 0.23241 valid_loss: 0.14661\n",
            "Validation loss decreased (0.163142 --> 0.146615).  Saving model ...\n",
            "[  5/100] train_loss: 0.21010 valid_loss: 0.13294\n",
            "Validation loss decreased (0.146615 --> 0.132936).  Saving model ...\n",
            "[  6/100] train_loss: 0.19619 valid_loss: 0.12647\n",
            "Validation loss decreased (0.132936 --> 0.126467).  Saving model ...\n",
            "[  7/100] train_loss: 0.18322 valid_loss: 0.12248\n",
            "Validation loss decreased (0.126467 --> 0.122484).  Saving model ...\n",
            "[  8/100] train_loss: 0.17486 valid_loss: 0.11344\n",
            "Validation loss decreased (0.122484 --> 0.113437).  Saving model ...\n",
            "[  9/100] train_loss: 0.16227 valid_loss: 0.11376\n",
            "EarlyStopping counter: 1 out of 20\n",
            "[ 10/100] train_loss: 0.16060 valid_loss: 0.10991\n",
            "Validation loss decreased (0.113437 --> 0.109910).  Saving model ...\n",
            "[ 11/100] train_loss: 0.15156 valid_loss: 0.10249\n",
            "Validation loss decreased (0.109910 --> 0.102488).  Saving model ...\n",
            "[ 12/100] train_loss: 0.14758 valid_loss: 0.10445\n",
            "EarlyStopping counter: 1 out of 20\n",
            "[ 13/100] train_loss: 0.14077 valid_loss: 0.10115\n",
            "Validation loss decreased (0.102488 --> 0.101154).  Saving model ...\n",
            "[ 14/100] train_loss: 0.14149 valid_loss: 0.10163\n",
            "EarlyStopping counter: 1 out of 20\n",
            "[ 15/100] train_loss: 0.13406 valid_loss: 0.09753\n",
            "Validation loss decreased (0.101154 --> 0.097529).  Saving model ...\n",
            "[ 16/100] train_loss: 0.12960 valid_loss: 0.10101\n",
            "EarlyStopping counter: 1 out of 20\n",
            "[ 17/100] train_loss: 0.12909 valid_loss: 0.09999\n",
            "EarlyStopping counter: 2 out of 20\n",
            "[ 18/100] train_loss: 0.12547 valid_loss: 0.09752\n",
            "Validation loss decreased (0.097529 --> 0.097525).  Saving model ...\n",
            "[ 19/100] train_loss: 0.12434 valid_loss: 0.09541\n",
            "Validation loss decreased (0.097525 --> 0.095406).  Saving model ...\n",
            "[ 20/100] train_loss: 0.12260 valid_loss: 0.09703\n",
            "EarlyStopping counter: 1 out of 20\n",
            "[ 21/100] train_loss: 0.12347 valid_loss: 0.10077\n",
            "EarlyStopping counter: 2 out of 20\n",
            "[ 22/100] train_loss: 0.11555 valid_loss: 0.09411\n",
            "Validation loss decreased (0.095406 --> 0.094111).  Saving model ...\n",
            "[ 23/100] train_loss: 0.11396 valid_loss: 0.09662\n",
            "EarlyStopping counter: 1 out of 20\n",
            "[ 24/100] train_loss: 0.11567 valid_loss: 0.09389\n",
            "Validation loss decreased (0.094111 --> 0.093886).  Saving model ...\n",
            "[ 25/100] train_loss: 0.11081 valid_loss: 0.10088\n",
            "EarlyStopping counter: 1 out of 20\n",
            "[ 26/100] train_loss: 0.10629 valid_loss: 0.08981\n",
            "Validation loss decreased (0.093886 --> 0.089813).  Saving model ...\n",
            "[ 27/100] train_loss: 0.10945 valid_loss: 0.09163\n",
            "EarlyStopping counter: 1 out of 20\n",
            "[ 28/100] train_loss: 0.10679 valid_loss: 0.08793\n",
            "Validation loss decreased (0.089813 --> 0.087934).  Saving model ...\n",
            "[ 29/100] train_loss: 0.10497 valid_loss: 0.08686\n",
            "Validation loss decreased (0.087934 --> 0.086856).  Saving model ...\n",
            "[ 30/100] train_loss: 0.09959 valid_loss: 0.09086\n",
            "EarlyStopping counter: 1 out of 20\n",
            "[ 31/100] train_loss: 0.10108 valid_loss: 0.09420\n",
            "EarlyStopping counter: 2 out of 20\n",
            "[ 32/100] train_loss: 0.10028 valid_loss: 0.08981\n",
            "EarlyStopping counter: 3 out of 20\n",
            "[ 33/100] train_loss: 0.09779 valid_loss: 0.09101\n",
            "EarlyStopping counter: 4 out of 20\n",
            "[ 34/100] train_loss: 0.09818 valid_loss: 0.09235\n",
            "EarlyStopping counter: 5 out of 20\n",
            "[ 35/100] train_loss: 0.09773 valid_loss: 0.09572\n",
            "EarlyStopping counter: 6 out of 20\n",
            "[ 36/100] train_loss: 0.09386 valid_loss: 0.09594\n",
            "EarlyStopping counter: 7 out of 20\n",
            "[ 37/100] train_loss: 0.09805 valid_loss: 0.10171\n",
            "EarlyStopping counter: 8 out of 20\n",
            "[ 38/100] train_loss: 0.09227 valid_loss: 0.09615\n",
            "EarlyStopping counter: 9 out of 20\n",
            "[ 39/100] train_loss: 0.09783 valid_loss: 0.09589\n",
            "EarlyStopping counter: 10 out of 20\n",
            "[ 40/100] train_loss: 0.09329 valid_loss: 0.09282\n",
            "EarlyStopping counter: 11 out of 20\n",
            "[ 41/100] train_loss: 0.09157 valid_loss: 0.09168\n",
            "EarlyStopping counter: 12 out of 20\n",
            "[ 42/100] train_loss: 0.09071 valid_loss: 0.10140\n",
            "EarlyStopping counter: 13 out of 20\n",
            "[ 43/100] train_loss: 0.09166 valid_loss: 0.09683\n",
            "EarlyStopping counter: 14 out of 20\n",
            "[ 44/100] train_loss: 0.08673 valid_loss: 0.10054\n",
            "EarlyStopping counter: 15 out of 20\n",
            "[ 45/100] train_loss: 0.08645 valid_loss: 0.10083\n",
            "EarlyStopping counter: 16 out of 20\n",
            "[ 46/100] train_loss: 0.09165 valid_loss: 0.09750\n",
            "EarlyStopping counter: 17 out of 20\n",
            "[ 47/100] train_loss: 0.08525 valid_loss: 0.10349\n",
            "EarlyStopping counter: 18 out of 20\n",
            "[ 48/100] train_loss: 0.08863 valid_loss: 0.09497\n",
            "EarlyStopping counter: 19 out of 20\n",
            "[ 49/100] train_loss: 0.08988 valid_loss: 0.09812\n",
            "EarlyStopping counter: 20 out of 20\n",
            "Early stopping\n"
          ],
          "name": "stdout"
        }
      ]
    },
    {
      "cell_type": "code",
      "metadata": {
        "id": "ii_jN4ZFczHo",
        "colab": {
          "base_uri": "https://localhost:8080/",
          "height": 585
        },
        "outputId": "dd4916d1-8a74-4f32-f555-77d5e054427d"
      },
      "source": [
        "# visualize the loss as the network trained\n",
        "fig = plt.figure(figsize=(10,8))\n",
        "plt.plot(range(1,len(train_loss)+1),train_loss, label='Training Loss')\n",
        "plt.plot(range(1,len(valid_loss)+1),valid_loss,label='Validation Loss')\n",
        "\n",
        "# find position of lowest validation loss\n",
        "minposs = valid_loss.index(min(valid_loss))+1 \n",
        "plt.axvline(minposs, linestyle='--', color='r',label='Early Stopping Checkpoint')\n",
        "\n",
        "plt.xlabel('epochs')\n",
        "plt.ylabel('loss')\n",
        "plt.ylim(0, 0.5) # consistent scale\n",
        "plt.xlim(0, len(train_loss)+1) # consistent scale\n",
        "plt.grid(True)\n",
        "plt.legend()\n",
        "plt.tight_layout()\n",
        "plt.show()\n",
        "fig.savefig('loss_plot.png', bbox_inches='tight')"
      ],
      "execution_count": null,
      "outputs": [
        {
          "output_type": "display_data",
          "data": {
            "image/png": "[encoded data removed]",
            "text/plain": [
              "<Figure size 720x576 with 1 Axes>"
            ]
          },
          "metadata": {
            "tags": []
          }
        }
      ]
    },
    {
      "cell_type": "code",
      "metadata": {
        "id": "C9ZQio2Kc41P",
        "colab": {
          "base_uri": "https://localhost:8080/",
          "height": 259
        },
        "outputId": "6afc179f-bab3-49f9-d72d-49b87a7a3ad0"
      },
      "source": [
        "# initialize lists to monitor test loss and accuracy\n",
        "test_loss = 0.0\n",
        "class_correct = list(0. for i in range(10))\n",
        "class_total = list(0. for i in range(10))\n",
        "\n",
        "model.eval() # prep model for evaluation\n",
        "\n",
        "for data, target in test_loader:\n",
        "    if len(target.data) != batch_size:\n",
        "        break\n",
        "    # forward pass: compute predicted outputs by passing inputs to the model\n",
        "    output = model(data)\n",
        "    # calculate the loss\n",
        "    loss = criterion(output, target)\n",
        "    # update test loss \n",
        "    test_loss += loss.item()*data.size(0)\n",
        "    # convert output probabilities to predicted class\n",
        "    _, pred = torch.max(output, 1)\n",
        "    # compare predictions to true label\n",
        "    correct = np.squeeze(pred.eq(target.data.view_as(pred)))\n",
        "    # calculate test accuracy for each object class\n",
        "    for i in range(batch_size):\n",
        "        label = target.data[i]\n",
        "        class_correct[label] += correct[i].item()\n",
        "        class_total[label] += 1\n",
        "\n",
        "# calculate and print avg test loss\n",
        "test_loss = test_loss/len(test_loader.dataset)\n",
        "print('Test Loss: {:.6f}\\n'.format(test_loss))\n",
        "\n",
        "for i in range(10):\n",
        "    if class_total[i] > 0:\n",
        "        print('Test Accuracy of %5s: %2d%% (%2d/%2d)' % (\n",
        "            str(i), 100 * class_correct[i] / class_total[i],\n",
        "            np.sum(class_correct[i]), np.sum(class_total[i])))\n",
        "    else:\n",
        "        print('Test Accuracy of %5s: N/A (no training examples)' % (classes[i]))\n",
        "\n",
        "print('\\nTest Accuracy (Overall): %2d%% (%2d/%2d)' % (\n",
        "    100. * np.sum(class_correct) / np.sum(class_total),\n",
        "    np.sum(class_correct), np.sum(class_total)))"
      ],
      "execution_count": null,
      "outputs": [
        {
          "output_type": "stream",
          "text": [
            "Test Loss: 0.082543\n",
            "\n",
            "Test Accuracy of     0: 99% (970/979)\n",
            "Test Accuracy of     1: 99% (1122/1133)\n",
            "Test Accuracy of     2: 97% (1007/1030)\n",
            "Test Accuracy of     3: 98% (992/1008)\n",
            "Test Accuracy of     4: 97% (957/980)\n",
            "Test Accuracy of     5: 97% (868/890)\n",
            "Test Accuracy of     6: 97% (936/956)\n",
            "Test Accuracy of     7: 97% (999/1027)\n",
            "Test Accuracy of     8: 96% (940/973)\n",
            "Test Accuracy of     9: 96% (972/1008)\n",
            "\n",
            "Test Accuracy (Overall): 97% (9763/9984)\n"
          ],
          "name": "stdout"
        }
      ]
    },
    {
      "cell_type": "code",
      "metadata": {
        "id": "r0pozTUTc58u",
        "colab": {
          "base_uri": "https://localhost:8080/",
          "height": 288
        },
        "outputId": "88a77f7e-7369-4d04-c86a-5a573ade865c"
      },
      "source": [
        "# obtain one batch of test images\n",
        "dataiter = iter(test_loader)\n",
        "images, labels = dataiter.next()\n",
        "\n",
        "# get sample outputs\n",
        "output = model(images)\n",
        "# convert output probabilities to predicted class\n",
        "_, preds = torch.max(output, 1)\n",
        "# prep images for display\n",
        "images = images.numpy()\n",
        "\n",
        "# plot the images in the batch, along with predicted and true labels\n",
        "fig = plt.figure(figsize=(25, 4))\n",
        "for idx in np.arange(20):\n",
        "    ax = fig.add_subplot(2, 20/2, idx+1, xticks=[], yticks=[])\n",
        "    ax.imshow(np.squeeze(images[idx]), cmap='gray')\n",
        "    ax.set_title(\"{} ({})\".format(str(preds[idx].item()), str(labels[idx].item())),\n",
        "                 color=(\"green\" if preds[idx]==labels[idx] else \"red\"))"
      ],
      "execution_count": null,
      "outputs": [
        {
          "output_type": "display_data",
          "data": {
            "image/png": "[encoded data removed]",
            "text/plain": [
              "<Figure size 1800x288 with 20 Axes>"
            ]
          },
          "metadata": {
            "tags": []
          }
        }
      ]
    },
    {
      "cell_type": "markdown",
      "metadata": {
        "id": "ChmuCgnXlt-e"
      },
      "source": [
        "# convnets"
      ]
    },
    {
      "cell_type": "markdown",
      "metadata": {
        "id": "V0rF_8QGnU5y"
      },
      "source": [
        "## filters"
      ]
    },
    {
      "cell_type": "code",
      "metadata": {
        "id": "zMvYd_WhlvtA"
      },
      "source": [
        "from skimage import exposure\n",
        "from skimage import data  # most functions are in subpackages\n",
        "camera = data.camera()\n",
        "camera_equalized = exposure.equalize_hist(camera)\n",
        "\n",
        "import os\n",
        "filename = os.path.join(skimage.data_dir, 'camera.png')\n",
        "camera = io.imread(filename)\n",
        "\n"
      ],
      "execution_count": null,
      "outputs": []
    },
    {
      "cell_type": "code",
      "metadata": {
        "id": "QvoTf8nembPr",
        "colab": {
          "base_uri": "https://localhost:8080/",
          "height": 286
        },
        "outputId": "ca6cc830-d5e7-4584-d549-198b27e4c79a"
      },
      "source": [
        "import numpy as np\n",
        "import matplotlib.pyplot as plt\n",
        "plt.imshow(camera, cmap='gray', interpolation='nearest') "
      ],
      "execution_count": null,
      "outputs": [
        {
          "output_type": "execute_result",
          "data": {
            "text/plain": [
              "<matplotlib.image.AxesImage at 0x7f18f7e01b70>"
            ]
          },
          "metadata": {
            "tags": []
          },
          "execution_count": 22
        },
        {
          "output_type": "display_data",
          "data": {
            "image/png": "[encoded data removed]",
            "text/plain": [
              "<Figure size 432x288 with 1 Axes>"
            ]
          },
          "metadata": {
            "tags": []
          }
        }
      ]
    },
    {
      "cell_type": "code",
      "metadata": {
        "id": "9RMjpubhgCli",
        "colab": {
          "base_uri": "https://localhost:8080/",
          "height": 225
        },
        "outputId": "192d0b0e-8f95-4a5c-b700-8218033253ad"
      },
      "source": [
        "import numpy as np\n",
        "import matplotlib.pyplot as plt\n",
        "from scipy import ndimage as ndi\n",
        "\n",
        "import skimage\n",
        "import skimage.feature\n",
        "from skimage.viewer import ImageViewer\n",
        "\n",
        "from skimage import feature\n",
        "\n",
        "# Generate noisy image of a square\n",
        "im = np.zeros((128, 128))\n",
        "im[32:-32, 32:-32] = 1\n",
        "\n",
        "im = ndi.rotate(im, 15, mode='constant')\n",
        "im = ndi.gaussian_filter(im, 4)\n",
        "im += 0.2 * np.random.random(im.shape)\n",
        "\n",
        "im = camera\n",
        "\n",
        "# Compute the Canny filter\n",
        "edges = feature.canny(im, sigma=3)\n",
        "\n",
        "# display results\n",
        "fig, (ax1, ax2) = plt.subplots(nrows=1, ncols=2, figsize=(8, 3),\n",
        "                                    sharex=True, sharey=True)\n",
        "\n",
        "ax1.imshow(im, cmap=plt.cm.gray)\n",
        "ax1.axis('off')\n",
        "ax1.set_title('noisy image', fontsize=20)\n",
        "\n",
        "ax2.imshow(edges, cmap=plt.cm.gray)\n",
        "ax2.axis('off')\n",
        "ax2.set_title(r'Canny filter, $\\sigma=3$', fontsize=20)\n",
        "\n",
        "fig.tight_layout()\n",
        "\n",
        "plt.show()"
      ],
      "execution_count": null,
      "outputs": [
        {
          "output_type": "display_data",
          "data": {
            "image/png": "[encoded data removed]",
            "text/plain": [
              "<Figure size 576x216 with 2 Axes>"
            ]
          },
          "metadata": {
            "tags": []
          }
        }
      ]
    },
    {
      "cell_type": "markdown",
      "metadata": {
        "id": "9GnLYElf5fOk"
      },
      "source": [
        "## Demo: image classification on CIFAR10"
      ]
    },
    {
      "cell_type": "code",
      "metadata": {
        "id": "RKoih4rI56Q6"
      },
      "source": [
        "import numpy as np\n",
        "import torch\n",
        "import torchvision\n",
        "import torchvision.transforms as transforms"
      ],
      "execution_count": null,
      "outputs": []
    },
    {
      "cell_type": "code",
      "metadata": {
        "id": "DoMTUn915a7y",
        "colab": {
          "base_uri": "https://localhost:8080/",
          "height": 138,
          "referenced_widgets": [
            "3db05372ed66410e815168f2bfe0ec62",
            "e46604b9e7d746219bebc1232d2aec09",
            "c6dd7987abf54ad6b1236adb9bd55ac6",
            "70b439215cbc4a2baa68156e0a515fc5",
            "784998df19e7464dab23482b84d06ba6",
            "72b5534c96884c948f2532e531926702",
            "cc0b376f286245d7acd8895f53966f53",
            "164e013aa6844fe59349115576fd1fcb"
          ]
        },
        "outputId": "96af9fdd-4dc1-412c-98b9-25398e13e2eb"
      },
      "source": [
        "#The compose function allows for multiple transforms\n",
        "#transforms.ToTensor() converts our PILImage to a tensor of shape (C x H x W) in the range [0,1]\n",
        "#transforms.Normalize(mean,std) normalizes a tensor to a (mean, std) for (R, G, B)\n",
        "transform = transforms.Compose([transforms.ToTensor(), transforms.Normalize((0.5, 0.5, 0.5), (0.5, 0.5, 0.5))])\n",
        "\n",
        "train_set = torchvision.datasets.CIFAR10(root='./cifardata', train=True, download=True, transform=transform)\n",
        "\n",
        "test_set = torchvision.datasets.CIFAR10(root='./cifardata', train=False, download=True, transform=transform)"
      ],
      "execution_count": null,
      "outputs": [
        {
          "output_type": "stream",
          "text": [
            "Downloading https://www.cs.toronto.edu/~kriz/cifar-10-python.tar.gz to ./cifardata/cifar-10-python.tar.gz\n"
          ],
          "name": "stdout"
        },
        {
          "output_type": "display_data",
          "data": {
            "application/vnd.jupyter.widget-view+json": {
              "model_id": "3db05372ed66410e815168f2bfe0ec62",
              "version_minor": 0,
              "version_major": 2
            },
            "text/plain": [
              "HBox(children=(IntProgress(value=1, bar_style='info', max=1), HTML(value='')))"
            ]
          },
          "metadata": {
            "tags": []
          }
        },
        {
          "output_type": "stream",
          "text": [
            "\n",
            "Extracting ./cifardata/cifar-10-python.tar.gz to ./cifardata\n",
            "Files already downloaded and verified\n"
          ],
          "name": "stdout"
        }
      ]
    },
    {
      "cell_type": "code",
      "metadata": {
        "id": "p2SZhOi06Oga"
      },
      "source": [
        "from torch.autograd import Variable\n",
        "import torch.nn.functional as F\n",
        "\n",
        "class SimpleCNN(torch.nn.Module):\n",
        "    \n",
        "    #Our batch shape for input x is (3, 32, 32)\n",
        "    \n",
        "    def __init__(self):\n",
        "        super(SimpleCNN, self).__init__()\n",
        "        \n",
        "        #Input channels = 3, output channels = 18\n",
        "        self.conv1 = torch.nn.Conv2d(3, 18, kernel_size=3, stride=1, padding=1)\n",
        "        self.pool = torch.nn.MaxPool2d(kernel_size=2, stride=2, padding=0)\n",
        "        \n",
        "        #4608 input features, 64 output features (see sizing flow below)\n",
        "        self.fc1 = torch.nn.Linear(18 * 16 * 16, 64)\n",
        "        \n",
        "        #64 input features, 10 output features for our 10 defined classes\n",
        "        self.fc2 = torch.nn.Linear(64, 10)\n",
        "        \n",
        "    def forward(self, x):\n",
        "        \n",
        "        #Computes the activation of the first convolution\n",
        "        #Size changes from (3, 32, 32) to (18, 32, 32)\n",
        "        x = F.relu(self.conv1(x))\n",
        "        \n",
        "        #Size changes from (18, 32, 32) to (18, 16, 16)\n",
        "        x = self.pool(x)\n",
        "        \n",
        "        #Reshape data to input to the input layer of the neural net\n",
        "        #Size changes from (18, 16, 16) to (1, 4608)\n",
        "        #Recall that the -1 infers this dimension from the other given dimension\n",
        "        x = x.view(-1, 18 * 16 *16)\n",
        "        \n",
        "        #Computes the activation of the first fully connected layer\n",
        "        #Size changes from (1, 4608) to (1, 64)\n",
        "        x = F.relu(self.fc1(x))\n",
        "        \n",
        "        #Computes the second fully connected layer (activation applied later)\n",
        "        #Size changes from (1, 64) to (1, 10)\n",
        "        x = self.fc2(x)\n",
        "        return(x)"
      ],
      "execution_count": null,
      "outputs": []
    },
    {
      "cell_type": "code",
      "metadata": {
        "id": "QqG8MMb86VPZ"
      },
      "source": [
        "import time\n",
        "\n",
        "def trainNet(net, batch_size, n_epochs, learning_rate):\n",
        "    \n",
        "    #Print all of the hyperparameters of the training iteration:\n",
        "    print(\"===== HYPERPARAMETERS =====\")\n",
        "    print(\"batch_size=\", batch_size)\n",
        "    print(\"epochs=\", n_epochs)\n",
        "    print(\"learning_rate=\", learning_rate)\n",
        "    print(\"=\" * 30)\n",
        "    \n",
        "    #Get training data\n",
        "    train_loader = get_train_loader(batch_size)\n",
        "    n_batches = len(train_loader)\n",
        "    \n",
        "    #Create our loss and optimizer functions\n",
        "    loss, optimizer = createLossAndOptimizer(net, learning_rate)\n",
        "    \n",
        "    #Time for printing\n",
        "    training_start_time = time.time()\n",
        "    \n",
        "    #Loop for n_epochs\n",
        "    for epoch in range(n_epochs):\n",
        "        \n",
        "        running_loss = 0.0\n",
        "        print_every = n_batches // 10\n",
        "        start_time = time.time()\n",
        "        total_train_loss = 0\n",
        "        \n",
        "        for i, data in enumerate(train_loader, 0):\n",
        "            \n",
        "            #Get inputs\n",
        "            inputs, labels = data\n",
        "            \n",
        "            #Wrap them in a Variable object\n",
        "            inputs, labels = Variable(inputs), Variable(labels)\n",
        "            \n",
        "            #Set the parameter gradients to zero\n",
        "            optimizer.zero_grad()\n",
        "            \n",
        "            #Forward pass, backward pass, optimize\n",
        "            outputs = net(inputs)\n",
        "            loss_size = loss(outputs, labels)\n",
        "            loss_size.backward()\n",
        "            optimizer.step()\n",
        "            \n",
        "            #Print statistics\n",
        "            running_loss += loss_size.data\n",
        "            total_train_loss += loss_size.data\n",
        "            \n",
        "            #Print every 10th batch of an epoch\n",
        "            if (i + 1) % (print_every + 1) == 0:\n",
        "                print(\"Epoch {}, {:d}% \\t train_loss: {:.2f} took: {:.2f}s\".format(\n",
        "                        epoch+1, int(100 * (i+1) / n_batches), running_loss / print_every, time.time() - start_time))\n",
        "                #Reset running loss and time\n",
        "                running_loss = 0.0\n",
        "                start_time = time.time()\n",
        "            \n",
        "        #At the end of the epoch, do a pass on the validation set\n",
        "        total_val_loss = 0\n",
        "        for inputs, labels in val_loader:\n",
        "            \n",
        "            #Wrap tensors in Variables\n",
        "            inputs, labels = Variable(inputs), Variable(labels)\n",
        "            \n",
        "            #Forward pass\n",
        "            val_outputs = net(inputs)\n",
        "            val_loss_size = loss(val_outputs, labels)\n",
        "            total_val_loss += val_loss_size.data\n",
        "            \n",
        "        print(\"Validation loss = {:.2f}\".format(total_val_loss / len(val_loader)))\n",
        "        \n",
        "    print(\"Training finished, took {:.2f}s\".format(time.time() - training_start_time))"
      ],
      "execution_count": null,
      "outputs": []
    },
    {
      "cell_type": "code",
      "metadata": {
        "id": "moG5XTiH6oPo"
      },
      "source": [
        "#DataLoader takes in a dataset and a sampler for loading (num_workers deals with system level memory) \n",
        "def get_train_loader(batch_size):\n",
        "    train_loader = torch.utils.data.DataLoader(train_set, batch_size=batch_size,\n",
        "                                           sampler=train_sampler, num_workers=2)\n",
        "    return(train_loader)"
      ],
      "execution_count": null,
      "outputs": []
    },
    {
      "cell_type": "code",
      "metadata": {
        "id": "C4Q2hngE6wUe"
      },
      "source": [
        "from torch.utils.data.sampler import SubsetRandomSampler\n",
        "\n",
        "#Training\n",
        "n_training_samples = 20000\n",
        "train_sampler = SubsetRandomSampler(np.arange(n_training_samples, dtype=np.int64))\n",
        "\n",
        "#Validation\n",
        "n_val_samples = 5000\n",
        "val_sampler = SubsetRandomSampler(np.arange(n_training_samples, n_training_samples + n_val_samples, dtype=np.int64))\n",
        "\n",
        "#Test\n",
        "n_test_samples = 5000\n",
        "test_sampler = SubsetRandomSampler(np.arange(n_test_samples, dtype=np.int64))"
      ],
      "execution_count": null,
      "outputs": []
    },
    {
      "cell_type": "code",
      "metadata": {
        "id": "nGg8PAQR63hl"
      },
      "source": [
        "import torch.optim as optim\n",
        "\n",
        "def createLossAndOptimizer(net, learning_rate=0.001):\n",
        "    \n",
        "    #Loss function\n",
        "    loss = torch.nn.CrossEntropyLoss()\n",
        "    \n",
        "    #Optimizer\n",
        "    optimizer = optim.Adam(net.parameters(), lr=learning_rate)\n",
        "    \n",
        "    return(loss, optimizer)"
      ],
      "execution_count": null,
      "outputs": []
    },
    {
      "cell_type": "code",
      "metadata": {
        "id": "znuUUb-67oTh"
      },
      "source": [
        "#Test and validation loaders have constant batch sizes, so we can define them directly\n",
        "test_loader = torch.utils.data.DataLoader(test_set, batch_size=4, sampler=test_sampler, num_workers=2)\n",
        "val_loader = torch.utils.data.DataLoader(train_set, batch_size=128, sampler=val_sampler, num_workers=2)"
      ],
      "execution_count": null,
      "outputs": []
    },
    {
      "cell_type": "code",
      "metadata": {
        "id": "5b_sQ6Of6U7S",
        "colab": {
          "base_uri": "https://localhost:8080/",
          "height": 985
        },
        "outputId": "a4d628cd-160a-4be2-ee0b-61391ca4dfec"
      },
      "source": [
        "CNN = SimpleCNN()\n",
        "trainNet(CNN, batch_size=32, n_epochs=5, learning_rate=0.001)"
      ],
      "execution_count": null,
      "outputs": [
        {
          "output_type": "stream",
          "text": [
            "===== HYPERPARAMETERS =====\n",
            "batch_size= 32\n",
            "epochs= 5\n",
            "learning_rate= 0.001\n",
            "==============================\n",
            "Epoch 1, 10% \t train_loss: 2.08 took: 1.35s\n",
            "Epoch 1, 20% \t train_loss: 1.82 took: 1.25s\n",
            "Epoch 1, 30% \t train_loss: 1.68 took: 1.31s\n",
            "Epoch 1, 40% \t train_loss: 1.64 took: 1.26s\n",
            "Epoch 1, 50% \t train_loss: 1.56 took: 1.31s\n",
            "Epoch 1, 60% \t train_loss: 1.52 took: 1.28s\n",
            "Epoch 1, 70% \t train_loss: 1.47 took: 1.27s\n",
            "Epoch 1, 80% \t train_loss: 1.44 took: 1.28s\n",
            "Epoch 1, 90% \t train_loss: 1.39 took: 1.29s\n",
            "Validation loss = 1.33\n",
            "Epoch 2, 10% \t train_loss: 1.32 took: 1.42s\n",
            "Epoch 2, 20% \t train_loss: 1.29 took: 1.44s\n",
            "Epoch 2, 30% \t train_loss: 1.30 took: 1.44s\n",
            "Epoch 2, 40% \t train_loss: 1.26 took: 1.39s\n",
            "Epoch 2, 50% \t train_loss: 1.24 took: 1.33s\n",
            "Epoch 2, 60% \t train_loss: 1.26 took: 1.39s\n",
            "Epoch 2, 70% \t train_loss: 1.26 took: 1.43s\n",
            "Epoch 2, 80% \t train_loss: 1.28 took: 1.44s\n",
            "Epoch 2, 90% \t train_loss: 1.23 took: 1.41s\n",
            "Validation loss = 1.22\n",
            "Epoch 3, 10% \t train_loss: 1.08 took: 1.45s\n",
            "Epoch 3, 20% \t train_loss: 1.09 took: 1.38s\n",
            "Epoch 3, 30% \t train_loss: 1.15 took: 1.39s\n",
            "Epoch 3, 40% \t train_loss: 1.12 took: 1.35s\n",
            "Epoch 3, 50% \t train_loss: 1.10 took: 1.35s\n",
            "Epoch 3, 60% \t train_loss: 1.14 took: 1.37s\n",
            "Epoch 3, 70% \t train_loss: 1.15 took: 1.44s\n",
            "Epoch 3, 80% \t train_loss: 1.15 took: 1.40s\n",
            "Epoch 3, 90% \t train_loss: 1.12 took: 1.45s\n",
            "Validation loss = 1.18\n",
            "Epoch 4, 10% \t train_loss: 1.01 took: 1.46s\n",
            "Epoch 4, 20% \t train_loss: 1.02 took: 1.36s\n",
            "Epoch 4, 30% \t train_loss: 1.01 took: 1.34s\n",
            "Epoch 4, 40% \t train_loss: 1.00 took: 1.49s\n",
            "Epoch 4, 50% \t train_loss: 1.03 took: 1.41s\n",
            "Epoch 4, 60% \t train_loss: 1.02 took: 1.40s\n",
            "Epoch 4, 70% \t train_loss: 1.07 took: 1.36s\n",
            "Epoch 4, 80% \t train_loss: 1.01 took: 1.40s\n",
            "Epoch 4, 90% \t train_loss: 1.02 took: 1.32s\n",
            "Validation loss = 1.15\n",
            "Epoch 5, 10% \t train_loss: 0.88 took: 1.48s\n",
            "Epoch 5, 20% \t train_loss: 0.95 took: 1.35s\n",
            "Epoch 5, 30% \t train_loss: 0.90 took: 1.38s\n",
            "Epoch 5, 40% \t train_loss: 0.94 took: 1.34s\n",
            "Epoch 5, 50% \t train_loss: 0.92 took: 1.39s\n",
            "Epoch 5, 60% \t train_loss: 0.94 took: 1.40s\n",
            "Epoch 5, 70% \t train_loss: 0.91 took: 1.39s\n",
            "Epoch 5, 80% \t train_loss: 0.94 took: 1.40s\n",
            "Epoch 5, 90% \t train_loss: 1.02 took: 1.43s\n",
            "Validation loss = 1.16\n",
            "Training finished, took 77.70s\n"
          ],
          "name": "stdout"
        }
      ]
    },
    {
      "cell_type": "markdown",
      "metadata": {
        "id": "feZW1olE18HO"
      },
      "source": [
        "# Demo: LSTMs for POS tagging\n",
        "\n",
        "O código desta seção é adaptado de https://pytorch.org/tutorials/beginner/nlp/sequence_models_tutorial.html"
      ]
    },
    {
      "cell_type": "code",
      "metadata": {
        "id": "jkUA-15F2CWK",
        "colab": {
          "base_uri": "https://localhost:8080/",
          "height": 35
        },
        "outputId": "61d09dcb-3cf9-4bb4-c7c2-6ec19e827ddd"
      },
      "source": [
        "import torch\n",
        "import torch.nn as nn\n",
        "import torch.nn.functional as F\n",
        "import torch.optim as optim\n",
        "\n",
        "torch.manual_seed(1)"
      ],
      "execution_count": null,
      "outputs": [
        {
          "output_type": "execute_result",
          "data": {
            "text/plain": [
              "<torch._C.Generator at 0x7f580ac3e450>"
            ]
          },
          "metadata": {
            "tags": []
          },
          "execution_count": 3
        }
      ]
    },
    {
      "cell_type": "code",
      "metadata": {
        "id": "ji_biIgp2K9O",
        "colab": {
          "base_uri": "https://localhost:8080/",
          "height": 35
        },
        "outputId": "8c6596b1-dfe5-4d2c-e455-28be4561b107"
      },
      "source": [
        "def prepare_sequence(seq, to_ix):\n",
        "    idxs = [to_ix[w] for w in seq]\n",
        "    return torch.tensor(idxs, dtype=torch.long)\n",
        "\n",
        "\n",
        "training_data = [\n",
        "    (\"The dog ate the apple\".split(), [\"DET\", \"NN\", \"V\", \"DET\", \"NN\"]),\n",
        "    (\"Everybody read that book\".split(), [\"NN\", \"V\", \"DET\", \"NN\"])\n",
        "]\n",
        "word_to_ix = {}\n",
        "for sent, tags in training_data:\n",
        "    for word in sent:\n",
        "        if word not in word_to_ix:\n",
        "            word_to_ix[word] = len(word_to_ix)\n",
        "print(word_to_ix)\n",
        "tag_to_ix = {\"DET\": 0, \"NN\": 1, \"V\": 2}\n",
        "\n",
        "# These will usually be more like 32 or 64 dimensional.\n",
        "# We will keep them small, so we can see how the weights change as we train.\n",
        "EMBEDDING_DIM = 6\n",
        "HIDDEN_DIM = 6"
      ],
      "execution_count": null,
      "outputs": [
        {
          "output_type": "stream",
          "text": [
            "{'The': 0, 'dog': 1, 'ate': 2, 'the': 3, 'apple': 4, 'Everybody': 5, 'read': 6, 'that': 7, 'book': 8}\n"
          ],
          "name": "stdout"
        }
      ]
    },
    {
      "cell_type": "code",
      "metadata": {
        "id": "V3Lj0qPk2d2X"
      },
      "source": [
        "class LSTMTagger(nn.Module):\n",
        "\n",
        "    def __init__(self, embedding_dim, hidden_dim, vocab_size, tagset_size):\n",
        "        super(LSTMTagger, self).__init__()\n",
        "        self.hidden_dim = hidden_dim\n",
        "\n",
        "        self.word_embeddings = nn.Embedding(vocab_size, embedding_dim)\n",
        "\n",
        "        # The LSTM takes word embeddings as inputs, and outputs hidden states\n",
        "        # with dimensionality hidden_dim.\n",
        "        self.lstm = nn.LSTM(embedding_dim, hidden_dim)\n",
        "\n",
        "        # The linear layer that maps from hidden state space to tag space\n",
        "        self.hidden2tag = nn.Linear(hidden_dim, tagset_size)\n",
        "\n",
        "    def forward(self, sentence):\n",
        "        embeds = self.word_embeddings(sentence)\n",
        "        lstm_out, _ = self.lstm(embeds.view(len(sentence), 1, -1))\n",
        "        tag_space = self.hidden2tag(lstm_out.view(len(sentence), -1))\n",
        "        tag_scores = F.log_softmax(tag_space, dim=1)\n",
        "        return tag_scores"
      ],
      "execution_count": null,
      "outputs": []
    },
    {
      "cell_type": "code",
      "metadata": {
        "id": "S2OpUMnN2kS5",
        "colab": {
          "base_uri": "https://localhost:8080/",
          "height": 190
        },
        "outputId": "b296c655-f0ff-4106-da67-3fa95259cccf"
      },
      "source": [
        "model = LSTMTagger(EMBEDDING_DIM, HIDDEN_DIM, len(word_to_ix), len(tag_to_ix))\n",
        "loss_function = nn.NLLLoss()\n",
        "optimizer = optim.SGD(model.parameters(), lr=0.1)\n",
        "\n",
        "# See what the scores are before training\n",
        "# Note that element i,j of the output is the score for tag j for word i.\n",
        "# Here we don't need to train, so the code is wrapped in torch.no_grad()\n",
        "with torch.no_grad():\n",
        "    inputs = prepare_sequence(training_data[0][0], word_to_ix)\n",
        "    tag_scores = model(inputs)\n",
        "    print(tag_scores)\n",
        "\n",
        "for epoch in range(300):  # again, normally you would NOT do 300 epochs, it is toy data\n",
        "    for sentence, tags in training_data:\n",
        "        # Step 1. Remember that Pytorch accumulates gradients.\n",
        "        # We need to clear them out before each instance\n",
        "        model.zero_grad()\n",
        "\n",
        "        # Step 2. Get our inputs ready for the network, that is, turn them into\n",
        "        # Tensors of word indices.\n",
        "        sentence_in = prepare_sequence(sentence, word_to_ix)\n",
        "        targets = prepare_sequence(tags, tag_to_ix)\n",
        "\n",
        "        # Step 3. Run our forward pass.\n",
        "        tag_scores = model(sentence_in)\n",
        "\n",
        "        # Step 4. Compute the loss, gradients, and update the parameters by\n",
        "        #  calling optimizer.step()\n",
        "        loss = loss_function(tag_scores, targets)\n",
        "        loss.backward()\n",
        "        optimizer.step()\n",
        "\n",
        "# See what the scores are after training\n",
        "with torch.no_grad():\n",
        "    inputs = prepare_sequence(training_data[0][0], word_to_ix)\n",
        "    tag_scores = model(inputs)\n",
        "\n",
        "    # The sentence is \"the dog ate the apple\".  i,j corresponds to score for tag j\n",
        "    # for word i. The predicted tag is the maximum scoring tag.\n",
        "    # Here, we can see the predicted sequence below is 0 1 2 0 1\n",
        "    # since 0 is index of the maximum value of row 1,\n",
        "    # 1 is the index of maximum value of row 2, etc.\n",
        "    # Which is DET NOUN VERB DET NOUN, the correct sequence!\n",
        "    print(tag_scores)"
      ],
      "execution_count": null,
      "outputs": [
        {
          "output_type": "stream",
          "text": [
            "tensor([[-1.0500, -0.9256, -1.3714],\n",
            "        [-1.0188, -0.9739, -1.3419],\n",
            "        [-1.1330, -0.9662, -1.2126],\n",
            "        [-1.1818, -0.9763, -1.1501],\n",
            "        [-1.0766, -0.9916, -1.2439]])\n",
            "tensor([[-0.3892, -1.2426, -3.3890],\n",
            "        [-2.1082, -0.1328, -5.8464],\n",
            "        [-3.0852, -5.9469, -0.0495],\n",
            "        [-0.0499, -3.4414, -4.0961],\n",
            "        [-2.4540, -0.0929, -5.8799]])\n"
          ],
          "name": "stdout"
        }
      ]
    },
    {
      "cell_type": "markdown",
      "metadata": {
        "id": "tCJtE2bZoLkp"
      },
      "source": [
        "    (\"The dog ate the apple\", [\"DET\", \"NN\", \"V\", \"DET\", \"NN\"]),\n",
        "\n",
        "    {\"DET\": 0, \"NN\": 1, \"V\": 2}\n"
      ]
    }
  ]
}